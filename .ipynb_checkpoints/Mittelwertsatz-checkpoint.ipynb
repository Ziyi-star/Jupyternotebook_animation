{
 "cells": [
  {
   "cell_type": "code",
   "execution_count": 1,
   "id": "2b079149-305e-4cfc-a8b0-d9feb9262281",
   "metadata": {},
   "outputs": [],
   "source": [
    "import numpy as np\n",
    "import matplotlib.pyplot as plt\n",
    "from ipywidgets import interactive\n",
    "from scipy.integrate import quad"
   ]
  },
  {
   "cell_type": "code",
   "execution_count": 2,
   "id": "4916007a-239f-4061-a874-4528a15becd0",
   "metadata": {},
   "outputs": [],
   "source": [
    "# Fixed parameters\n",
    "a = 0\n",
    "b = 5"
   ]
  },
  {
   "cell_type": "code",
   "execution_count": 5,
   "id": "ba2950b3-50ad-471d-a14f-1d1822ebe549",
   "metadata": {},
   "outputs": [],
   "source": [
    "# Function to calculate the integral and plot the result\n",
    "def update_plot(xi):\n",
    "    # Define the function f(x)\n",
    "    def f(x):\n",
    "        return x**2  # Example function\n",
    "\n",
    "    # Generate x values for plotting\n",
    "    x = np.linspace(a - 1, b + 1, 500)\n",
    "    y = f(x)\n",
    "    \n",
    "    # Compute the integral\n",
    "    integral_value, _ = quad(f, a, b)\n",
    "    \n",
    "    # Rectangle area\n",
    "    rectangle_area = f(xi) * (b - a)\n",
    "\n",
    "    # Clear previous plot\n",
    "    plt.clf()\n",
    "\n",
    "    # Plot the function f(x)\n",
    "    plt.plot(x, y, label=r\"$f(x)$\", color=\"blue\", zorder=1)\n",
    "    \n",
    "    # Fill the area under the curve (the integral)\n",
    "    x_fill = np.linspace(a, b, 500)\n",
    "    y_fill = f(x_fill)\n",
    "    plt.fill_between(x_fill, y_fill, color=\"green\", alpha=0.3, label=r\"$\\int_a^b f(x) dx$\", zorder=0)\n",
    "    \n",
    "    # Draw the rectangle corresponding to f(xi)*(b-a)\n",
    "    plt.fill_between([a, b], [f(xi), f(xi)], color=\"orange\", alpha=0.5, label=r\"$f(\\xi)(b-a)$\", zorder=2)\n",
    "    \n",
    "    # Highlight the point at xi\n",
    "    plt.scatter([xi], [f(xi)], color=\"red\", zorder=3, label=r\"$f(\\xi)$\")\n",
    "    \n",
    "    # Plot horizontal and vertical dashed lines for the rectangle\n",
    "    plt.axhline(y=f(xi), xmin=(a + 1) / (b - a + 1), xmax=(b + 1) / (b - a + 1), color=\"orange\", linestyle=\"--\", zorder=1)\n",
    "    plt.axvline(x=xi, ymin=0, ymax=f(xi) / max(y), color=\"red\", linestyle=\"--\", zorder=1)\n",
    "    \n",
    "    # Set axes limits\n",
    "    plt.xlim([a - 1, b + 1])\n",
    "    plt.ylim([0, max(y) + 5])\n",
    "\n",
    "    # Annotations\n",
    "    plt.title(r\"Interactive Mean Value Theorem for Integrals (Fixed $a=0$, $b=5$)\")\n",
    "    plt.xlabel(r\"$x$\")\n",
    "    plt.ylabel(r\"$f(x)$\")\n",
    "    plt.legend()\n",
    "    plt.grid(alpha=0.3)\n",
    "\n",
    "    # Print the calculated values\n",
    "    print(f\"Integral value (area under curve): {integral_value:.4f}\")\n",
    "    print(f\"Rectangle area (f(xi)*(b-a)): {rectangle_area:.4f}\")\n",
    "\n",
    "    # Show the plot\n",
    "    plt.show()"
   ]
  },
  {
   "cell_type": "code",
   "execution_count": 7,
   "id": "d2b3fef9-b623-4f30-ad82-8cf93fb6bd46",
   "metadata": {},
   "outputs": [
    {
     "data": {
      "application/vnd.jupyter.widget-view+json": {
       "model_id": "553875e1a99e4e09949c8d146bb0a5cb",
       "version_major": 2,
       "version_minor": 0
      },
      "text/plain": [
       "interactive(children=(FloatSlider(value=2.0, description='xi', max=5.0, step=0.005), Output()), _dom_classes=(…"
      ]
     },
     "execution_count": 7,
     "metadata": {},
     "output_type": "execute_result"
    }
   ],
   "source": [
    "# Create an interactive slider for xi\n",
    "interactive(update_plot, xi=(a, b, 0.005))"
   ]
  },
  {
   "cell_type": "code",
   "execution_count": null,
   "id": "9d6320af-9086-4473-9872-72354bb019b5",
   "metadata": {},
   "outputs": [],
   "source": []
  },
  {
   "cell_type": "code",
   "execution_count": null,
   "id": "f9aec7c7-425c-4d2f-80a1-e2bb07692d3c",
   "metadata": {},
   "outputs": [],
   "source": []
  }
 ],
 "metadata": {
  "kernelspec": {
   "display_name": "Python 3 (ipykernel)",
   "language": "python",
   "name": "python3"
  },
  "language_info": {
   "codemirror_mode": {
    "name": "ipython",
    "version": 3
   },
   "file_extension": ".py",
   "mimetype": "text/x-python",
   "name": "python",
   "nbconvert_exporter": "python",
   "pygments_lexer": "ipython3",
   "version": "3.12.4"
  }
 },
 "nbformat": 4,
 "nbformat_minor": 5
}
