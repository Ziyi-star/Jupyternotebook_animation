{
 "cells": [
  {
   "cell_type": "code",
   "execution_count": 34,
   "id": "a0058052-66a3-4593-9c80-83ba8abfe3f7",
   "metadata": {},
   "outputs": [],
   "source": [
    "import numpy as np\n",
    "import matplotlib.pyplot as plt\n",
    "import ipywidgets as widgets\n",
    "from ipywidgets import interact"
   ]
  },
  {
   "cell_type": "code",
   "execution_count": 68,
   "id": "8c1d926c-8c69-47ad-b16e-7ff7d9f0e211",
   "metadata": {},
   "outputs": [],
   "source": [
    "# Define the piecewise function:\n",
    "#   f(x) = sin(x)  if x < 0\n",
    "#   f(x) = cos(x)  if x > 0\n",
    "def f(x):\n",
    "    \"\"\"\n",
    "    Piecewise function:\n",
    "        f(x) = sin(x) if x < 0\n",
    "        f(x) = cos(x) if x > 0\n",
    "        f(0) = NaN (so that x=0 is left out)\n",
    "    \"\"\"\n",
    "    x = np.asarray(x)\n",
    "    return np.where(x < 0,\n",
    "                    np.sin(x),            # branch for x < 0\n",
    "                    np.where(x > 0,\n",
    "                             np.cos(x),   # branch for x > 0\n",
    "                             np.nan))     # x = 0 => NaN\n",
    "\n",
    "def plot_epsilon_delta(epsilon, delta, x0):\n",
    "    # Create a figure\n",
    "    fig, ax = plt.subplots(figsize=(10,6))\n",
    "    \n",
    "    # Evaluate f(x) over a domain for plotting\n",
    "    x_vals = np.linspace(-10, 10, 400)\n",
    "    y_vals = f(x_vals)\n",
    "    \n",
    "    # Plot the piecewise function\n",
    "    ax.plot(x_vals, y_vals, 'g', label=r'$f(x)$')\n",
    "    \n",
    "    # Compute f(x0)\n",
    "    fx0 = f(np.array([x0]))[0]\n",
    "    \n",
    "    # Highlight the point (x0, f(x0))\n",
    "    ax.plot(x0, fx0, 'o', color='orange', label='(x0, f(x0))')\n",
    "    \n",
    "    # Fill the horizontal band:  f(x0) ± epsilon\n",
    "    ax.fill_between(x_vals, fx0 - epsilon, fx0 + epsilon, \n",
    "                    color='orange', alpha=0.2, \n",
    "                    label=r'$\\pm\\epsilon$-band')\n",
    "    \n",
    "    # Fill the vertical band:  x0 ± delta\n",
    "    ax.axvspan(x0 - delta, x0 + delta, \n",
    "               color='purple', alpha=0.2, \n",
    "               label=r'$\\pm\\delta$-band')\n",
    "    \n",
    "    # Axis lines etc.\n",
    "    ax.axhline(0, color='black', linewidth=0.5)\n",
    "    ax.axvline(0, color='black', linewidth=0.5)\n",
    "    ax.set_xlim([-10, 10])\n",
    "    ax.set_ylim([-2, 2])\n",
    "    ax.set_xlabel('x')\n",
    "    ax.set_ylabel('f(x)')\n",
    "    ax.legend(loc='upper right')\n",
    "    plt.show()"
   ]
  },
  {
   "cell_type": "code",
   "execution_count": 70,
   "id": "886a56ef-95bb-4999-9b88-7fb8b2595473",
   "metadata": {},
   "outputs": [
    {
     "data": {
      "application/vnd.jupyter.widget-view+json": {
       "model_id": "f6e574ac48fd4a54bc6d87c912ff2472",
       "version_major": 2,
       "version_minor": 0
      },
      "text/plain": [
       "interactive(children=(FloatSlider(value=1.0, description='epsilon', max=2.0), FloatSlider(value=1.0, descripti…"
      ]
     },
     "metadata": {},
     "output_type": "display_data"
    }
   ],
   "source": [
    "# Create interactive sliders for epsilon, delta, and x0\n",
    "interact(\n",
    "    plot_epsilon_delta,\n",
    "    epsilon=widgets.FloatSlider(value=1.0, min=0.0, max=2.0, step=0.1),\n",
    "    delta=widgets.FloatSlider(value=1.0, min=0.0, max=2.0, step=0.1),\n",
    "    x0=widgets.FloatSlider(value=0.0, min=-10.0, max=10.0, step=0.5)\n",
    ");"
   ]
  },
  {
   "cell_type": "code",
   "execution_count": null,
   "id": "05aeef0f-77f2-4fd9-9b41-fc9ecb16e826",
   "metadata": {},
   "outputs": [],
   "source": []
  }
 ],
 "metadata": {
  "kernelspec": {
   "display_name": "Python 3 (ipykernel)",
   "language": "python",
   "name": "python3"
  },
  "language_info": {
   "codemirror_mode": {
    "name": "ipython",
    "version": 3
   },
   "file_extension": ".py",
   "mimetype": "text/x-python",
   "name": "python",
   "nbconvert_exporter": "python",
   "pygments_lexer": "ipython3",
   "version": "3.12.4"
  }
 },
 "nbformat": 4,
 "nbformat_minor": 5
}
