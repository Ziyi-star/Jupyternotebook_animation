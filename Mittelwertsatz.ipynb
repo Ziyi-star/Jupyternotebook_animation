{
  "cells": [
    {
      "cell_type": "markdown",
      "metadata": {
        "id": "view-in-github",
        "colab_type": "text"
      },
      "source": [
        "<a href=\"https://colab.research.google.com/github/Ziyi-star/Jupyternotebook_animation/blob/main/Mittelwertsatz.ipynb\" target=\"_parent\"><img src=\"https://colab.research.google.com/assets/colab-badge.svg\" alt=\"Open In Colab\"/></a>"
      ]
    },
    {
      "cell_type": "code",
      "execution_count": 1,
      "id": "2b079149-305e-4cfc-a8b0-d9feb9262281",
      "metadata": {
        "id": "2b079149-305e-4cfc-a8b0-d9feb9262281"
      },
      "outputs": [],
      "source": [
        "import numpy as np\n",
        "import matplotlib.pyplot as plt\n",
        "from ipywidgets import interact\n",
        "from scipy.integrate import quad\n",
        "import ipywidgets as widgets\n",
        "\n",
        "def f(x):\n",
        "    return x**2  # Example function\n",
        "\n",
        "def mittelwertsatz(xi):\n",
        "    x = np.linspace(0, 5, 1000)\n",
        "    y = f(x)\n",
        "\n",
        "    # Plot the function f(x)\n",
        "    plt.plot(x, y, label=r\"$f(x)$\", color=\"blue\")\n",
        "\n",
        "    #alpha transparency\n",
        "    plt.fill_between(x, y, color=\"green\", alpha=0.3, label=r\"$\\int_a^b f(x) dx$\")\n",
        "    # Compute the integral from 0 to 5\n",
        "    integral_value, error = quad(f, 0, 5)\n",
        "\n",
        "    # Rectangle area\n",
        "    rectangle_area = f(xi) * (5 - 0)\n",
        "\n",
        "    # Draw the rectangle corresponding to f(xi)*(b-a)\n",
        "    plt.fill_between([0, 5], [f(xi), f(xi)], color=\"orange\", alpha=0.2, label=r\"$f(\\xi)(b-a)$\")\n",
        "\n",
        "    # Highlight the point at xi\n",
        "    plt.scatter([xi], [f(xi)], color=\"red\", label=r\"$f(\\xi)$\")\n",
        "\n",
        "    # horizontal dashed lines\n",
        "    plt.axhline(y=f(xi), xmin=0, xmax=xi/ max(x), color=\"red\", linestyle=\"--\")\n",
        "    # vertical dashed lines\n",
        "    # ymax=f(xi)/ max(y): normalize the y value\n",
        "    plt.axvline(x=xi, ymin=0, ymax=f(xi)/ max(y), color=\"red\", linestyle=\"--\")\n",
        "\n",
        "    # Set axes limits\n",
        "    plt.xlim([0, 5])\n",
        "    plt.ylim([0, 25])\n",
        "\n",
        "    # Annotations\n",
        "    plt.title(r\"Mittelwertsatz: ($a=0$, $b=5$)\")\n",
        "    plt.xlabel(r\"$x$\")\n",
        "    plt.ylabel(r\"$f(x)$\")\n",
        "    plt.legend()\n",
        "    plt.grid(alpha=0.3)\n",
        "    plt.show()\n",
        "\n",
        "    # Print the calculated values\n",
        "    print(f\"Integral value (area under curve): {integral_value:.2f}\")\n",
        "    print(f\"Rectangle area (f(xi)*(b-a)): {rectangle_area:.2f}\")\n",
        "\n",
        "slider = widgets.FloatSlider(\n",
        "    value=2.5,\n",
        "    min=0,\n",
        "    max=5,\n",
        "    step=0.01,\n",
        "    description='xi:',\n",
        "    continuous_update=False,\n",
        "    layout=widgets.Layout(width='500px', height='50px'),  # Adjust the width and height\n",
        ")\n",
        "\n",
        "\n",
        "# for main\n",
        "def create_mittelwertsatz_plot():\n",
        "    interact(mittelwertsatz, xi=slider)\n"
      ]
    },
    {
      "cell_type": "code",
      "execution_count": 2,
      "id": "a9731b1e",
      "metadata": {
        "id": "a9731b1e",
        "outputId": "42a8c6fb-2c7f-46f5-c6cf-6ff7e7dc6f5b",
        "colab": {
          "referenced_widgets": [
            "d3061f25e71346a1ae86baaf7265c986",
            "ec787a462e73485084b881106768dbbc",
            "901c85e2e6f246a9866f985a44fec94d",
            "1df0ff55c74b4b86a9e0f1019cef820a",
            "9dd5669c8f8944bcbbdd4be5c725964b",
            "f4443d75823f46e5a1e916df455daa86",
            "d4866158cef44e4f9080aaecf2dd7fcd"
          ],
          "base_uri": "https://localhost:8080/",
          "height": 650
        }
      },
      "outputs": [
        {
          "output_type": "display_data",
          "data": {
            "text/plain": [
              "interactive(children=(FloatSlider(value=2.5, continuous_update=False, description='xi:', layout=Layout(height=…"
            ],
            "application/vnd.jupyter.widget-view+json": {
              "version_major": 2,
              "version_minor": 0,
              "model_id": "d3061f25e71346a1ae86baaf7265c986"
            }
          },
          "metadata": {}
        },
        {
          "output_type": "execute_result",
          "data": {
            "text/plain": [
              "<function __main__.mittelwertsatz(xi)>"
            ],
            "text/html": [
              "<div style=\"max-width:800px; border: 1px solid var(--colab-border-color);\"><style>\n",
              "      pre.function-repr-contents {\n",
              "        overflow-x: auto;\n",
              "        padding: 8px 12px;\n",
              "        max-height: 500px;\n",
              "      }\n",
              "\n",
              "      pre.function-repr-contents.function-repr-contents-collapsed {\n",
              "        cursor: pointer;\n",
              "        max-height: 100px;\n",
              "      }\n",
              "    </style>\n",
              "    <pre style=\"white-space: initial; background:\n",
              "         var(--colab-secondary-surface-color); padding: 8px 12px;\n",
              "         border-bottom: 1px solid var(--colab-border-color);\"><b>mittelwertsatz</b><br/>def mittelwertsatz(xi)</pre><pre class=\"function-repr-contents function-repr-contents-collapsed\" style=\"\"><a class=\"filepath\" style=\"display:none\" href=\"#\">/content/&lt;ipython-input-1-c7772810389c&gt;</a>&lt;no docstring&gt;</pre></div>"
            ]
          },
          "metadata": {},
          "execution_count": 2
        }
      ],
      "source": [
        "interact(mittelwertsatz, xi=slider)"
      ]
    },
    {
      "cell_type": "code",
      "execution_count": null,
      "id": "5ceecdf6",
      "metadata": {
        "id": "5ceecdf6"
      },
      "outputs": [],
      "source": []
    }
  ],
  "metadata": {
    "kernelspec": {
      "display_name": "base",
      "language": "python",
      "name": "python3"
    },
    "language_info": {
      "codemirror_mode": {
        "name": "ipython",
        "version": 3
      },
      "file_extension": ".py",
      "mimetype": "text/x-python",
      "name": "python",
      "nbconvert_exporter": "python",
      "pygments_lexer": "ipython3",
      "version": "3.12.4"
    },
    "colab": {
      "provenance": [],
      "include_colab_link": true
    },
    "widgets": {
      "application/vnd.jupyter.widget-state+json": {
        "d3061f25e71346a1ae86baaf7265c986": {
          "model_module": "@jupyter-widgets/controls",
          "model_name": "VBoxModel",
          "model_module_version": "1.5.0",
          "state": {
            "_dom_classes": [
              "widget-interact"
            ],
            "_model_module": "@jupyter-widgets/controls",
            "_model_module_version": "1.5.0",
            "_model_name": "VBoxModel",
            "_view_count": null,
            "_view_module": "@jupyter-widgets/controls",
            "_view_module_version": "1.5.0",
            "_view_name": "VBoxView",
            "box_style": "",
            "children": [
              "IPY_MODEL_ec787a462e73485084b881106768dbbc",
              "IPY_MODEL_901c85e2e6f246a9866f985a44fec94d"
            ],
            "layout": "IPY_MODEL_1df0ff55c74b4b86a9e0f1019cef820a"
          }
        },
        "ec787a462e73485084b881106768dbbc": {
          "model_module": "@jupyter-widgets/controls",
          "model_name": "FloatSliderModel",
          "model_module_version": "1.5.0",
          "state": {
            "_dom_classes": [],
            "_model_module": "@jupyter-widgets/controls",
            "_model_module_version": "1.5.0",
            "_model_name": "FloatSliderModel",
            "_view_count": null,
            "_view_module": "@jupyter-widgets/controls",
            "_view_module_version": "1.5.0",
            "_view_name": "FloatSliderView",
            "continuous_update": false,
            "description": "xi:",
            "description_tooltip": null,
            "disabled": false,
            "layout": "IPY_MODEL_9dd5669c8f8944bcbbdd4be5c725964b",
            "max": 5,
            "min": 0,
            "orientation": "horizontal",
            "readout": true,
            "readout_format": ".2f",
            "step": 0.01,
            "style": "IPY_MODEL_f4443d75823f46e5a1e916df455daa86",
            "value": 2.5
          }
        },
        "901c85e2e6f246a9866f985a44fec94d": {
          "model_module": "@jupyter-widgets/output",
          "model_name": "OutputModel",
          "model_module_version": "1.0.0",
          "state": {
            "_dom_classes": [],
            "_model_module": "@jupyter-widgets/output",
            "_model_module_version": "1.0.0",
            "_model_name": "OutputModel",
            "_view_count": null,
            "_view_module": "@jupyter-widgets/output",
            "_view_module_version": "1.0.0",
            "_view_name": "OutputView",
            "layout": "IPY_MODEL_d4866158cef44e4f9080aaecf2dd7fcd",
            "msg_id": "",
            "outputs": [
              {
                "output_type": "display_data",
                "data": {
                  "text/plain": "<Figure size 640x480 with 1 Axes>",
                  "image/png": "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\n"
                },
                "metadata": {}
              },
              {
                "output_type": "stream",
                "name": "stdout",
                "text": [
                  "Integral value (area under curve): 41.67\n",
                  "Rectangle area (f(xi)*(b-a)): 31.25\n"
                ]
              }
            ]
          }
        },
        "1df0ff55c74b4b86a9e0f1019cef820a": {
          "model_module": "@jupyter-widgets/base",
          "model_name": "LayoutModel",
          "model_module_version": "1.2.0",
          "state": {
            "_model_module": "@jupyter-widgets/base",
            "_model_module_version": "1.2.0",
            "_model_name": "LayoutModel",
            "_view_count": null,
            "_view_module": "@jupyter-widgets/base",
            "_view_module_version": "1.2.0",
            "_view_name": "LayoutView",
            "align_content": null,
            "align_items": null,
            "align_self": null,
            "border": null,
            "bottom": null,
            "display": null,
            "flex": null,
            "flex_flow": null,
            "grid_area": null,
            "grid_auto_columns": null,
            "grid_auto_flow": null,
            "grid_auto_rows": null,
            "grid_column": null,
            "grid_gap": null,
            "grid_row": null,
            "grid_template_areas": null,
            "grid_template_columns": null,
            "grid_template_rows": null,
            "height": null,
            "justify_content": null,
            "justify_items": null,
            "left": null,
            "margin": null,
            "max_height": null,
            "max_width": null,
            "min_height": null,
            "min_width": null,
            "object_fit": null,
            "object_position": null,
            "order": null,
            "overflow": null,
            "overflow_x": null,
            "overflow_y": null,
            "padding": null,
            "right": null,
            "top": null,
            "visibility": null,
            "width": null
          }
        },
        "9dd5669c8f8944bcbbdd4be5c725964b": {
          "model_module": "@jupyter-widgets/base",
          "model_name": "LayoutModel",
          "model_module_version": "1.2.0",
          "state": {
            "_model_module": "@jupyter-widgets/base",
            "_model_module_version": "1.2.0",
            "_model_name": "LayoutModel",
            "_view_count": null,
            "_view_module": "@jupyter-widgets/base",
            "_view_module_version": "1.2.0",
            "_view_name": "LayoutView",
            "align_content": null,
            "align_items": null,
            "align_self": null,
            "border": null,
            "bottom": null,
            "display": null,
            "flex": null,
            "flex_flow": null,
            "grid_area": null,
            "grid_auto_columns": null,
            "grid_auto_flow": null,
            "grid_auto_rows": null,
            "grid_column": null,
            "grid_gap": null,
            "grid_row": null,
            "grid_template_areas": null,
            "grid_template_columns": null,
            "grid_template_rows": null,
            "height": "50px",
            "justify_content": null,
            "justify_items": null,
            "left": null,
            "margin": null,
            "max_height": null,
            "max_width": null,
            "min_height": null,
            "min_width": null,
            "object_fit": null,
            "object_position": null,
            "order": null,
            "overflow": null,
            "overflow_x": null,
            "overflow_y": null,
            "padding": null,
            "right": null,
            "top": null,
            "visibility": null,
            "width": "500px"
          }
        },
        "f4443d75823f46e5a1e916df455daa86": {
          "model_module": "@jupyter-widgets/controls",
          "model_name": "SliderStyleModel",
          "model_module_version": "1.5.0",
          "state": {
            "_model_module": "@jupyter-widgets/controls",
            "_model_module_version": "1.5.0",
            "_model_name": "SliderStyleModel",
            "_view_count": null,
            "_view_module": "@jupyter-widgets/base",
            "_view_module_version": "1.2.0",
            "_view_name": "StyleView",
            "description_width": "",
            "handle_color": null
          }
        },
        "d4866158cef44e4f9080aaecf2dd7fcd": {
          "model_module": "@jupyter-widgets/base",
          "model_name": "LayoutModel",
          "model_module_version": "1.2.0",
          "state": {
            "_model_module": "@jupyter-widgets/base",
            "_model_module_version": "1.2.0",
            "_model_name": "LayoutModel",
            "_view_count": null,
            "_view_module": "@jupyter-widgets/base",
            "_view_module_version": "1.2.0",
            "_view_name": "LayoutView",
            "align_content": null,
            "align_items": null,
            "align_self": null,
            "border": null,
            "bottom": null,
            "display": null,
            "flex": null,
            "flex_flow": null,
            "grid_area": null,
            "grid_auto_columns": null,
            "grid_auto_flow": null,
            "grid_auto_rows": null,
            "grid_column": null,
            "grid_gap": null,
            "grid_row": null,
            "grid_template_areas": null,
            "grid_template_columns": null,
            "grid_template_rows": null,
            "height": null,
            "justify_content": null,
            "justify_items": null,
            "left": null,
            "margin": null,
            "max_height": null,
            "max_width": null,
            "min_height": null,
            "min_width": null,
            "object_fit": null,
            "object_position": null,
            "order": null,
            "overflow": null,
            "overflow_x": null,
            "overflow_y": null,
            "padding": null,
            "right": null,
            "top": null,
            "visibility": null,
            "width": null
          }
        }
      }
    }
  },
  "nbformat": 4,
  "nbformat_minor": 5
}