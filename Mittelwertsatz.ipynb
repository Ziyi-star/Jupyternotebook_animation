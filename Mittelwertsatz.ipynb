{
 "cells": [
  {
   "cell_type": "code",
   "execution_count": null,
   "id": "2b079149-305e-4cfc-a8b0-d9feb9262281",
   "metadata": {},
   "outputs": [],
   "source": [
    "import numpy as np\n",
    "import matplotlib.pyplot as plt\n",
    "from ipywidgets import interact\n",
    "from scipy.integrate import quad\n",
    "import ipywidgets as widgets\n",
    "\n",
    "def f(x):\n",
    "    return x**2  # Example function\n",
    "\n",
    "def mittelwertsatz(xi):\n",
    "    x = np.linspace(0, 5, 1000)\n",
    "    y = f(x)\n",
    "\n",
    "    # Plot the function f(x)\n",
    "    plt.plot(x, y, label=r\"$f(x)$\", color=\"blue\")\n",
    "\n",
    "    #alpha transparency\n",
    "    plt.fill_between(x, y, color=\"green\", alpha=0.3, label=r\"$\\int_a^b f(x) dx$\")\n",
    "    # Compute the integral from 0 to 5\n",
    "    integral_value, error = quad(f, 0, 5)\n",
    "    \n",
    "    # Rectangle area\n",
    "    rectangle_area = f(xi) * (5 - 0)\n",
    "\n",
    "    # Draw the rectangle corresponding to f(xi)*(b-a)\n",
    "    plt.fill_between([0, 5], [f(xi), f(xi)], color=\"orange\", alpha=0.2, label=r\"$f(\\xi)(b-a)$\")\n",
    "\n",
    "    # Highlight the point at xi\n",
    "    plt.scatter([xi], [f(xi)], color=\"red\", label=r\"$f(\\xi)$\")\n",
    "\n",
    "    # horizontal dashed lines \n",
    "    plt.axhline(y=f(xi), xmin=0, xmax=xi/ max(x), color=\"red\", linestyle=\"--\")\n",
    "    # vertical dashed lines\n",
    "    # ymax=f(xi)/ max(y): normalize the y value\n",
    "    plt.axvline(x=xi, ymin=0, ymax=f(xi)/ max(y), color=\"red\", linestyle=\"--\")\n",
    "\n",
    "    # Set axes limits\n",
    "    plt.xlim([0, 5])\n",
    "    plt.ylim([0, 25])\n",
    "\n",
    "    # Annotations\n",
    "    plt.title(r\"Mittelwertsatz: ($a=0$, $b=5$)\")\n",
    "    plt.xlabel(r\"$x$\")\n",
    "    plt.ylabel(r\"$f(x)$\")\n",
    "    plt.legend()\n",
    "    plt.grid(alpha=0.3)\n",
    "    plt.show()\n",
    "\n",
    "    # Print the calculated values\n",
    "    print(f\"Integral value (area under curve): {integral_value:.2f}\")\n",
    "    print(f\"Rectangle area (f(xi)*(b-a)): {rectangle_area:.2f}\")\n",
    "\n",
    "slider = widgets.FloatSlider(\n",
    "    value=2.5,\n",
    "    min=0,\n",
    "    max=5,\n",
    "    step=0.01,\n",
    "    description='xi:',\n",
    "    continuous_update=False,\n",
    "    layout=widgets.Layout(width='500px', height='50px'),  # Adjust the width and height\n",
    ")\n",
    "\n",
    "\n",
    "# for main\n",
    "def create_mittelwertsatz_plot():\n",
    "    interact(mittelwertsatz, xi=slider)\n"
   ]
  },
  {
   "cell_type": "code",
   "execution_count": 190,
   "id": "a9731b1e",
   "metadata": {},
   "outputs": [
    {
     "data": {
      "application/vnd.jupyter.widget-view+json": {
       "model_id": "eb3decfded4a41c6b816b3d15c248351",
       "version_major": 2,
       "version_minor": 0
      },
      "text/plain": [
       "interactive(children=(FloatSlider(value=2.5, continuous_update=False, description='xi:', layout=Layout(height=…"
      ]
     },
     "metadata": {},
     "output_type": "display_data"
    },
    {
     "data": {
      "text/plain": [
       "<function __main__.mittelwertsatz(xi)>"
      ]
     },
     "execution_count": 190,
     "metadata": {},
     "output_type": "execute_result"
    }
   ],
   "source": [
    "interact(mittelwertsatz, xi=slider)"
   ]
  },
  {
   "cell_type": "code",
   "execution_count": null,
   "id": "5ceecdf6",
   "metadata": {},
   "outputs": [],
   "source": []
  }
 ],
 "metadata": {
  "kernelspec": {
   "display_name": "base",
   "language": "python",
   "name": "python3"
  },
  "language_info": {
   "codemirror_mode": {
    "name": "ipython",
    "version": 3
   },
   "file_extension": ".py",
   "mimetype": "text/x-python",
   "name": "python",
   "nbconvert_exporter": "python",
   "pygments_lexer": "ipython3",
   "version": "3.12.4"
  }
 },
 "nbformat": 4,
 "nbformat_minor": 5
}
