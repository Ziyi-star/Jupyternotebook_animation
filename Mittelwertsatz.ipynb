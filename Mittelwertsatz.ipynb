{
 "cells": [
  {
   "cell_type": "code",
   "execution_count": 29,
   "id": "2b079149-305e-4cfc-a8b0-d9feb9262281",
   "metadata": {},
   "outputs": [],
   "source": [
    "import numpy as np\n",
    "import matplotlib.pyplot as plt\n",
    "from ipywidgets import interact\n",
    "from scipy.integrate import quad"
   ]
  },
  {
   "cell_type": "code",
   "execution_count": 30,
   "id": "ba2950b3-50ad-471d-a14f-1d1822ebe549",
   "metadata": {},
   "outputs": [],
   "source": [
    "# Define the function f(x)\n",
    "def f(x):\n",
    "    return x**2  # Example function\n",
    "\n",
    "a = 0\n",
    "b = 4"
   ]
  },
  {
   "cell_type": "code",
   "execution_count": null,
   "id": "c82ffc75",
   "metadata": {},
   "outputs": [
    {
     "name": "stdout",
     "output_type": "stream",
     "text": [
      "(41.66666666666666, 4.625929269271485e-13)\n"
     ]
    }
   ],
   "source": [
    "x = np.linspace(0, 5, 1000)\n",
    "y = f(x)\n",
    "\n",
    "# Compute the integral from 0 to 5,\n",
    "# return the value and the error\n",
    "integral_value = quad(f, 0, 5)\n",
    "print(integral_value)"
   ]
  },
  {
   "cell_type": "code",
   "execution_count": null,
   "id": "3099a5d4",
   "metadata": {},
   "outputs": [
    {
     "data": {
      "text/plain": [
       "<matplotlib.collections.FillBetweenPolyCollection at 0x23cb8f0d820>"
      ]
     },
     "execution_count": 35,
     "metadata": {},
     "output_type": "execute_result"
    },
    {
     "data": {
      "image/png": "[encoded data removed]",
      "text/plain": [
       "<Figure size 640x480 with 1 Axes>"
      ]
     },
     "metadata": {},
     "output_type": "display_data"
    }
   ],
   "source": [
    "    # Generate x values for plotting\n",
    "xi = 2.5\n",
    "x = np.linspace(0, 5, 1000)\n",
    "y = f(x)\n",
    "\n",
    "# Compute the integral from 0 to 5\n",
    "integral_value, error = quad(f, 0, 5)\n",
    "\n",
    "# Rectangle area\n",
    "rectangle_area = f(xi) * (5 - 0)\n",
    "\n",
    "# Plot the function f(x)\n",
    "plt.plot(x, y, label=r\"$f(x)$\", color=\"blue\")\n",
    "#alpha is the transparency\n",
    "plt.fill_between(x, y, color=\"green\", alpha=0.3)"
   ]
  },
  {
   "cell_type": "code",
   "execution_count": null,
   "id": "24770033",
   "metadata": {},
   "outputs": [],
   "source": [
    "# Function to calculate the integral and plot the result\n",
    "def update_plot(xi):\n",
    "    # Generate x values for plotting\n",
    "    x = np.linspace(0, 5, 1000)\n",
    "    y = f(x)\n",
    "    \n",
    "    # Compute the integral from 0 to 5\n",
    "    integral_value, error = quad(f, 0, 5)\n",
    "    \n",
    "    # Rectangle area\n",
    "    rectangle_area = f(xi) * (5 - 0)\n",
    "\n",
    "    # Plot the function f(x)\n",
    "    plt.plot(x, y, label=r\"$f(x)$\", color=\"blue\")\n",
    "    \n",
    "    # Fill the area under the curve (the integral)\n",
    "    x_fill = np.linspace(0, 5, 1000)\n",
    "    y_fill = f(x_fill)\n",
    "    plt.fill_between(x_fill, y_fill, color=\"green\", alpha=0.3, label=r\"$\\int_a^b f(x) dx$\", zorder=0)\n",
    "    \n",
    "    # Draw the rectangle corresponding to f(xi)*(b-a)\n",
    "    plt.fill_between([a, b], [f(xi), f(xi)], color=\"orange\", alpha=0.5, label=r\"$f(\\xi)(b-a)$\", zorder=2)\n",
    "    \n",
    "    # Highlight the point at xi\n",
    "    plt.scatter([xi], [f(xi)], color=\"red\", zorder=3, label=r\"$f(\\xi)$\")\n",
    "    \n",
    "    # Plot horizontal and vertical dashed lines for the rectangle\n",
    "    plt.axhline(y=f(xi), xmin=(a + 1) / (b - a + 1), xmax=(b + 1) / (b - a + 1), color=\"orange\", linestyle=\"--\", zorder=1)\n",
    "    plt.axvline(x=xi, ymin=0, ymax=f(xi) / max(y), color=\"red\", linestyle=\"--\", zorder=1)\n",
    "    \n",
    "    # Set axes limits\n",
    "    plt.xlim([a - 1, b + 1])\n",
    "    plt.ylim([0, max(y) + 5])\n",
    "\n",
    "    # Annotations\n",
    "    plt.title(r\"Interactive Mean Value Theorem for Integrals (Fixed $a=0$, $b=5$)\")\n",
    "    plt.xlabel(r\"$x$\")\n",
    "    plt.ylabel(r\"$f(x)$\")\n",
    "    plt.legend()\n",
    "    plt.grid(alpha=0.3)\n",
    "\n",
    "    # Print the calculated values\n",
    "    print(f\"Integral value (area under curve): {integral_value:.4f}\")\n",
    "    print(f\"Rectangle area (f(xi)*(b-a)): {rectangle_area:.4f}\")\n",
    "\n",
    "    # Show the plot\n",
    "    plt.show()"
   ]
  },
  {
   "cell_type": "code",
   "execution_count": null,
   "id": "d2b3fef9-b623-4f30-ad82-8cf93fb6bd46",
   "metadata": {},
   "outputs": [
    {
     "data": {
      "application/vnd.jupyter.widget-view+json": {
       "model_id": "3a6cc0dbfe1744bd8340de7288ef5296",
       "version_major": 2,
       "version_minor": 0
      },
      "text/plain": [
       "interactive(children=(FloatSlider(value=0.005, description='xi', max=0.015, min=-0.005), Output()), _dom_class…"
      ]
     },
     "metadata": {},
     "output_type": "display_data"
    },
    {
     "data": {
      "text/plain": [
       "<function __main__.update_plot(xi)>"
      ]
     },
     "execution_count": 31,
     "metadata": {},
     "output_type": "execute_result"
    }
   ],
   "source": [
    "# Create an interactive slider for xi\n",
    "interact(update_plot, xi=(0.005))"
   ]
  },
  {
   "cell_type": "code",
   "execution_count": null,
   "id": "9d6320af-9086-4473-9872-72354bb019b5",
   "metadata": {},
   "outputs": [],
   "source": []
  },
  {
   "cell_type": "code",
   "execution_count": null,
   "id": "f9aec7c7-425c-4d2f-80a1-e2bb07692d3c",
   "metadata": {},
   "outputs": [],
   "source": []
  }
 ],
 "metadata": {
  "kernelspec": {
   "display_name": "base",
   "language": "python",
   "name": "python3"
  },
  "language_info": {
   "codemirror_mode": {
    "name": "ipython",
    "version": 3
   },
   "file_extension": ".py",
   "mimetype": "text/x-python",
   "name": "python",
   "nbconvert_exporter": "python",
   "pygments_lexer": "ipython3",
   "version": "3.12.4"
  }
 },
 "nbformat": 4,
 "nbformat_minor": 5
}
