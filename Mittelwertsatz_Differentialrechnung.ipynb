{
 "cells": [
  {
   "cell_type": "code",
   "execution_count": 7,
   "metadata": {},
   "outputs": [],
   "source": [
    "import numpy as np\n",
    "import matplotlib.pyplot as plt\n",
    "import ipywidgets as widgets\n",
    "from ipywidgets import interact"
   ]
  },
  {
   "cell_type": "code",
   "execution_count": null,
   "metadata": {},
   "outputs": [],
   "source": [
    "def f(x):\n",
    "    return (1 / 0.9) * (x-0.5) * (x - 2.5) * (x - 4.5) + (x * np.tan(np.radians(60)))\n",
    "\n",
    "a = 0\n",
    "b = 4.5"
   ]
  },
  {
   "cell_type": "code",
   "execution_count": null,
   "metadata": {},
   "outputs": [],
   "source": [
    "def plot_mittelwertsatz_differentialrechnung(c):\n",
    "    x = np.linspace(0, 5, 1000)\n",
    "    y = f(x)\n",
    "\n",
    "    # Plot the function f(x)\n",
    "    plt.plot(x, y, label=r\"$f(x)$\", color=\"blue\")\n",
    "\n",
    "\n",
    "    # TODO: Sekante zwischen a und b\n",
    "\n",
    "    # TODO Slieder für c\n",
    "\n",
    "    # TODO: Ableitung für c\n",
    "\n",
    "    # plt settings\n",
    "    plt.xlim([0, 4.5])\n",
    "    plt.ylim([0, 8])\n",
    "\n",
    "    # Annotations\n",
    "    plt.title(r\"Mittelwertsatz der Differentialrechnung: ($a=0$, $b=4.5$)\")\n",
    "    plt.xlabel(r\"$x$\")\n",
    "    plt.ylabel(r\"$f(x)$\")\n",
    "    plt.legend()\n",
    "    plt.grid(alpha=0.3)\n",
    "    plt.show()"
   ]
  },
  {
   "cell_type": "code",
   "execution_count": 30,
   "metadata": {},
   "outputs": [],
   "source": [
    "slider = widgets.FloatSlider(\n",
    "    value=2.5,\n",
    "    min= a,\n",
    "    max= b,\n",
    "    step=0.1,\n",
    "    description='c:',\n",
    "    continuous_update=False,\n",
    "    layout=widgets.Layout(width='500px', height='50px'),  # Adjust the width and height\n",
    ")"
   ]
  },
  {
   "cell_type": "code",
   "execution_count": 31,
   "metadata": {},
   "outputs": [
    {
     "data": {
      "application/vnd.jupyter.widget-view+json": {
       "model_id": "b5ab4ab981ec4b1ea40e487eff668a6d",
       "version_major": 2,
       "version_minor": 0
      },
      "text/plain": [
       "interactive(children=(FloatSlider(value=2.5, continuous_update=False, description='c:', layout=Layout(height='…"
      ]
     },
     "metadata": {},
     "output_type": "display_data"
    },
    {
     "data": {
      "text/plain": [
       "<function __main__.plot_mittelwertsatz_differentialrechnung(c)>"
      ]
     },
     "execution_count": 31,
     "metadata": {},
     "output_type": "execute_result"
    }
   ],
   "source": [
    "interact(plot_mittelwertsatz_differentialrechnung, c = slider)"
   ]
  },
  {
   "cell_type": "code",
   "execution_count": null,
   "metadata": {},
   "outputs": [],
   "source": []
  },
  {
   "cell_type": "code",
   "execution_count": null,
   "metadata": {},
   "outputs": [],
   "source": []
  }
 ],
 "metadata": {
  "kernelspec": {
   "display_name": "Python 3",
   "language": "python",
   "name": "python3"
  },
  "language_info": {
   "codemirror_mode": {
    "name": "ipython",
    "version": 3
   },
   "file_extension": ".py",
   "mimetype": "text/x-python",
   "name": "python",
   "nbconvert_exporter": "python",
   "pygments_lexer": "ipython3",
   "version": "3.12.3"
  }
 },
 "nbformat": 4,
 "nbformat_minor": 2
}
