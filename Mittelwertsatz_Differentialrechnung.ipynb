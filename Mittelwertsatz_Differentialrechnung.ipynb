{
 "cells": [
  {
   "cell_type": "code",
   "execution_count": 134,
   "metadata": {},
   "outputs": [],
   "source": [
    "import numpy as np\n",
    "import matplotlib.pyplot as plt\n",
    "import ipywidgets as widgets\n",
    "from ipywidgets import interact"
   ]
  },
  {
   "cell_type": "code",
   "execution_count": null,
   "metadata": {},
   "outputs": [],
   "source": [
    "def f(x):\n",
    "    return (1 / 0.9) * (x-0.5) * (x - 2.5) * (x - 4.5) + (x * np.tan(np.radians(60)))\n",
    "\n",
    "a = 0.5\n",
    "b = 4.5\n",
    "\n",
    "def derivative(f, x, h=1e-5):\n",
    "    return (f(x + h) - f(x - h)) / (2 * h)"
   ]
  },
  {
   "cell_type": "code",
   "execution_count": 141,
   "metadata": {},
   "outputs": [],
   "source": [
    "def plot_mittelwertsatz_differentialrechnung(c):\n",
    "    x = np.linspace(0, 5, 1000)\n",
    "    y = f(x)\n",
    "\n",
    "    # plt settings\n",
    "    plt.xlim([0, 5])\n",
    "    plt.ylim([0, 9])\n",
    "\n",
    "    # Plot the function f(x)\n",
    "    plt.plot(x, y, label=r\"$f(x)$\", color=\"blue\")\n",
    "\n",
    "    # draw vertical line a,b\n",
    "    plt.axvline(x=a, ymin=0, ymax=f(a)/9, color=\"red\", linestyle=\"--\")\n",
    "    plt.axvline(x=b, ymin=0, ymax=f(b)/9, color=\"red\", linestyle=\"--\")\n",
    "\n",
    "    # Add labels at the points (a, 0) and (b 0)\n",
    "    plt.text(a, -0.5, f\"a\", fontsize=12, verticalalignment='top', horizontalalignment='center')\n",
    "    plt.text(b, -0.5, f\"b\", fontsize=12, verticalalignment='top', horizontalalignment='center')\n",
    "\n",
    "\n",
    "    # Sekante from a to b\n",
    "    x_sekante = np.array([a, b])\n",
    "    y_sekante = np.array([f(a), f(b)])\n",
    "    plt.plot(x_sekante, y_sekante, label=\"Sekante von a zu b\", color=\"green\", linestyle=\"--\")\n",
    "\n",
    "    # : Ableitung für c\n",
    "    slope = derivative(f, c)\n",
    "    y_c = f(c)\n",
    "    tangent_line = slope * (x - c) + y_c\n",
    "    plt.plot(x, tangent_line, label=f\"Tangente bei c\", color=\"orange\", linestyle=\"--\")\n",
    "\n",
    "    # Annotations\n",
    "    plt.title(r\"Mittelwertsatz der Differentialrechnung: ($a=0.5$, $b=4.5$)\")\n",
    "    plt.xlabel(r\"$x$\")\n",
    "    plt.ylabel(r\"$f(x)$\")\n",
    "    plt.legend()\n",
    "    plt.grid(alpha=0.3)\n",
    "    plt.show()"
   ]
  },
  {
   "cell_type": "code",
   "execution_count": 144,
   "metadata": {},
   "outputs": [],
   "source": [
    "slider = widgets.FloatSlider(\n",
    "    value=2.5,\n",
    "    min= a,\n",
    "    max= b,\n",
    "    step=0.05,\n",
    "    description='c:',\n",
    "    continuous_update=False,\n",
    "    layout=widgets.Layout(width='500px', height='50px'),  # Adjust the width and height\n",
    ")"
   ]
  },
  {
   "cell_type": "code",
   "execution_count": 145,
   "metadata": {},
   "outputs": [
    {
     "data": {
      "application/vnd.jupyter.widget-view+json": {
       "model_id": "5dc1f6def0c446f6bd36ab0b3a0f10fe",
       "version_major": 2,
       "version_minor": 0
      },
      "text/plain": [
       "interactive(children=(FloatSlider(value=2.5, continuous_update=False, description='c:', layout=Layout(height='…"
      ]
     },
     "metadata": {},
     "output_type": "display_data"
    },
    {
     "data": {
      "text/plain": [
       "<function __main__.plot_mittelwertsatz_differentialrechnung(c)>"
      ]
     },
     "execution_count": 145,
     "metadata": {},
     "output_type": "execute_result"
    }
   ],
   "source": [
    "interact(plot_mittelwertsatz_differentialrechnung, c = slider)"
   ]
  },
  {
   "cell_type": "code",
   "execution_count": null,
   "metadata": {},
   "outputs": [],
   "source": []
  },
  {
   "cell_type": "code",
   "execution_count": null,
   "metadata": {},
   "outputs": [],
   "source": []
  }
 ],
 "metadata": {
  "kernelspec": {
   "display_name": "Python 3",
   "language": "python",
   "name": "python3"
  },
  "language_info": {
   "codemirror_mode": {
    "name": "ipython",
    "version": 3
   },
   "file_extension": ".py",
   "mimetype": "text/x-python",
   "name": "python",
   "nbconvert_exporter": "python",
   "pygments_lexer": "ipython3",
   "version": "3.12.3"
  }
 },
 "nbformat": 4,
 "nbformat_minor": 2
}
