{
  "cells": [
    {
      "cell_type": "markdown",
      "metadata": {
        "id": "view-in-github",
        "colab_type": "text"
      },
      "source": [
        "<a href=\"https://colab.research.google.com/github/Ziyi-star/Jupyternotebook_animation/blob/main/Mittelwertsatz_Differentialrechnung.ipynb\" target=\"_parent\"><img src=\"https://colab.research.google.com/assets/colab-badge.svg\" alt=\"Open In Colab\"/></a>"
      ]
    },
    {
      "cell_type": "code",
      "execution_count": 1,
      "metadata": {
        "id": "j-MMxp8eYUw6"
      },
      "outputs": [],
      "source": [
        "import numpy as np\n",
        "import matplotlib.pyplot as plt\n",
        "import ipywidgets as widgets\n",
        "from ipywidgets import interact"
      ]
    },
    {
      "cell_type": "code",
      "execution_count": 2,
      "metadata": {
        "id": "9S24DlgnYUw7"
      },
      "outputs": [],
      "source": [
        "def f(x):\n",
        "    return (1 / 0.9) * (x-0.5) * (x - 2.5) * (x - 4.5) + (x * np.tan(np.radians(60)))\n",
        "\n",
        "a = 0.5\n",
        "b = 4.5\n",
        "\n",
        "def derivative(f, x, h=1e-5):\n",
        "    return (f(x + h) - f(x - h)) / (2 * h)"
      ]
    },
    {
      "cell_type": "code",
      "execution_count": 3,
      "metadata": {
        "id": "6aPdV62FYUw7"
      },
      "outputs": [],
      "source": [
        "def plot_mittelwertsatz_differentialrechnung(c):\n",
        "    x = np.linspace(0, 5, 1000)\n",
        "    y = f(x)\n",
        "\n",
        "    # plt settings\n",
        "    plt.xlim([0, 5])\n",
        "    plt.ylim([0, 9])\n",
        "\n",
        "    # Plot the function f(x)\n",
        "    plt.plot(x, y, label=r\"$f(x)$\", color=\"blue\")\n",
        "\n",
        "    # draw vertical line a,b\n",
        "    plt.axvline(x=a, ymin=0, ymax=f(a)/9, color=\"red\", linestyle=\"--\")\n",
        "    plt.axvline(x=b, ymin=0, ymax=f(b)/9, color=\"red\", linestyle=\"--\")\n",
        "\n",
        "    # Add labels at the points (a, 0) and (b 0)\n",
        "    plt.text(a, -0.5, f\"a\", fontsize=12, verticalalignment='top', horizontalalignment='center')\n",
        "    plt.text(b, -0.5, f\"b\", fontsize=12, verticalalignment='top', horizontalalignment='center')\n",
        "\n",
        "\n",
        "    # Sekante from a to b\n",
        "    x_sekante = np.array([a, b])\n",
        "    y_sekante = np.array([f(a), f(b)])\n",
        "    plt.plot(x_sekante, y_sekante, label=\"Sekante von a zu b\", color=\"green\", linestyle=\"--\")\n",
        "\n",
        "    # : Ableitung für c\n",
        "    slope = derivative(f, c)\n",
        "    y_c = f(c)\n",
        "    tangent_line = slope * (x - c) + y_c\n",
        "    plt.plot(x, tangent_line, label=f\"Tangente bei c\", color=\"orange\", linestyle=\"--\")\n",
        "\n",
        "    # Annotations\n",
        "    plt.title(r\"Mittelwertsatz der Differentialrechnung: ($a=0.5$, $b=4.5$)\")\n",
        "    plt.xlabel(r\"$x$\")\n",
        "    plt.ylabel(r\"$f(x)$\")\n",
        "    plt.legend()\n",
        "    plt.grid(alpha=0.3)\n",
        "    plt.show()"
      ]
    },
    {
      "cell_type": "code",
      "execution_count": 4,
      "metadata": {
        "id": "ZOOpv2baYUw7"
      },
      "outputs": [],
      "source": [
        "slider = widgets.FloatSlider(\n",
        "    value=2.5,\n",
        "    min= a,\n",
        "    max= b,\n",
        "    step=0.05,\n",
        "    description='c:',\n",
        "    continuous_update=False,\n",
        "    layout=widgets.Layout(width='500px', height='50px'),  # Adjust the width and height\n",
        ")"
      ]
    },
    {
      "cell_type": "code",
      "execution_count": 5,
      "metadata": {
        "id": "JfaHhY2XYUw8",
        "outputId": "d1db0d07-6d51-4978-902e-c7749cc9c610",
        "colab": {
          "base_uri": "https://localhost:8080/",
          "height": 616,
          "referenced_widgets": [
            "14d64d9a0ea642e689aad2e5828fa216",
            "5680df9d24fe4ddaa00c68703e2bfceb",
            "72f9dde0acfa466597991a6f11a33c71",
            "28b8d9edb33a4dcebc992228f066db42",
            "9eb728f8d8114ca083ceb830ba56a91a",
            "52833b6767b2454dad047dffc86adc77",
            "107d37ddd8ba4cd3adb7c6394b0b6a36"
          ]
        }
      },
      "outputs": [
        {
          "output_type": "display_data",
          "data": {
            "text/plain": [
              "interactive(children=(FloatSlider(value=2.5, continuous_update=False, description='c:', layout=Layout(height='…"
            ],
            "application/vnd.jupyter.widget-view+json": {
              "version_major": 2,
              "version_minor": 0,
              "model_id": "14d64d9a0ea642e689aad2e5828fa216"
            }
          },
          "metadata": {}
        },
        {
          "output_type": "execute_result",
          "data": {
            "text/plain": [
              "<function __main__.plot_mittelwertsatz_differentialrechnung(c)>"
            ],
            "text/html": [
              "<div style=\"max-width:800px; border: 1px solid var(--colab-border-color);\"><style>\n",
              "      pre.function-repr-contents {\n",
              "        overflow-x: auto;\n",
              "        padding: 8px 12px;\n",
              "        max-height: 500px;\n",
              "      }\n",
              "\n",
              "      pre.function-repr-contents.function-repr-contents-collapsed {\n",
              "        cursor: pointer;\n",
              "        max-height: 100px;\n",
              "      }\n",
              "    </style>\n",
              "    <pre style=\"white-space: initial; background:\n",
              "         var(--colab-secondary-surface-color); padding: 8px 12px;\n",
              "         border-bottom: 1px solid var(--colab-border-color);\"><b>plot_mittelwertsatz_differentialrechnung</b><br/>def plot_mittelwertsatz_differentialrechnung(c)</pre><pre class=\"function-repr-contents function-repr-contents-collapsed\" style=\"\"><a class=\"filepath\" style=\"display:none\" href=\"#\">/content/&lt;ipython-input-3-d27899cdf11e&gt;</a>&lt;no docstring&gt;</pre></div>"
            ]
          },
          "metadata": {},
          "execution_count": 5
        }
      ],
      "source": [
        "interact(plot_mittelwertsatz_differentialrechnung, c = slider)"
      ]
    },
    {
      "cell_type": "code",
      "execution_count": null,
      "metadata": {
        "id": "CQo1DMaZYUw8"
      },
      "outputs": [],
      "source": []
    },
    {
      "cell_type": "code",
      "execution_count": null,
      "metadata": {
        "id": "-OgmyOSnYUw8"
      },
      "outputs": [],
      "source": []
    }
  ],
  "metadata": {
    "kernelspec": {
      "display_name": "Python 3",
      "language": "python",
      "name": "python3"
    },
    "language_info": {
      "codemirror_mode": {
        "name": "ipython",
        "version": 3
      },
      "file_extension": ".py",
      "mimetype": "text/x-python",
      "name": "python",
      "nbconvert_exporter": "python",
      "pygments_lexer": "ipython3",
      "version": "3.12.3"
    },
    "colab": {
      "provenance": [],
      "include_colab_link": true
    },
    "widgets": {
      "application/vnd.jupyter.widget-state+json": {
        "14d64d9a0ea642e689aad2e5828fa216": {
          "model_module": "@jupyter-widgets/controls",
          "model_name": "VBoxModel",
          "model_module_version": "1.5.0",
          "state": {
            "_dom_classes": [
              "widget-interact"
            ],
            "_model_module": "@jupyter-widgets/controls",
            "_model_module_version": "1.5.0",
            "_model_name": "VBoxModel",
            "_view_count": null,
            "_view_module": "@jupyter-widgets/controls",
            "_view_module_version": "1.5.0",
            "_view_name": "VBoxView",
            "box_style": "",
            "children": [
              "IPY_MODEL_5680df9d24fe4ddaa00c68703e2bfceb",
              "IPY_MODEL_72f9dde0acfa466597991a6f11a33c71"
            ],
            "layout": "IPY_MODEL_28b8d9edb33a4dcebc992228f066db42"
          }
        },
        "5680df9d24fe4ddaa00c68703e2bfceb": {
          "model_module": "@jupyter-widgets/controls",
          "model_name": "FloatSliderModel",
          "model_module_version": "1.5.0",
          "state": {
            "_dom_classes": [],
            "_model_module": "@jupyter-widgets/controls",
            "_model_module_version": "1.5.0",
            "_model_name": "FloatSliderModel",
            "_view_count": null,
            "_view_module": "@jupyter-widgets/controls",
            "_view_module_version": "1.5.0",
            "_view_name": "FloatSliderView",
            "continuous_update": false,
            "description": "c:",
            "description_tooltip": null,
            "disabled": false,
            "layout": "IPY_MODEL_9eb728f8d8114ca083ceb830ba56a91a",
            "max": 4.5,
            "min": 0.5,
            "orientation": "horizontal",
            "readout": true,
            "readout_format": ".2f",
            "step": 0.05,
            "style": "IPY_MODEL_52833b6767b2454dad047dffc86adc77",
            "value": 1.3
          }
        },
        "72f9dde0acfa466597991a6f11a33c71": {
          "model_module": "@jupyter-widgets/output",
          "model_name": "OutputModel",
          "model_module_version": "1.0.0",
          "state": {
            "_dom_classes": [],
            "_model_module": "@jupyter-widgets/output",
            "_model_module_version": "1.0.0",
            "_model_name": "OutputModel",
            "_view_count": null,
            "_view_module": "@jupyter-widgets/output",
            "_view_module_version": "1.0.0",
            "_view_name": "OutputView",
            "layout": "IPY_MODEL_107d37ddd8ba4cd3adb7c6394b0b6a36",
            "msg_id": "",
            "outputs": [
              {
                "output_type": "display_data",
                "data": {
                  "text/plain": "<Figure size 640x480 with 1 Axes>",
                  "image/png": "iVBORw0KGgoAAAANSUhEUgAAAjAAAAHJCAYAAACbhAMjAAAAOnRFWHRTb2Z0d2FyZQBNYXRwbG90bGliIHZlcnNpb24zLjEwLjAsIGh0dHBzOi8vbWF0cGxvdGxpYi5vcmcvlHJYcgAAAAlwSFlzAAAPYQAAD2EBqD+naQAAoylJREFUeJzs3Xd0FFUbwOHfbHohCYSEGkLv0nvvIfQuvQpSFAELqCjFj6pgAQEBRQVBkaogvVcJLfRepSWE9J7d+/0xJhCTQPpsuc85e3Z2dso7M5vNu3duUYQQAkmSJEmSJBOi0zoASZIkSZKkjJIJjCRJkiRJJkcmMJIkSZIkmRyZwEiSJEmSZHJkAiNJkiRJksmRCYwkSZIkSSZHJjCSJEmSJJkcmcBIkiRJkmRyZAIjSZIkSZLJkQmMJEmSJEkmRyYwkiRJkiSZHJnAZMCPP/6IoijcuXPHLPdnSaZOnYqiKFqHkabUrr2fnx8NGjTAyckJRVE4e/bsS+ebkqx81rX8O0n8HD19+jTX920s5s6dS/ny5TEYDFqHYtSio6OxsrJi5syZWoeSI5YsWUKxYsWIjY3NtX1aZAKT+IWnKAqHDx9O8b4QAi8vLxRFoUOHDmlu5+jRo0ydOpWQkJAMvWeKcuN4zO2cJXrx86YoCvb29hQuXBgfHx+++eYbwsPDX7mN+Ph4evbsybNnz/jyyy9ZuXIl3t7eac43VuZ6jS1VWFgYc+bMYeLEieh0xvPvJDY2lokTJ1K4cGEcHByoW7cuu3bteuV6+/fvT/a3+uLj+PHjWYrp0qVLGAwGKleunKXtZNWMGTNQFCVdcWTkfAwePJi4uDi+++67nAo9Betc25MRsre3Z/Xq1TRq1CjZ/AMHDvDPP/9gZ2eXbP6AAQPo3bt30vyjR48ybdo0Bg8ejJubW7JlX/aeKcqN4zG3c/Zf06dPp0SJEsTHx/P48WP279/PuHHjmD9/Pn/88QdVqlRJWva/n7WbN29y9+5dli1bxhtvvJG03JUrV1Kdb6zSusb/PV7JNPzwww8kJCTQp08frUNJZvDgwaxbt45x48ZRpkwZfvzxR9q1a8e+fftSfN+nZuzYsdSuXTvZvNKlS2cppvPnzwNQqVKlLG0nK/755x9mzpyJk5NThtZLz/mwt7dn0KBBzJ8/n7fffjtXSrgtOoFp164dv//+O9988w3W1s9PxerVq6lZs2aKYmErKyusrKxyO0xNRUZGZvjDbonSc558fX2pVatW0usPP/yQvXv30qFDBzp16sTly5dxcHAAUn7WAgICAFIkdmnNzwotrnlu/G3Jz3L2W7FiBZ06dcLe3l7rUJKcOHGCX3/9lc8//5z33nsPgIEDB1K5cmU++OADjh49+sptNG7cmB49emRrXOfPn8fR0ZGSJUtm63Yz4r333qNevXro9foM3fZM7/no1asXc+fOZd++fbRo0SIroaaL8ZT5aaBPnz4EBQUlK1qMi4tj3bp19O3bN8XyL95rnzp1Ku+//z4AJUqUSCpWe9V7AA8ePGDo0KEUKFAAOzs7KlWqxA8//PDSWM+dO4eiKPzxxx9J806dOoWiKNSoUSPZsr6+vtStWzfZvPTsM/F+/qVLl+jbty958+alUaNGrzye8PBwxo0bR/HixbGzs8PT05PWrVtz+vRpAO7evcvo0aMpV64cDg4OuLu707Nnz2R1Fl62jzt37qRZjJmeLP/w4cPUrl0be3t7SpUqlWYRZ3qvS1rnKTNatGjBJ598wt27d1m1alXS/Bc/a4MHD6Zp06YA9OzZE0VRaNasWZrzM3I8rzqWjGzjxo0bSSUrrq6uDBkyhKioqGTLpXWNU6vHkp7PTVqy47gSlxs2bBiFCxfGzs6OEiVKMGrUKOLi4pItFxIS8spjT885ArX0oHjx4mkeU2bOPai3A2rVqpXs7yCtumBXrlzh3r17aZ9g4Pbt25w7d45WrVql+v7ly5cZOXIk5cqVw9HRkYIFC9KvXz8ePXr00u1m1bp167CysmLEiBFJ8+zt7Rk2bBjHjh3j/v376dpOeHg4CQkJ2RbX+fPnqVChAsePH6dZs2Y4OTlRvnx51qxZk237eJmDBw+ybt06vvrqq0ytn57zUbNmTfLly8fmzZsztY+MsugSmOLFi1O/fn3WrFmDr68vANu2bSM0NJTevXvzzTffpLlut27duHbtGmvWrOHLL78kf/78AHh4eLz0vSdPnlCvXj0UReGtt97Cw8ODbdu2MWzYMMLCwhg3blyq+6tcuTJubm4cPHiQTp06AXDo0CF0Oh3+/v6EhYXh4uKCwWDg6NGjyf54M7rPnj17UqZMGWbOnIkQgkaNGqV5PAAjR45k3bp1vPXWW1SsWJGgoCAOHz7M5cuXqVGjBn5+fhw9epTevXtTtGhR7ty5w+LFi2nWrBmXLl3C0dHxpecMYOXKlclijI+PZ/z48dja2r70Gp8/f542bdrg4eHB1KlTSUhIYMqUKRQoUCDZcpm5Lv89T5k1YMAAPvroI3bu3Mnw4cNTvP/mm29SpEgRZs6cmVSUW6BAAZydnVOdn5njSe1YMrqNXr16UaJECWbNmsXp06dZvnw5np6ezJkzB3j530xq0vO5eZWsHNfDhw+pU6cOISEhjBgxgvLly/PgwQPWrVtHVFRUss/eq449o8tl1Ku2e+bMGdq2bUuhQoWYNm0aer2e6dOnp3nuK1SoQNOmTdm/f3+a+0wsyfjvD6hEP/zwA7dv32bAgAEULFiQc+fO8d133/HkyRN2796dYvn4+HhCQ0PTdbz58uVLs87NmTNnKFu2LC4uLsnm16lTB4CzZ8/i5eX10u0PGTKEiIgIrKysaNy4MZ9//nmy0tPMOH/+PK6urrz++usMHz6c7t27s2jRIvr27UvJkiVT/OjMrvMBoNfrefvtt3njjTd47bXXMhx7Rs5HjRo1OHLkSIb3kSnCAq1YsUIAws/PTyxcuFDkyZNHREVFCSGE6Nmzp2jevLkQQghvb2/Rvn37FOvdvn1bCCHE559/nuz1i9J6b9iwYaJQoULi6dOnyeb37t1buLq6JsWR2v7at28v6tSpk/R+t27dRLdu3YSVlZXYtm2bEEKI06dPC0Bs3rw5w/ucMmWKAESfPn3SfTxCCOHq6irGjBmTYn6iF48p0bFjxwQgfv7553Tt479Gjx4trKysxN69e1+6XJcuXYS9vb24e/du0rxLly4JKysr8eLHPyPX5WXnKTUvft7S4urqKqpXr55incRzsW/fPgGI33//Pdl6ac3Pjmue0W0MHTo02XJdu3YV7u7uyealdY3/e7xCpP9zk9q62XFcAwcOFDqdLtXrZjAYMnTsGTlHgwYNEt7e3in2mbiN1Oa9arsdO3YUjo6O4sGDB0nzrl+/LqytrVNsUwghANG0adMU8180efJkAYjw8PBU34+MjEx1HZ1OJ6Kjo1O8l/hZTs/jZd8RlSpVEi1atEgx/+LFiwIQS5YsSXPdI0eOiO7du4vvv/9ebN68WcyaNUu4u7sLe3t7cfr06TTXe5XAwEABiHz58iWL/d69e8LW1laMGDEixTrZdT6EEGLhwoXC1dVVBAQECCGEaNq0qahUqdIr487M+RgxYoRwcHB45bazg0XfQgL1l0t0dDRbtmwhPDycLVu2pHr7KDsIIVi/fj0dO3ZECMHTp0+THj4+PoSGhibddklN48aNOX36NJGRkYB6a6Rdu3ZUq1aNQ4cOAWqpjKIoScXlmdnnyJEjM3Rcbm5u/P333zx8+DDV9xPrdYD6qyIoKIjSpUvj5ub20uNNy88//8yiRYuYO3cuzZs3T3M5vV7Pjh076NKlC8WKFUuaX6FCBXx8fJJeZ/a6ZPQ8vYyzs3O6WiOlR3Zc8+zYRuPGjQkKCiIsLCxTx5Edn5vMHpfBYGDTpk107Ngx1V+a/73tkt5jz+5zlJ7t6vV6du/eTZcuXShcuHDSMqVLl04qef4vIcRLS18AgoKCsLa2xtnZOdX3XywhCwkJ4enTp+TNmxeDwZDqrYiqVauya9eudD0KFiyYZlzR0dGpVgZPrKcTHR2d5roNGjRg3bp1DB06lE6dOjFp0iSOHz+Ooih8+OGHaa73KhcuXADg448/TnZ70MvLi3LlynH79u0U62TX+QgKCuLTTz/lk08+SbPELS2ZOR958+YlOjo6xS3MnGDRt5BALb5u1aoVq1evJioqCr1en+2VtxIFBgYSEhLC0qVLWbp0aarLJFbKTE3jxo1JSEjg2LFjeHl5ERAQQOPGjbl48WKyBKZixYrky5cv0/ssUaJEho5r7ty5DBo0CC8vL2rWrEm7du0YOHBgUmW16OhoZs2axYoVK3jw4EGy2y3pLSJNdPbsWUaOHEmfPn2YMGHCS5cNDAwkOjqaMmXKpHivXLly/PXXX0nLZea6ZPQ8vUxERASenp7Zsq3suOaZ2caLSSKoX2QAwcHBKYrz0yM7PjeZPa7AwEDCwsLS3eQ1vcee3ecoPduNjIwkOjo61VY0WW1Zkxa9Xs9PP/3EwoULuXLlSrKkIX/+/KkmPXnz5k2zPk1GODg4pNoXSUxMTNL7GVG6dGk6d+7Mhg0b0Ov1mapsntgCqX///ine0+l0qd4Oza7zMXnyZPLly8fbb7+d5W3Bq89H4t+pbIWUS/r27cvw4cN5/Pgxvr6+OdaEN7Gjp/79+zNo0KBUl3mxKe1/JVbAO3jwIMWKFcPT05OyZcvSuHFjFi1aRGxsLIcOHaJr165Z2mdG/8B79epF48aN2bhxIzt37uTzzz9nzpw5bNiwAV9fX95++21WrFjBuHHjqF+/Pq6uriiKQu/evTPU+VVwcDDdu3enbNmyLF++PEMxvkxmr0tGz1Na/vnnH0JDQ7Ptn0l2XPPMbCOtL/YXE4+MyI7PTWaPK6Mxp/fY07NcWl/8er0+y/vPTu7u7iQkJBAeHk6ePHmSvTdw4EDWrl3LoEGDGDduHPnz58fW1paxY8dSqFChVLcXFxfHs2fP0rVvDw+PNI+5UKFCPHjwIMX8xMrDL5ZCpZeXlxdxcXFERkZmKtE8f/48hQsXTvEjJSoqiitXriTVa3xRdpyP69evs3TpUr766qtkJeQxMTHEx8dz584dXFxckn7wptfLzkdwcDCOjo7Z9v34MjKBAbp27cqbb77J8ePH+e2339K93ssyzNTe8/DwIE+ePOj1+kxl1ra2ttSpU4dDhw5RrFgxGjduDKglM7Gxsfzyyy88efKEJk2aZNs+X3Y8LypUqBCjR49m9OjRBAQEUKNGDWbMmIGvry/r1q1j0KBBzJs3L2n5mJiYFJ2ZvWwfBoOBfv36ERISwu7du9NVgdPDwwMHBweuX7+e4r2rV68mWy47zlFmJVZQfvG2VlZkx/Hk1DnJyK+y9H5uMiK9x2UwGHBxcUkq+s9NefPmTfUY7969m6nteXp6Ym9vz40bN1K8l9q89CpfvjygtkZ6MZm9dOkSq1ev5ssvv0xW0fvRo0dcu3aNtm3bprq9o0ePvvSW8Itu376dakstgGrVqrFv376khg2J/v7776T3M+rWrVvY29unebvsVc6fP59qgrFixQpiY2Pp1q1bivey43w8ePAAg8HA2LFjGTt2bIr3S5QowTvvvJPhlkkvOx+3b9+mQoUKGdpeZskEBrX+weLFi7lz5w4dO3ZM93qJfUqk9mWT2ntWVlZ0796d1atXc+HChRTF04GBga+8R9m4cWPmz5/PzZs3effddwG1SLZChQpJLQ4SE5vs2ufLjlWv1xMREYGrq2vSPE9PTwoXLpxUjGtlZZXil+CCBQtS/KJ82fmcNm0aO3bsYNu2bem+dWNlZYWPjw+bNm3i3r17ScXsly9fZseOHcmWy45zlBl79+7ls88+o0SJEvTr1y9btpkdx5NT5+Rl1zi1GNLzucmI9B6XTqejS5curFq1ipMnT6aoByOEyLEi8lKlShEaGsq5c+eSEoNHjx6xcePGTG3PysqKVq1asWnTJh4+fJhUAnHjxg22bduW6jpXrlzB0dExxa2pF9WvXx+AkydPJktg/vnnHyD57an4+HjeeOMN9Hp9mqXMiXU+0uNldT569OjBF198wdKlS5P6gYmNjWXFihXUrVs3qQVSVFQU9+7dI3/+/Ekt4lL7XPv7+/PHH3/g6+ubqd6GhRBcuHCBqKgobt68SalSpZL2NXv2bDp16pRqUpUd56Ny5cqpfm4mT55MeHg4X3/9dVI82XU+Tp8+nW3fZa8iE5h/pVWc/DI1a9YE1IpZvXv3xsbGho4dO+Lk5JTme7Nnz2bfvn3UrVuX4cOHU7FiRZ49e8bp06fZvXv3K4sMGzduzIwZM7h//36yRKVJkyZ89913FC9enKJFiyZbJ6v7fNmxxsfHU7RoUXr06EHVqlVxdnZm9+7d+Pn5Jf1y7tChAytXrsTV1ZWKFSty7Ngxdu/ejbu7e7r2cevWLT777DOaNGlCQEBAsv5SIPX7yommTZvG9u3bady4MaNHjyYhIYEFCxZQqVIlzp07l63n6FW2bdvGlStXSEhI4MmTJ+zdu5ddu3bh7e3NH3/8ka2dgWXH8eTEOUnrGqcmvZ+bjErvcc2cOZOdO3fStGlTRowYQYUKFXj06BG///47hw8fzrFbzb1792bixIl07dqVsWPHEhUVxeLFiylbtmymKr2D2l/Mzp07adiwIaNGjUKv17Nw4UIqV66c6thZ6WlGXbJkSSpXrszu3bsZOnRo0vxq1arh6OjIO++8w+3bt4mOjmblypVJJRBVq1ZNdXvZVeejbt269OzZkw8//JCAgABKly7NTz/9xJ07d/j++++Tljtx4gTNmzdnypQpTJ06FYDXX38dBwcHGjRogKenJ5cuXWLp0qU4Ojoye/bsFPtSFOWV5+nOnTtERERQs2ZN2rdvn3RNFy5ciE6nS7MuVnacj/z589OlS5cU8xNLXF58LzvOx6lTp3j27BmdO3fOUtzplittnYxMepq1CvHqZtRCCPHZZ5+JIkWKCJ1Ol+73njx5IsaMGSO8vLyEjY2NKFiwoGjZsqVYunRpqnG+uM2wsDBhZWUl8uTJIxISEpLmr1q1SgBiwIABqR5LevaZ2CQzMDAw1W2kdjyxsbHi/fffF1WrVhV58uQRTk5OomrVqmLRokVJ6wUHB4shQ4aI/PnzC2dnZ+Hj4yOuXLkivL29xaBBg165j1c1J3yVAwcOiJo1awpbW1tRsmRJsWTJklSbpKb3urzqPP1X4nVMfNja2oqCBQuK1q1bi6+//lqEhYWluU5mm1Gn93hedSxZ2UZqn18hUr/GqS2b3s/Ny5pRZ+W4hBDi7t27YuDAgcLDw0PY2dmJkiVLijFjxojY2NgMHXtGz9HOnTtF5cqVha2trShXrpxYtWrVS5tRp2e7e/bsEdWrVxe2traiVKlSYvny5eLdd98V9vb2Kc4P6WhGLYQQ8+fPF87OzimavG/ZskWUL19e2NvbiypVqogVK1aIqVOnCmtraxETE/PK7WZVdHS0eO+990TBggWFnZ2dqF27tti+fXuyZRL/dqZMmZI07+uvvxZ16tQR+fLlE9bW1qJQoUKif//+4vr16yn2ER4eLgDRu3fvl8ayefNmAYgzZ86IMWPGCFdXV+Hm5iYGDhwoHj58mC3Hm1GpNaPO6vkQQoiJEyeKYsWKJXUzkNMUIXKwlpckSZJktLp06cLFixdTrSeWHqGhoZQsWZK5c+cybNiwbI7OuP3111906NABf3//THUOZ25iY2MpXrw4kyZN4p133smVfVp8PzCSJEmW4L/9n1y/fp2//vor2fATGeXq6soHH3zA559/nqEWheZg37599O7dWyYv/1qxYgU2NjbZ2j/Wq8gSGEmSJAtQqFAhBg8eTMmSJbl79y6LFy8mNjaWM2fOpNpXkiQZO1mJV5IkyQK0bduWNWvW8PjxY+zs7Khfvz4zZ86UyYtksoyiBCY8PJxPPvmEjRs3EhAQQPXq1fn666+pXbu21qFJkiRJkmSEjKIOzBtvvMGuXbtYuXJl0ujBrVq1SrU3RUmSJEmSJM1LYKKjo8mTJw+bN2+mffv2SfNr1qyJr68v//vf/zSMTpIkSZIkY6R5HZiEhAT0en2KTrwcHBw4fPhwquvExsYmG6zLYDDw7Nkz3N3dc2UAKUmSJEmSsk4IQXh4OIULF854T8e50tvMK9SvX180bdpUPHjwQCQkJIiVK1cKnU4nypYtm+ryiZ03yYd8yId8yId8yIfpP+7fv5/h3EHzW0gAN2/eZOjQoRw8eBArKytq1KhB2bJlOXXqFJcvX06x/H9LYEJDQylWrBi3b9/Ose69pfQxGAw8ffqU/PnzZ2rcECl7yeuRAwwJKGffR7n1IwCi1AhE1ZmgS3105KTV5LUwGpZ0LQ4cgC5ddBQrJvD31/zffQohISGUKFGCkJCQZGPqpYfmt5BAHbzswIEDREZGEhYWRqFChXj99dcpWbJkqsvb2dlhZ2eXYr6bm5tMYDRmMBiIi4vDzc3N7L8YTIG8Hjkg8Ag8+RkcFajxJZR/J12ryWthPCzpWly5oj7XqQPG/O8xM9U/jCKBSeTk5ISTkxPBwcHs2LGDuXPnah2SJElSch4NodZCsC8EXl20jkaSXurkSfXZHHslMYoEZseOHQghKFeuHDdu3OD999+nfPnyDBkyROvQJEmSINgfbFzAuYT6uswobeORpHRKTGBq1dI2jpxgFGVnoaGhjBkzhvLlyzNw4EAaNWrEjh07sLGx0To0SZIs3cNtsKsR7G8HccFaRyNJ6RYYCHfuqNM1amgaSo4wihKYXr160atXrxzfj16vJz4+Psf3Y8kMBgPx8fHExMSY/b1lLdnY2GBl9fJKo1I2uL4ETr4FQg8OhQHZTYNkOk6dUp/LljXu+i+ZZRQJTE4TQvD48WNCQkK0DsXsCSEwGAyEh4fLPnlymJubGwULFpTnOScIA5ydCJe/UF+XHAy1vwMrW03DkqSMMOfbR2AhCUxi8uLp6Ymjo6P8ws9BQggSEhKwtraW5zmHCCGIiooiICAAUEcZlrJRQjQcGwD316uvq3wGlT4G+XmWTIyfn/psjhV4wQISGL1en5S8uLu7ax2O2ZMJTO5wcHAAICAgAE9PT3k7KTudHq8mLzpbqPsDlOindUSSlCnmXgJj9pUUEuu8ODo6ahyJJGWvxM+0rNeVzV6bCnmrQ4tdMnmRTNbDh+pDp4Pq1bWOJmeYfQlMIlkaIJkb+ZnORpH3wKmYOu1QENqekreMJJOWWPpSsSI4OWkbS04x+xIYSZKkl7q9Cv4sA7dXPp8nkxfJxJn77SOQCYwkSZZKCDg/Xa2wa4iDh9u1jkiSso25V+AFC7qFJEmSlEQfBydGwO2f1NcVPoBqs7SNSZKyiRCyBEYyIgsWLMDb2xtra2uGDBmCp6cndxK7WEyH3r17M2/evJwLUJJMRVwI7G+rJi+KFdReAtXngCK/DiXzcO8ePH0K1tZQpYrW0eQc+RdrAvz9/ZkwYQKLFy/m/v375M2bl86dO1O8ePF0b2Py5MnMmDGD0NDQnAtUkoxdQhTsaghP9oG1MzTdAmXe1DoqScpWibePqlQBe3ttY8lJMoExAVu2bKFOnTq0a9cOV1dXvv/+e4YNG5ahbVSuXJlSpUqxatWqHIpSkkyAtSMU7QYORaD1YSjcVuuIJCnbWcLtI7DQOjBCQFRU7u/X0THjjRtKly7NzZs3AbXZrIODA87OztSrVy/ZcmvWrGHo0KHcunUrqWfWIUOGcOrUKQ4dOoSrqysdO3bk119/ZcyYMdlyPJJkMgwJoPv3667KdCj3Dtjn1zYmScohlpLAWGQJTFQUODvn/iMzSdPRo0cpWbIkn3/+OY8ePaJPnz7UrFkzxXK9e/embNmyzJw5E4ApU6awe/dutm3bhqurKwB16tThxIkTxMbGZun8SZLJEAKufAm7m6pDBID6K0ImL5KZMhieJzDm3AIJLLQExpQ4Oztz584dGjVqRMGCBQkKCqJw4cIpllMUhRkzZtCjRw8KFizIggULOHToEEWKFElapnDhwsTFxfH48WO8vb1z8zAkKfcZEuDUOLj+rfr67moolbFbr5Jkam7cgNBQte5LpUpaR5OzLDKBcXSEiAht9ptR586dA+C1114DIDo6Gvs0amV16NCBihUrMn36dHbu3Eml/3x6E8fPidLi/pkk5ab4CDjSGx5uBRSo/jmUHKp1VJKU444fV59r1AAbG21jyWkWmcAoiul0rXz27FlKly6N078B58+fn+Dg4FSX3b59O1euXEGv11OgQIEU7z979gwADw+PnAtYkrQW9RAOdIDgM2BlD/VXQbHuWkclSbni77/V57p1tY0jN1hkHRhTcvbsWapWrZr0unr16ly6dCnFcqdPn6ZXr158//33tGzZkk8++STFMhcuXKBo0aLkzy/v/0tmKuQC7KyrJi92HtByn0xeJIuSmMD8p52HWZIJjJE7e/Ys1apVS3rt4+PDxYsXk5XC3Llzh/bt2/PRRx/Rp08fpk+fzvr16zl9+nSybR06dIg2bdrkVuiSlPus7EEfAy7lwOc45LeAb3FJ+ld0NPj7q9OyBEbSlMFg4Pz588lKYF577TVq1KjB2rVrAfW2UNu2bencuTOTJk0CoG7duvj6+vLRRx8lrRcTE8OmTZsYPnx47h6EJOWmPKWh+U5ofRScS2odjSTlqtOnISEBChSAYsW0jibnWWQdGFOh0+mIjIxMMf/TTz/l/fffZ/jw4eTLl48rV66kWGbr1q3JXq9YsYI6deqk6D9GkkyaMID/ZPBoBEXaqfPyVdc2JknSyIv1XyxhQHWZwJig9u3bc/36dR48eICXl1e61rGxsWHBggU5HJkk5SJ9DBwbBPfWgnUe6HQD7D21jkqSNGNJ9V9AJjAma9y4cRla/o033siZQCRJCzFP4WBneHoUdDZQa6FMXiSLZ0ktkEAmMJIkmZqw67C/HUTcABs3aLIRCjTTOipJ0tTjx3D3rnrryNyHEEgkExhJkkxHwCE42AXinoFTcWj2F7hW0DoqSdJcYulLxYrg4qJtLLlFJjCSJJmOu7+pyYt7HWjyBzik7LBRkiyRpdV/AZnASJJkSmp+CY6Fodw4sM7E2BySZKYsrf4LyH5gJEkyZoZ4uPqNOjAjqBV2K30kkxdJeoFeDydOqNOWlMDIEhhJkoxTXAgc6gFP9kDYVaj9rdYRSZJRunxZHaDYycn8R6B+kUxgJEkyPpF3YX97CL0I1k5QuJ3WEUmS0Uq8fVS7NlhZaRtLbpK3kMzc1KlTk42lJBkvea3+FXQSdtRTkxeHQtDqEBRpr3VUkmS0LLH+CxhJAqPX6/nkk08oUaIEDg4OlCpVis8++wwhhNahaSowMJBRo0ZRrFgx7OzsKFiwID4+Phw5ckTr0JLZv38/iqIQEhKidSiSqfvnD9jdFGIeg9tr0OZvOTSAJL3C8ePqs6UlMEZxC2nOnDksXryYn376iUqVKnHy5EmGDBmCq6srY8eO1To8zXTv3p24uDh++uknSpYsyZMnT9izZw9BQUFahyZJ2S/2GRwbAPooKOQDjdaCjYV0aCFJmRQRARcvqtOWlsAYRQnM0aNH6dy5M+3bt6d48eL06NGDNm3acCKxWrUFCgkJ4dChQ8yZM4fmzZvj7e1NnTp1+PDDD+nUqVOy5d544w08PDxwcXGhRYsW+CeOp56KmzdvUrJkSd566y2EEPj5+dG6dWvy58+Pq6srTZs25fTp08nWURSF5cuX07VrVxwdHSlTpgx//PEHAHfu3KF58+YA5M2bF51Ox7BhwwB1NO1Zs2YllaxVrVqVdevWpRnbRx99RN1U/gKrVq3K9OnTk7Y5ffp0ihYtip2dHdWqVWP79u1Jy965cwdFUdiwYQPNmzfH0dGRqlWrcuzYsZee7/nz5/Paa6/h5OSEl5cXo0ePJiIiIs3lf/zxRxRFSfGYOnUqAM2aNUsx3EOXLl0YPHjwS+MA+O677/Dy8sLR0ZFevXoRGhr6ynXMgl0+aLAaSo+Epn/K5EWS0uHkSTAYwMsLChfWOprcZRQJTIMGDdizZw/Xrl0DwN/fn8OHD+Pr65vq8rGxsYSFhSV7gPrPLbWHECLVR0RsRJqP6PjodC8bFRf1ymXTiiGth5OTE87OzmzcuJGYmJg0l+vZsycBAQH89ddfnDx5kurVq9OyZUuCgoKSlgEQQuDv70+jRo3o06dP0sCOYWFhDBw4kEOHDnHs2DFKly5Nu3btCAsLS7b+tGnT6NmzJ/7+/vj6+tKvXz+CgoIoWrRoUlJy5coVHj58yLx58wCYOXMmP//8M4sXL+bChQuMGzeO/v37s3///lSPpW/fvpw4cYIbN24kzbtw4QLnzp2jT58+CCH46quvmDdvHp9//jn+/v60adOGTp06ce3atWTxfvzxx7z77rucOXOGsmXL0qdPH+Lj49M8j4qi8PXXX3PhwgV+/PFH9u7dy/vvv5/m8r169eLhw4dJj9WrV2NtbU2DBg2SnfMXH4ledt1v3LjB2rVr+eOPP9i2bRtnzpxh9OjRL10nrc/9i5//Vy2j2SMuHEPw+eevC/liqPUtBqy0jy0HHkZ9LSzsYS7X4vhxAwB16pju8WSWUdxCmjRpEmFhYZQvXx4rKyv0ej0zZsygX79+qS4/a9Yspk2blmJ+YGAgcXFxyebFx8djMBhISEggISEh2Xt5ZudJMybfUr5sfn1z0usC8woQFR+V6rJNijVhd//dSa9LfF2Cp9FPky0T91Hcf1d7peXLlzNq1Ci+++47qlevTuPGjenVqxdVqlQB4MiRI5w4cYIHDx5gZ2cHwOzZs9m8eTNr167ljTfeSPpDPXToEF26dGHSpEmMHz8+6Vw0adIk2T4XLVqEh4cHe/fupX375xUnBwwYQM+ePQGYPn06CxYs4NixY/j4+ODq6gpAvnz5cHV1Ra/XExERwaxZs9i+fTv1/u0asn///hw6dIglS5bQsGHDFMdbrlw5qlSpwqpVq/j4448BWLlyJXXq1KF48eIkJCQwb9483nvvPXr06AHAjBkz2LdvH19++SXffPNN0nGNHz8eHx8fACZPnky1atW4cuUK5cuXT/Vcv/XWW0nTRYsWZerUqbz11lt88803qS5vY2ND/vz5AbVU66233uKzzz6jefPmJCQkJCUXL37mEv9Y//s5fPH9mJgYvv/+e4oUKQLAl19+SefOnZk9ezYFCxZMtnxCQgIGg4GgoCBsbGzS3GZoaChCCHQ6o/i9kkQXG0DecwPQxTzgWa2t6B28tQ4pRxnztbA05nQt9u93A+ypVCmcgIDU/0cZs6yUMBtFArN27Vp++eUXVq9eTaVKlTh79izjxo2jcOHCDBo0KMXyH374IRMmTEh6HRYWhpeXFx4eHri5uSVbNiYmhvDwcKytrbG2Tv/hKoqS7uVTLKukXCYj+07Uq1cvOnXqxKFDhzh+/Djbt29n3rx5LFu2jMGDB3PhwgUiIiJS/GOLjo7m9u3bWFtbo9PpuH//Pr6+vvzvf/9LcVvjyZMnTJ48mQMHDhAQEIBerycqKooHDx4ki7latWpJr11dXXFxcSEoKAhra2us/m23Z21tnfSP9ObNm0RFRaUoRYuLi6N69eppno9+/fqxYsUKpkyZghCCtWvXMn78eKytrQkLC+Phw4c0btw42foNGzbk3Llzya7xi/F6eXkB8OzZszT3u3v3bmbPns2VK1cICwsjISGBmJgY4uLicHRMu9O00NBQunbtSvv27Zk4cWLS/MRbSi/uT6fTodPp0oxBp9NRrFgxvL2f/yNv1KgRBoOBmzdvUrRo0WTLJ15fd3d37O3tU92mwWBAURQ8PDyM64s69CLK8Y4oUfcQdvlxdxbgbt6jSRvttbBA5nIthIBTp9R/OG3aOOPp6axxRBlna2ub6XWNIoF5//33mTRpEr179wbgtdde4+7du8yaNSvVBMbOzi6pxOFFif8g/jvvxToKL4r4MO06DlY6q2TLB7wXkOayOkWXbNk779xJscx/951eDg4OtGnThjZt2vDpp5/yxhtvMHXqVIYMGUJkZCSFChVi//79KdZzc3NLOmYPDw8KFy7Mr7/+yrBhw3B5YaSvwYMHExQUxNdff423tzd2dnbUr1+f+Pj4ZDHb2tome60oStKtl8T5Lz4n1h/ZunVrUmlCIjs7uzTPR9++fZk0aRJnzpwhOjqa+/fv07t37xT7+W8s/53/YryJn4nEeP/rzp07dOzYkVGjRjFjxgzy5cvH4cOHGTZsWIrz8CK9Xk/v3r1xcXFh6dKlyZZL3OeL8+Lj41PMe9F/z2Nax/bie4qipPq5/+9yr1omVz3eDYe6Q3wY5CmL0uwvlDyltI4qVxjdtbBg5nAtrl+Hp0/Bzg5q1dJhioeSlfNvFAlMVFRUioOwsrLK0r2x9HCyddJ82YyqWLEimzZtAqBGjRo8fvwYa2trihcvnuY6Dg4ObNmyhXbt2uHj48POnTvJk0e9fXbkyBEWLVpEu3ZqR2H379/n6dOnaW4rNYkZtF6vTxannZ0d9+7do2nTpuneVtGiRWnatCm//PIL0dHRtG7dGk9P9Ze5i4sLhQsX5siRI8m2eeTIEerUqZOhmF906tQpDAYD8+bNS/ocrl279pXrjR8/nvPnz3Py5MkUJSAeHh48evQo6bVer+fChQtJFZ7Tcu/ePR4+fEjhf2vjHT9+HJ1OR7ly5TJ6WMbp5g9w4k0QCeDRGJpsBDt3raOSJJN09Kj6XKuWmsRYGqNIYDp27MiMGTMoVqwYlSpV4syZM8yfP5+hQ4dqHZpmgoKC6NmzJ0OHDqVKlSrkyZOHkydPMnfuXDp37gxAq1atqF+/Pl26dGHu3LmULVuWhw8fsnXrVrp27UqtWrWStufk5MTWrVvx9fXF19eX7du34+zsTJkyZVi5ciW1atUiLCyM999/HwcHhwzF6u3tjaIobNmyBV9fX2xsbHBzc+O9995j/PjxGAwGGjVqRGhoKEeOHMHFxSXVkrVE/fr1Y8qUKcTFxfHll18me+/9999nypQplCpVimrVqrFixQrOnj3LL7/8kqGYX1S6dGni4+NZsGABHTt25MiRIyxZsuSl66xYsYJFixaxceNGFEXh8ePHADg7O+Ps7EyLFi2YMGECW7dupVSpUsyfPz9d/eTY29szaNAgvvjiC8LCwhg7diy9evVKcZvQJN1ZA3+rLdTw7gv1fgArC/zWlaRsktglWIMG2sahGWEEwsLCxDvvvCOKFSsm7O3tRcmSJcXHH38sYmNj07V+aGioAERwcHCK96Kjo8WlS5dEdHR0Nkeds2JiYsSkSZNEjRo1hKurq3B0dBTlypUTkydPFlFRUUnLhYWFibffflsULlxY2NjYCC8vL9GvXz9x7949IYQQU6ZMEVWrVk1aPjw8XDRo0EA0adJEREREiNOnT4tatWoJe3t7UaZMGfH7778Lb29v8eWXXyatA4iNGzcmi8/V1VWsWLEi6fX06dNFwYIFhaIoYsCAAcJgMAiDwSC++uorUa5cOWFjYyM8PDyEj4+POHDgwEuPPTg4WNjZ2QlHR0cRHh6e7D29Xi+mTp0qihQpImxsbETVqlXFtm3bkt6/ffu2AMSZM2eSbQ8Q+/btS3Of8+fPF4UKFRIODg7Cx8dH/Pzzz2l+poQQYtCgQQJI8ZgyZYoQQoi4uDgxatQokS9fPuHp6SlmzZolOnfuLAYNGpRmDInXatGiRaJw4cLC3t5e9OjRQzx79izV5dPz2dbr9eLRo0dCr9enuUyuiY8UYnsdIfw/EcJg0DqaXGdU18LCmcu1qFRJCBBi0yatI8m8xO/n0NDQDK+rCGH63d2GhYXh6upKcHBwqpV4b9++TYkSJdKs6ChlH/Fvyxtra+tM1/uR0ic9n22DwUBAQACenp7a3OuPDwPrPJD4WdDHWmypi+bXQkpiDtciJATy5lWnnzwBTxOtAx8SEkLevHkJDQ1NVj8zPUzzykmSZPzCb8D2WnD+hS4PLDR5kaTstv9IJCgGSpc23eQlq2QCI0lS9gs8CjvrQ/h1uP2jWhIjSVK2OPXwFMP8akD9+ZZb/wWZwEiSlN3uroU9LSD2KeSrBW2Oy2EBJCmbCCF4e9vbPFOuQa3F1GkQq3VImpEJjCRJ2UMIuDQHjrwOhlgo2hla7QcHM2hBJUlGQlEUlnVYgdWlfrDMj6YNLfe2rExgJEnKHiffhrOT1Oly46DRerDOuT6RJMlSbL6ymc+PfJ70Ou5hOfRrV+Fqm4+KFTUMTGNG0Q+MJElmwL023NBBja+g3NtaRyNJJi8qPop3d7zLklNL0Ck6mng3oW7Ruhw5Ag5EcTW2IrqSwKVL8JIhT8yVTGAkSco8IZ43kS45CPLXB5ey2sYkSWbA/7E/fdb34fLTywBMqDeBagWrAWoPvAqCAjF34S7q36EFkreQJEnKnGenYXdjiH7yfJ5MXiQpSwzCwFfHv6LO8jpcfnqZQs6F2Nl/J5+3+Rw7a7W+S+IQApZOlsBIkpRxD7bAkd6QEAlnP4D6P2kdkSSZPCEEvX7vxfrL6wHoWLYj33f6Hg8nj6RlHjyAu3fBWUHt/9uCyRIYyWQMHjyYLl26ZGkb+/fvR1GUdI1LJKXh2rdwsLOavBRsBTW/0ToiSTILiqLQtnRb7K3tWdRuEZt7b06WvMDz0pfXXtMgQCMjExgjpSjKSx9Tp07VOsR0UxQlaQRtrTVo0IBHjx7h6uqqdSimx6CHUxPg5FsgDFByKDT7C2zluZSkzIpJiOHq06tJr4dVH8aVMVcYVXtUqsOxJA7gWK9ebkVovOQtJCP16NGjpOnffvuNTz/9lKtXn3/InZ2dtQjL5Nna2prHyM65LSEKjvaHfzaqr6vOgIofPq/AK0lShl0IuEDf9X0JiQnBf6Q/eR3yoigK3m7eaa5z6JD6XL8+sDR34jRWsgTGSBUsWDDp4erqiqIoSa8jIyPp168fBQoUwNnZmdq1a7N79+5k6xcvXpyZM2cydOhQ8uTJQ7FixVi6NPmn/ejRo1SrVg17e3tq1arFpk2bUBSFs2fPJi1z4cIFfH19cXZ2pkCBAgwYMICnT58mvd+sWTPGjh3LBx98QL58+ShUqBDTp09PFgdA165dURQl6TXA5s2bqVGjBvb29pQsWZJp06aRkJDwynMzbdo0PDw8cHFxYeTIkcTFxSW9ZzAYmDVrFiVKlMDBwYGqVauybt26pPfTcwspJCSEN998kwIFCmBvb0/lypXZsmXLK+Mya/oYCLsEOltosBoqfSSTF0nKJCEE3574ltrLanM+4Dyx+lhuBt985XphYZD49dywkQIVK6oPC/1btOwEJiEy7Yc+Jv3LJkS/etlsFBERQbt27dizZw9nzpyhbdu2dOzYkXv37iVbbt68edSqVYszZ84wevRoRo0alVSKExYWRseOHXnttdc4ffo0n332GRMnTky2fkhICC1atKB69eqcPHmS7du38+TJE3r16pVsuZ9++gknJyf+/vtv5syZw4wZM9i1axcAfn5+AKxYsYJHjx4lvT506BADBw7knXfe4dKlS3z33Xf8+OOPzJgx46XHvmfPHi5fvsz+/ftZs2YNGzZsYNq054MFzpo1i59//pklS5Zw8eJFxo8fT//+/Tlw4EC6zq3BYMDX15cjR46watUqLl26xOzZs7GyskrX+mbLLp96u6jFHijeR+toJMlkBUYG0unXTry17S1iEmLwLe3LuZHnqFW41ivXPXoUDAYoWRIKl3aEixfVhwX2AQOAMAOhoaECEMHBwSnei46OFpcuXRLR0dEpV/yFtB/72iVf9lfHtJfd1TT5suvyp1wmC1asWCFcXV1fukylSpXEggULkl57e3uL/v37J702GAzC09NTLF68WAghxOLFi4W7u3uy87Js2TIBiDNnzgghhPjss89EmzZtku3n/v37AhBXr14VQgjRtGlT0ahRo2T7qVWrlvjggw+S5gFi48aNybbTsmVLMXPmzGTzVq5cKQoVKpTmMQ4aNEjky5dPREZGJs1bvHixcHZ2Fnq9XsTExAhHR0dx9OjRZOsNGzZM9OnTRwghxL59+9L8rAghxI4dO4ROp0s6PmP20s/2v/R6vXj06JHQ6/UZ38GjPUJcX5aFCKUXZelaSNlKq2ux48YOUfCLgoKpCLvP7MQ3x78RBoMh3et/9JEQIMSgQTkXY24LDg4WgAgNDc3wurIOjAmKiIhg6tSpbN26lUePHpGQkEB0dHSKEpgqVaokTSfeggoICADg6tWrVKlSBXt7+6Rl6tSpk2x9f39/9u3bl2p9m5s3b1K2bNkU+wGS7Sct/v7+HDlyJFmJi16vJyYmhqioKBzT+EVRtWrVZO/Vr1+fiIgI7t+/T0REBFFRUbRu3TrZOnFxcVSvXv2l8SQ6e/YsRYsWTTo2i3XrJ/j7DcCg9u3i2UTriCTJ5C09tZTHEY+p6FGRNd3XUKVAlVev9ILE+i9N5J8jYOmVeHtFpP2e8p9bBt1f9g/5P3fiOt/JbETp8t5777Fr1y6++OILSpcujYODAz169EhWFwTAxsYm2WtFUTAYDOneT0REBB07dmTOnDkp3itUqNBL9yNe0TNkREQE06ZNo1u3bineezGpyoiICPV6bt26lSJFiiR7z84ufQOeOTg4ZGrfZkMIOD8VLvxbj6nY6+Be56WrSJKUPks7LqWse1k+afIJDjYZ+66JiYG//1anGzcGoqKgdm11hp+fRd5GsuwEJiMDzeXUsplw5MgRBg8eTNeuXQH1H/edO3cytI1y5cqxatUqYmNjk/65J9ZPSVSjRg3Wr19P8eLFsbbO/EfFxsYGvV6fYttXr16ldOnSGdqWv78/0dHRSYnG8ePHcXZ2xsvLi3z58mFnZ8e9e/do2rRppmKtUqUK//zzD9euXbO8Uhh9rFrqcmeV+rrih1D1f6BYdlU5ScoMIQRLTy3l+IPj/NDpBxRFIZ9DPma2nJmp7fn5QVwcFCgApUsDUUIdA0ndWfYFbkLkN5MJKlOmDBs2bODs2bP4+/vTt2/fDJWsAEnrjBgxgsuXL7Njxw6++OILgKS+B8aMGcOzZ8/o06cPfn5+3Lx5kx07djBkyJAUCcnLFC9enD179vD48WOCg4MB+PTTT/n555+ZNm0aFy9e5PLly/z6669Mnjz5pduKi4tj2LBhXLp0ib/++ospU6bw1ltvodPpyJMnD++99x7jx4/np59+4ubNm5w+fZoFCxbw00/p6ym2adOmNGnShO7du7Nr1y5u377Ntm3b2L59e7qP1yTFPoN9bdTkRbGCOsug2kyZvEhSJgRFBdFtbTdGbh3Jj2d/5K/rf2V5m4m3jxo3tthGRynIbycTNH/+fPLmzUuDBg3o2LEjPj4+1KhRI0PbcHFx4c8//+Ts2bNUq1aNjz/+mE8//RR4fguncOHCHDlyBL1eT5s2bXjttdcYN24cbm5u6HTp/+jMmzePXbt24eXllVQXxcfHhy1btrBz505q165NvXr1+PLLL/H2Trv/A4CWLVtSpkwZmjRpwuuvv06nTp2Sder32Wef8cknnzBr1iwqVKhA27Zt2bp1KyVKlEh3vOvXr6d27dr06dOHihUr8sEHH2QoYTNJ99dBwEGwzqO2Nir9htYRSZJJ2nt7L1WWVGHTlU3Y6GyY12YevmV8s7zdgwfVZ1n/5TlFvKqyggkICwvD1dWV4OBg3Nzckr0XExPD7du3KVGiRKbrVliKX375hSFDhhAaGprpuiBCCBISErC2tk61F0kp+6Tns20wGAgICMDT0/PlSWdi3ZdiPcBN9lGeE9J9LaQclxPXIk4fx6f7PmXukbkIBOXcy7Gm+xqqF0pfA4KX0eshb14ID4czZ6BaNSAyEhIbWEREgFPOVl3IKSEhIeTNm5fQ0FBcXFwytK5l14GxcD///DMlS5akSJEi+Pv7M3HiRHr16iUrslqKh9vAoyHYuKhl0lWmvXodSZJS9fq619l0ZRMAI2qMYL7PfJxssyep8PdXkxcXFzkG0otkAmPBHj9+zKeffsrjx48pVKgQPXv2fGVHcpIZEAKuzIMzH0ChNtD0T9DZvHo9SZLSNLbOWA7fO8zSDkvpWqFrtm47sf5Lw4Zg6X1qvkgmMBbsgw8+4IMPPtA6DCk3GRLg1Fi4vlh9nacMsiqcJGVccHQwZx+fpXmJ5gA0L9Gc2+/cxtk2+8epS7X+i6JAYp1BC71dLxMYSbIU8eFwpDc8/AtQoMaXUP4draOSJJNz8O5B+m/oz7PoZ5x58wxl3MsA5EjyIkTyFkhJHB0hg91nmBuLSWDMoK6yJCWToc901AM41AmCz4KVgzogo1eXnApNksxSvD6e6QemM/PwTAzCQOl8pYmKj8rRfV67BoGBYGcHtV49XJJFMfsEJrGX2KioKFk5VTIrUVHqF+d/e0JOQQiUIz3V5MXeE5puAffaOR+gJJmRW8G36Lu+L38/ULvDHVptKF/7fp0jpS4vSrx9VK+emsRIz5l9AmNlZYWbm1vS2DyOjo6yeW8Oks2oc54QgqioKAICAnBzc3v1SNmKgqi1COXkKGj4GzgXz5U4Jclc/HLuF0ZtHUV4XDiudq4s7biUXpV65cq+DxxQn5PdPgKIjn5eKebgQbDAH+hmn8CAOrgg8MoBBqWsE0JgMBjQ6XQygclhbm5uSZ/tVEXcBsd/K/nlrQZtjltsZT9JyooLARcIjwunUbFGrOq6Cm+3l3e4mV2EgH371Onmzf/zpsEAJ08+n7ZAFpHAKIpCoUKF8PT0JD4+XutwzJrBYCAoKAh3d3fZWVcOsrGxSbvkRRjg7CS4+g202AOUUufL5EWS0i3BkIC1Tv0XOb35dErkLcGw6sOw0uVeO+br1+HhQ7C1hfr1c223JsMoEpjixYtz9+7dFPNHjx7Nt99+m237sbKyenVxu5QlBoMBGxsb7O3tZQKjhYRoODZQHRoA4OlxyFdK25gkyYQkGBKYcXAGO27u4MDgA9hY2WBjZcOImiNyPZb9+9Xn+vUt8g7RKxlFAuPn55dsrJkLFy7QunVrevbsqWFUkmRiYgLgQGcIOq52TFf3B/DuC/LWqSSly52QO/Tf0J8j948AsOHyBl6v/Lpm8STePmrWTLMQjJpRJDAeHh7JXs+ePZtSpUrRtGlTjSKSJBMTegX2t4PI22CbFxpvhAJNLfbeuCRl1K8XfuXNLW8SFhtGHts8LGq/SNPkRYjnJTAp6r9IgJEkMC+Ki4tj1apVTJgwIc1KoLGxscTGxia9DgsLA9TbFwb5ha0pg8GQVJFXyiXh11F2NUCJC0Y4lUQ0/RNcysO/fw/yehgHeS2Mx4vXIjw2nLHbx/LzuZ8BqFekHiu7rqRk3pKaXqsrV+DxYx12doLatUXK3yIGQ1If2gaDwWR/rGTlHBtdArNp0yZCQkIYPHhwmsvMmjWLadNSDjwXGBhIXFxcDkYnvYrBYCA0NBQhhKwDk1tEHtxcG6CLfUxwlR8RMfnU20nI62FM5LUwHi9ei1F7RvHHrT/QKTreqf4O42uMxybeRvNWq3/+6QC4UqtWHGFhwfz7Oz2JEhWFR758gPq/T0RG5n6Q2SA0NDTT6yrCyLqo9fHxwdbWlj///DPNZVIrgfHy8iIoKAg3N7dciFJKi8FgIDAwEA8PD/klnZOEAJHwfBDGhGj12Tp5TT95PYyHvBbG48VrcTP4Jt3WdmNR+0U0Lvbfzla007u3wu+/K0ybZmDyZK2jyTkhISG4u7sTGhqKi4tLhtY1qhKYu3fvsnv3bjZs2PDS5ezs7LBLpUtCnU4nvxiMgKIo8lrkJH0cnBgBhnhosEptHm3rlObi8noYD3kttHc/9D47b+6kfeH26HQ6ynmU4/zo8+gU47kmQjzvwK55cx3m/HHJyt+CUZ2WFStW4OnpSfv27bUORZKMU1wI7G8Lt3+Ce7/Bs5NaRyRJJmPdpXVUXVKV4X8O5+jDo0nzjSl5Abh0SW086OAAdepoHY3xMpoSGIPBwIoVKxg0aBDW1kYTliQZj4g7akujsMtg7QyN1soxjSQpHSLjInln+zt8f+Z7AGoVqkVBp5f0Yq2xxNZHDRu+ZPyj6Gjw9VWnt22zyI5ijCZT2L17N/fu3WPo0KFahyJJxufpCTjYUa2c61AEmm2FvFW1jkqSjN6ph6fou6Ev14KuoaAwseFEpjSdQkhQiNahpSld/b8YDM/vM5loC6SsMpoEpk2bNhhZfWJJMg7//AFHeoM+Wh3TqOkWcCyidVSSZPQWnljIhB0TiDfEUyRPEVZ2XUnzEs2Nuim7wSD7f0kvo0lgJElKg00etcVRIV9o9Jv6WpKkV3KycSLeEE+3Ct1Y2mEp7o7uWof0ShcvQlAQODpCbXmH+KVkAiNJxq5Ac2h5QK3vopN/spL0MsHRweR1yAvA4GqDKepSlFYlW6XZMaqxSbx91KgR2NhoG4uxM66q15IkQXwEHO0PoZeez/OoL5MXSXqJqPgoRm0ZRZUlVXgW/QxQm623LtXaZJIXgN271ecWLbSNwxTIBEaSjEnUQ9jdFO78Aoe6g0H/6nUkycL5P/an1tJaLDm1hH/C/uGv639pHVKmxMc/r//SurWmoZgE+ZNOkoxFyHnY3x6i7oOdB9RbATorraOSJKNlEAa+Pv41k/ZMIk4fR0Hngvzc5WdalzLN//5+fhAeDu7uUK1aOlZwdMzpkIyaTGAkyRg82gmHekBCuDoQY7Ot4FxS66gkyWg9jnjM4E2D2XFzBwAdy3bk+07f4+HkoXFkmZd4+6hlS17d+66TE5jo+EfZRSYwkqS1G8vBbyQIPXg2gyYbwDav1lFJklH7dN+n7Li5A3tre+a1mceoWqNMqq5LanbtUp9btdI2DlMhExhJ0pJBD3dXq8lL8QFQdzlY2WodlSQZvTmt5vAw/CFzWs2hkmclrcPJsvBwOH5cnZYJTPrISrySpCWdFTReDzW/hvo/yeRFktJwMeAiH+7+MKnD07wOednSd4tZJC8ABw9CQgKULAklSqRjhZgYaN9efcTE5Hh8xkiWwEhSbot5CvfWQtnR6mvbvFBurLYxSZKREkKw+ORi3t35LjEJMZTLX47B1QZrHVa2S6z/ku7WR3o9/PXX82kLJBMYScpNYdfVARkjboCiQJlRWkckSUYrMDKQYX8M489rfwLQtnRbfEv7ahxVzpD1XzJOJjCSlFsCDsPBzhD3DJyKqxV2JUlK1a6buxi4aSCPIx5ja2XL3FZzebvu2+gU86v58OiROoSAosjxjzJCJjCSlBvurIHjg8EQB/lqQ9M/waGA1lFJklGac3gOk/ZMAqCiR0VWd1tN1YLmO/r6nj3qc40aah8wUvqYXyorScZECLg4E472VZOXol2h1X6ZvEjSS9T3qo9O0TG61mhODj9p1skLZKL+iwTIEhhJylnPToH/ZHW6/ASoNlf2ritJ/yGE4Pqz65R1LwtAE+8mXB5zOem1ORNC1n/JLFkCI0k5yb0W1JgHtRaqzzJ5kaRkgqKC6L62O9W/q87Vp1eT5ltC8gJw5Qo8fAj29tCwodbRmBZZAiNJ2S3yLqADJy/1dfnxmoYjScZq3+19DNg4gAfhD7DR2XDy4UnK5S+ndVi5KrH0pVEjNYlJNycntfjGgskERpKyU9BJONAR7D2g9WGwcdE6IkkyOnH6OD7d9ylzj8xFICjnXo7V3VdTo1ANrUPLddu3q88+PtrGYYpkAiNJ2eWfP+BIH9BHqQlMfLhMYCTpP64HXafvhr6cfHgSgOE1hvOlz5c42TppHFnui46G/fvV6bZtNQ3FJMkERpKyw9Vv4NQ4QEAhH2i0ViYvkpSKVedWcfLhSfLa52V5p+V0q9BN65A0c+iQmsQUKQKVMjoiQkwMDBigTq9cmcH7T+ZBJjCSlBUGPZyeANe+UV+XGg61vwWdjbZxSZKRmtxkMiExIbzf8H2KuhTVOhxNJd4+attW7cQuQ/R6WLdOnf7xx+wMy2TIVkiSlBX+Hz5PXqrNhjrfyeRFkl5w6O4huv3WjTh9HAA2VjZ87fu1xScvANu2qc++5jk6Qo6TCYwkZUW5d8C5NDT8DSpOzMTPKEkyT/H6eD7Z+wnNfmrGxisbmX9svtYhGZU7d9Qm1FZW0LKl1tGYJnkLSZIyKvYZ2OVTpx2LQPuLYGWrbUySZERuBd+i34Z+HP/nOABDqg3hrTpvaRyVcdmxQ32uXx/c3DQNxWTJEhhJyojHu+GPUnD3t+fzZPIiSUlWnVtFtSXVOP7PcVztXPm1+6/80PkHnG2dtQ7NqLxY/0XKHJnASFJ63VwB+3whPgRufm/xnUhJ0n/NODiDARsHEB4XTqNijfAf6c/rlV/XOiyjExf3fABHmcBknkxgJOlVhAD/T+DvoSASwLuvOpq0rO8iScn0rtwbN3s3pjebzr5B+/B289Y6JKN09CiEh4OnJ1SvrnU0pkvWgZGkl9HHwvGhcHe1+rrSZKgyXSYvkgQkGBI4cOcALUuqtVBL5SvF7Xdu42bvpm1gRu7F3nd1mS1GcHSEiIjn0xZIlsBIUlr0sbCvjZq8KNZQ9weo+plMXiQJuBtyl2Y/NqP1ytbsubUnab5MXl4tW+q/KIo6HpKTk8V+J8kSGElKi5UduNeF4LPQeAMUlG0dJQngtwu/8eaWNwmNDSWPbR5CY0O1DslkPHwI/v5qztG6tdbRmDajKYF58OAB/fv3x93dHQcHB1577TVOnjypdViSJXqxcm612eDrL5MXSQLCY8MZsnkIvdf3JjQ2lHpF63F25FmLHg4goxKbT9eqBR4eWdhQbCwMHqw+YmOzITLTYxQlMMHBwTRs2JDmzZuzbds2PDw8uH79Onnz5tU6NMnS3PsdbiyDpn+AlT0oOnAurnVUkqQ5vwd+9N3QlxvPbqBTdHzc+GM+bfop1jqj+DdiMrZsUZ/btcvihhIS4Kef1OlvvwU7uyxu0PQYxSdvzpw5eHl5sWLFiqR5JUqU0DAiyeIIAZc/h7MT1dfXF0P58drGJElG5PLTy9x4dgMvFy9+6fYLjb0bax2SyYmNhZ071emOHbWNxRwYRQLzxx9/4OPjQ8+ePTlw4ABFihRh9OjRDB8+PNXlY2NjiX2hyCwsLAwAg8GAwWDIlZil1BkMBoQQpnUdDPEop95GubkMAFF2LKL0W2BKx5AGk7weZsoUr4VBGNApak2DfpX7ERYTRp/KfcjrkNekjuO/tLoW+/ZBRISOQoUEVauKrH3FGAxJdUAMBoPJfl9l5RoYRQJz69YtFi9ezIQJE/joo4/w8/Nj7Nix2NraMmjQoBTLz5o1i2nTpqWYHxgYSFxcXG6ELKXBYDAQGhqKEAJdptsH5h4lIRy3CyOwe7YfgUJ4melEFX0DngaluY4QEBWlEBGhEB8PtrZgbS1wdhbYGlmnvKZ2PcyZqV2LLbe2MP/UfNZ1XEc+e3XojB7ePYgPjycgPEDj6LJGq2vx++95ACdatIjm6dOwLG1LiYqiwL/TgYGBiMjILMenhdDQzFcAV4TQvjtRW1tbatWqxdGjR5PmjR07Fj8/P44dO5Zi+dRKYLy8vAgKCsJNDiqhKYPBQGBgIB4eHsb/JR15H+VgR5TQ8wgrR0SDX6BIp6S3Q0Ph5Enw84OLFxXu3IFbtyAgAAyG1Jst5ssnKFAAihWDihWhYkVB1apQtSpYa/BzwaSuh5kzlWsRGRfJ+J3j+f7M9wB80OADZrWcpXFU2UuLayEElCqlcPeuwsaNBjp1evU6LxUZic7FBQBDWJjanNoEhYSE4O7uTmhoKC7/Hk96GUUJTKFChahYsWKyeRUqVGD9+vWpLm9nZ4ddKhWWdDqdUX8xWApFUUzjWogYiP4H7AugNN2Cwa0WfifUSnZbt8LZsy9fXacDGxu1W/DEnwHPnik8ewaXLye2NlATHScnqFcPmjdX732/9lrudd1gMtfDAhj7tTj96DR91vfhWtA1FBQmNpzItObTjDberMjta3HhAty9C/b20KaNLvMd2CV6YQM6nS4LPeJpKyvn3ygSmIYNG3L16tVk865du4a3t+yGWspBLuWg6VZuPynMsnne/PwzPHiQfJESJaBOHahWDUqVUl8XLgyurmrnl4lJiF6vltg8fgyPHsHNm3DpEly8qJbghIaqY5/s2QOTJ4O3t5rI9OsHdetabD9UkpEwCAPzj83noz0fEW+Ip0ieIqzsupLmJZprHZrZ+PNP9bllS4vtODfbGUUCM378eBo0aMDMmTPp1asXJ06cYOnSpSxdulTr0CRzc20RuJRFFGjF7t0wZ079pEHVQE1MfHygQwdo0wYKFEh7Uy+ysoJ8+dRHxYrql1Qig0FNZA4fhm3bYNcu9ZfYwoXqo1w5tSuHQYOgUKFsPVpJSpe5R+by4Z4PAehavivLOi7D3dFd46jMS2Lz6Q4dsmmDjo7q/ezEaUskjMSff/4pKleuLOzs7ET58uXF0qVL071uaGioAERwcHDOBSili16vF48ePRJ6vV7rUJLTJwhxaoIQvyDifnERvk3vCfXGjxA6nRC+vkKsXStETEzOhxIZKcTmzUL06yeEg4NIisPGRogBA4Q4cyb79mW018MCGfO1CI4OFhUWVhDfnfxOGAwGrcPJcbl9LQIChFAU9e/8/v1c2aXJCA4OFoAIDQ3N8LpGUYk3q8LCwnB1dSU4OFhW4tWYwWAgICAAT09P47lvnhAFR/vDPxsB+Hjt/5i5+SMcHRVGjIDx49VKt1oIC4N16+D779URahO1aAGffALNmmVt+0Z5PSyUMV2LqPgoVvqvZETNESj/3r9MMCRYTKd0uX0tfv5ZLWGtVg3OnMnx3ZmUkJAQ8ubNm6lKvPIbTTJv0U+I39Ec/tlIbLwtfRau5sudH/PRRwr37sGXX2qXvAC4uMDQoXDkCJw4AX36qLej9u5VK/y2bKm+J0nZ5dyTc9ReVpuRW0ey7PSypPmWkrxoIbH+S7Z2XhcbC2PGqA8LHUpAJjCS2RIhl4jcWA+b0BMEheej9ezd2Jfrw7VrMGMGuBvZLf7atWH1arWp9pgxagunvXuhUSP1vvl/6rlLUoYIIfj6+NfUXlabS4GXKOhckOJuxbUOy+zFxT0f/yjb6r+AOpTAokXqIyEhGzdsOmQCI5mlkBDYsXARTtzhxuNSDFh1jM9/bMyKFVC0qNbRvVyxYmrl3uvX4Y031BKZrVuhcmV49121RZMkZcSTiCe0W92OcTvGEaePo0PZDpwbeY42pdpoHZrZO3gQwsPVBgG1amkdjXmRCYxkdvz8oEYN6DR1Pl9um8C68GNs3F2WunW1jixjvL1h2TK1OXb79uqPrPnzoUwZWLEi+aDZkpSW3bd2U2VJFbbf2I69tT0LfRfyR+8/8HDKylDIUnpt2qQ+d+hgsl21GC15OiWzIQyCnUtX07iRntu3oYiXLQ3fnsekKR4mPVBr2bJqE8y//lKbXAcGqvVmWrdWbzdJ0svYW9vzNOoplT0r4zfcjzF1xiRV3JVylsHwPIHp2lXTUMySTGAks5AQG8eJbwbRxrkfs3u9S7duam3/OnW0jiz7+PrC+fMwdy44OKid4lWurJbK6PVaRycZk4i4iKTpRsUasaXPFvyG+1HZs7KGUVkePz+1c0xn5+R9Q0nZQyYwkskLDQzm4kIf6nquJEFvRYV6lVi3DsyxRb2NDbz/vprING8O0dFqvZhGjdTefyXLJoRgkd8ivL/y5srTK0nzfcv4Ym9tr2Fklmmj2nMD7durQwhI2UsmMJJJC7x9i2e/1qdqof2ERefhb8e/8Bkz3Oy75i9VSi2BWb5c7T34+HG1jwlZN8ZyBUYG0vnXzoz5awzPop/x3cnvtA7JogkBGzao0/L2Uc6QCYxksh5d+BvdrnqUcL/Kg2AvHlQ8QsPultOqQlFg2DA4dw6aNoWICLVuTM+eEBSkdXRSbtp5cydVllThz2t/Ymtly5c+XzLPZ57WYVm0S5fUloS2turt32zn4AC3b6sPB4cc2IHxkwmMZJKuXw7H7lh73J0DufCwOvEtjlOh/mtah6WJYsXU0phZs8DaGtavh+rV1Y7xJPMWmxDLuzvexWeVD48jHlMhfwVOvHGCcfXGoVPk17uWEm8ftW6tdliZ7XQ6KF5cfVho8ybLPGrJpN28CU1b5mHY0mXsudqJvD0PUrxCYa3D0pSVFUyapN5KKlMG7t9X68UsXixvKZmz5aeXM//4fABG1RrFyREnqVqwqsZRSfA8gZG3j3KOTGAk02FI4MG1W7RsCY8ewY2YrlQZs4ki3s5aR2Y0atZUWz506wbx8fDWWzrGjHElIuLV60qm581ab9KxbEc2vb6JRe0X4WhjoaMSG5k7d+D0abVgpFOnHNpJXJxao//999VpCyQTGMk0xIcTs6szNvsaIiLvUqYM7NoFHp5mXls3E1xd1QEi580DKyvBxo0O1K+vcOOG1pFJWfUs+hkTd00kNkEd+8ZaZ80fff6gc/nOGkcmvSix75dGjcAjp/oLjI+HL75QH/HxObQT4yYTGMn4RT1Av6MJ9kF/4WwbStNqV9izBwoW1Dow46UoMGEC7NkjKFBAz6VLCnXqqGMrSaZp/539VFlchblH5zJ572Stw5FeIvH2Ubdu2sZh7mQCIxm3YH/EjrpYhZ3lSagn3RbtZ8oSH7y8tA7MNDRuDDt2BFG3riA4GNq0UevFSKYjXh/PR3s+osVPLXgQ/oCy7mXpXbm31mFJaQgIgEOH1OkuXTQNxezJBEYyXg+3I3Y1Qol+wKUHFWg26zifLapDqVJaB2ZaChQwsHevoF8/tcfe0aPhrbcsdgBbk3Lj2Q0a/tCQWYdnIRC8Uf0NTo84Tc3CNbUOTUrD5s1qxfkaNdTxzKScIxMYyTg93AYHOqAkRLD3YnMaTTvC7AUlqF1b68BMk709rFypNrVWFPj2W7V30PBwrSOT0rL12laqf1cdv4d+5LXPy7qe61jWaRlOtk5ahya9xG+/qc89e2obhyWQCYxknDwaE6arwk+HBtF2znamzsxLZ1lPMUsURW1qvXEjODnBzp1qB3iPHmkdmZSaCh4VUFBoVrwZ/iP96V6xu9YhSa8QEAD79qnTvXppG4slsNY6AElKoo8FnS0oCrfuO9N8/D7uPXLhjTcU3n5b6+DMR+fOsH+/WgJz5gzUrw/bt0P58lpHJt0NuYu3m3rfoWTekhwddpQK+StgpbPSODIpPdavV0egrlULSpbUOhrzJ0tgJOMQEwi7m8Gl2URFqbX37z1ypU4dhYULMfuxjXJbrVpw9Kja6d3du9CwIRw5onVUlivBkMCn+z6l9ILS7Lq5K2l+Zc/KMnkxIWvXqs+vv54LO3NwgAsX1IccSkCSNBJ2FXbWg6DjcPkL3hsbhL8/eHqqv2js7LQO0DyVKqUmLXXrwrNn0KrV8/4rpNxzO/g2TVY04bODn5FgSGDXrV2vXkkyOo8ewYED6nSu1H/R6aBSJfUhhxKQJA08OQA760PELXAuyebooyz+3h2dTv01U7So1gGaNw8PtW+Yjh0hJgZ69FAr+0q545dzv1B1SVWO/XMMVztX1nRfw9zWc7UOS8qEdevU1kf16snWR7lFJjCSdm6vgn2tIS4Y3Otxq/Rx+o0qB8DUqWoFUynnOTrChg0weLDazHrgQFi0SOuozFtYbBgDNg6g/8b+hMeF09CrIf4j/WX/LiYsV28fgTp8wNSp6kMOJSBJuejiTDg2AAzx4NWd2MZ76TnAg8hIaNYMPvpI6wAti7U1fP89jB2rvh4zBmbP1jYmc7bjxg5WnVuFlWLFtGbT2D94f1LlXcn0/PMPHD6sTvfokUs7jY+HadPUh4UOJSBbIUnasMuvPld4H6rNZvIHOk6fBnd3WLVKHV1Zyl06HXz1Fbi4wP/+Bx9+CKGhMHOmrESd3XpW6skHDz+gc/nONPBqoHU4UhatW6c+N2okb3vnJlkCI2mj9Ahocxyqz+XIUR3z5qmzf/gBihTRNjRLpijw2Wcw999qGLNnq732GgzaxmXq7oXeo9e6XgRFByXNm9N6jkxezERi53W5dvtIAmQCI+WWiDtwoDPEPH0+L39doqLUuhdCwJAhOTj0vJQh778PS5aoCc2iRTBypExiMmvtxbVUWVyF9ZfX88nRT7QOR8pmd+/C8ePq30p32ddgrpIJjJTzgvzUZtIP/oCTo5O99dFHcOOGWuoyf75G8UmpevNN+Pln9dbSsmXqa5nEpF9EXARDNw/l9XWvExobSr0i9ZhYe6LWYUnZ7Ndf1eemTaFQIW1jsTSyDoyUs+5vgqN9QR8NblWhxvMs5eBB+OYbdXr5cnBz0yRC6SX691d/WQ4cqF4jgO++s9huJ9LN74EffTf05cazG+gUHR83/piPG31McFCw1qFJ2UiI590O9O+vbSyWSCYwUs4QAq58BacnAAIK+UKj38AmDwBRUeotIyHgjTegbVtNo5Veol8/NYkZMEBNYoSApUtlEpOWLde20PW3riQYEvBy8WJVt1U08W6CQRZfmZ1z5+DiRbWzTXn7KPcZxVfQ1KlTURQl2aO8HJjFdAk9yul34PR4QEDpkdD0j6TkBdSKordugZcXSRV4JePVt6/aOkynU5tbDx8ubyelpXGxxni5eNGzYk/8R/rTxLuJ1iFJOWTVKvW5Y0cNSpDt7eHECfVhb5/LOzcORlMCU6lSJXbv3p302traaEKTMkhJCINH29UX1T+H8u8ma4d76RJ88YU6vXCh2mxXMn59+qiXsV8/tbWYEGqJjCyJgcP3DtPQqyGKouBq78rxN47j4eiBItufmy29HlavVqc1uX1kZQW1a2uwY+NhNF891tbWFCxYMOmRP39+rUOSMknY5EU02QKN10OF95IlL0LAqFGQkKC2OJKtjkxL797ql7aVFaxYoXZ4J4TWUWknMi6SEX+OoPGKxiw5uSRpvqeTp0xezNz+/fDwIeTLB76+WkdjmYymmOP69esULlwYe3t76tevz6xZsyhWrFiqy8bGxhIbG5v0OiwsDACDwSDvM2sl5DyEnMdQrDdCCAzOpcGlbIr7DD/9BAcP6nB0FHz1lZC3IXKYwWBQr0c2nuiePdVfn/37KyxZouDgIPj8c2Fxnd2deXSGfhv7cTXoKgoKjyMev/Q858S1kDInO67FypUKoNCzp8DaWoPvsri4560gxo4FW9tcDiB7ZOUaKEJo//tp27ZtREREUK5cOR49esS0adN48OABFy5cIE+ePCmWnzp1KtOmTUsx/8qVK7i6uuZGyNILbIP243ZhOIohmqAqvxKoq4Srqyu6/9xbCA5WaNTIg2fPdEyeHM6YMZEaRWw5DAYDoaGhqV6PrFqzxoEJE9S/t/HjI/jgg4hs3b6xMggDS88tZeaJmcQb4inkVIgFzRfQsEjDl6+Xg9dCypisXouoKKha1ZOICB2bNwdRp07ud+WvREVRoFQpAJ7cvIlwdMz1GLJDaGgo5cuXJzQ0FJcM1icwigTmv0JCQvD29mb+/PkMGzYsxfuplcB4eXkRFBSEm2yLm7tuLkc5ORpF6BEeTdA3+J3AMD0eHh4pvhjGjFF/sVeqJDh1SmBjo1HMFsRgMBAYGJjq9cgO334LY8eq2501y8AHH2T7LozKo/BHDP5jMLtvqfX1upTrwtIOS3F3dH/lujl9LaT0y+q1+O036NtXR/Highs3NCp9jIxE9+8/fENYGDg5aRBE1oWEhODu7p6pBMZobiG9yM3NjbJly3Ljxo1U37ezs8POzi7FfJ1OJ78YcoswgP9kuDRLfV28P0rd5egUG5TwgBTX4sIFtektwLffKtjZWdj9Bg0pipJjfxtvv63+Gp00CT78UIeTkzrPXN0Lu8e+2/twsHbgq7ZfMbzG8AzVdcnJayFlTFauxS+/qM/9+ytYWWn0XfZC3DqdzmRr02flb8EojzgiIoKbN29SSHZraJz0MXCk7/PkpfKnUP9nsEqZVIJayXPCBLU6TPfuao+VkvmYOBE++beH/LFj1RZK5uTFQur6XvX5rsN3nH7zNCNqjpAVdS3Qo0ewbZs6LTuv05ZRJDDvvfceBw4c4M6dOxw9epSuXbtiZWVFnz59tA5NSs2dNXDvN1Csod6PUGXaS4cr/usv2LVLrWOWOEigZF6mTVOTVFA7JlyzRtt4ssu5J+eos7wOlwIvJc0bVmMY5fPLfqos1cqV6o+xhg2hXDmto7FsRnEL6Z9//qFPnz4EBQXh4eFBo0aNOH78OB4eHlqHJqWm5GAI8YcinaBgi5cuGh8P776rTr/zDpQsmfPhSblPUdS+faKi1EEgBwxQ+/dp317ryDJHCMGCEwv4YNcHxOpjmbBjAtv7b9c6LEljQjwvYRwyRNtYJCNJYH5NHA1LMl5BfuBaEayd1P9WNb9K12pLlsDVq+DhAR9/nLMhStpSFLVSb2Sk+iu1Rw/YuRMaN9Y6sox5EvGEIZuHsO2Gep+gfZn2/NDZzO6LSZly7Jj6feboCL16aR2NZBS3kCQjd+dX2NUIjvQBgz7dq4WEwNSp6vT06SBbuJu/xKEG2reHmBi1i3V/f62jSr9t17dRZUkVtt3Yhr21PQt9F/Jnnz/xdPLUOjTJCCSWvvTqBan08JG77O1h3z71IYcSkKT/EEKtqOv/b9GJYg2GONA5pGv1L76AZ8+gYkW1XoRkGWxsYO1a8PGBw4fVgToPH4Z/u6wwWttvbKfd6nYAVPaszJrua6jsWVnjqCRjERmpNp8GGDpU21gAtTvsZs20jkJTsgRGSp0hHk4Mf568lBsPjX4H6/QlL0+ewFdfqdMzZoAc2sqyODrCn39ClSrw+DG0aaO23jBmrUq2olGxRoytMxa/4X4yeZGSWbcOIiKgdGlo1EjraCTIYglMfHw8jx8/JioqCg8PD/Lly5ddcUlaiguFwz3g8W5QdFDzGyg7JkObmDVLITJSHWusc+ccilMyam5usGOH2lrj1i21JObAAQ1G7U2DEILV51fTvWJ37K3tsdZZs3vAbuysU+8OQLJsL1beNYrW8/HxzzvXGjECS+wZNMMlMOHh4SxevJimTZvi4uJC8eLFqVChAh4eHnh7ezN8+HD8/PxyIlYptyQmL9ZO0GRzhpOX+/d1fPedOj1zppH8sUuaKFhQbUJfsCCcO6fWiYmK0joqeBr1lC6/daH/xv58uPvDpPkyeZFSc/06HDyo1vEaOFDraP4VFwdvvaU+4uK0jkYTGUpg5s+fT/HixVmxYgWtWrVi06ZNnD17lmvXrnHs2DGmTJlCQkICbdq0oW3btly/fj2n4pZyUtWZ4FwaWh2EIh0yvPqXXzoTF6fQogW0apUD8UkmpWRJtSTG1VWtC9Orl/rjUSu7b+2myuIq/HH1D2ytbPF289YuGMkkLFumPvv4QNGi2sYiPZehsZD69OnD5MmTqVSp0kuXi42NZcWKFdja2jI0F2o7hYWF4erqSnBwsBwLKbNinoJ9/uevDQmgy/gdxkuXDLz2moLBoHDsGNSrl40xShlmMBgICAjA09NT8+7rDx+G1q3V1kn9+6sjk+dmSHH6OD7e8zFfHPsCgAr5K7C6+2qqFayWK/s3pmth6TJyLWJjoUgRCAqCzZuhU6dcCvJVIiPB2Vmdjogw6bGQ8ubNm/NjIa15oXvN8PDwVEeKBnWsopEjR2YoEElDVxeA/0fQch+411LnZSJ5AZg+XU1eOnYU1Ksn7x1JzzVqpFaE7NwZVq0CT0+YNy939n3j2Q16/d6LM4/PADCy5kjm+czD0cY0R/CVcs/69WryUrQotGundTTSizL9M6Bx48Y8fvw4O2ORcptBD6fGw6mxkBAB99dlaXNXr6rNZwGmTjW6Qc4lI9C+Pfz4ozo9f776yA3WOmtuBt8kn0M+Nr6+kcUdFsvkRUqXxPp8w4fL1pTGJtMJTPXq1albty5XrlxJNv/s2bO0k2mq8UuIhMPd4epX6utqs6HqrCxtcuZMEEKhTZsYqlXLcoSSmerf//mYWO++m3PjJsUkxCRNF3crzoZeGzg38hxdynfJmR1KZufSJbXyrpUVDBumdTTSf2U6gVmxYgWDBw+mUaNGHD58mGvXrtGrVy9q1qyJlZVVdsYoZbfox7C7GfyzGXR20PBXqDgxS82Fbt16PsT8+PER2ROnZLbee08dGwtg0CDYsyd7t7/v9j7KLCjD9hvPxy9qWbIlRVyKZO+OJLOWWPrSubNaD0YyLlkqEJs2bRp2dna0bt0avV5Py5YtOXbsGHXq1Mmu+KTsFvWPOixA5F2wc1ebSXs0zPJmZ88GvR7atBFUq5aQDYFK5kxR1NtHjx6ptx27dlV/6Wa15C5eH8+n+z5lzpE5CAQzD83Ep5QPimzLL2VQVJRa0RzAKKt02tnBli3Ppy1QphOYJ0+eMHPmTJYtW0bFihW5cuUKgwcPlsmLsbMvBG5VQGcLzf6CPKWzvMl7957Xa5g8WdZ9kdJHp4Off4aAANi/H3x94ehRKFEic9u78ewGfdf3xe+h2g/VsOrD+KrtVzJ5kTLlt98gNFQdAqNlS62jSYW1tekO955NMn0LqUSJEhw8eJDff/+dU6dOsX79ekaMGMHnn3+enfFJ2SWxtbzOChqshjbHsiV5AbU+Q3w8NG+u9roqSellZwebNsFrr6lDDrRtC0+fZmwbQgh+PPsj1ZZUw++hH272bvze83eWd1qOs61zjsQtmTch1JHVAd58M3eb+0vpl+kSmB9++IHevXsnvW7bti379u2jQ4cO3Llzh28Tr76kLSHg3KcQ/QDqfq+W3ds4A9nzxf7kCSxfrk5/8km2bFKyMK6usG0bNGgA166pvfXu2aOOp5QeR+4fYcjmIQA08W7Cqq6r8HL1ysGIJXN39CicOqUO8jxkiNbRpCE+/nnFw379LHIogUwnMC8mL4lq1KjB0aNH8fX1zVJQUjbRx8LxoXB3tfq6xAAo0Dxbd7FwodrRU7166sCo6e8WUZKeK1IEtm9XS/COH4fXX4eNG9PXbLVRsUYMrTaUUvlKMbHhRKx0shGBlDVff60+9+sH+fO/fFnNxMU9z6569rTIBCbbC8aKFy/O0aNHs3uzUkbFBsHe1mryolirpS/ZnLxERsKiRer0++/LMY+krKlQQa2TaG+vPo8alXpCnGBIYPbh2QREBiTNW95pOR81/kgmL1KW3b8PGzao04kt5STjlKEE5t69e+laLm/evAA8ePAg4xFJWRd+E3Y2gMBDYOMCzbdBqewf0mHFCnj2TB1eXo44LWWHBg3g11/VOgfLl8O0acnfvx18myYrmvDhng8ZunkoiSOhyIq6Unb59lu1RWXz5mrdLMl4ZSiBqV27Nm+++eZLR5sODQ1l2bJlVK5cmfXr12c5QCmDAo/BznoQfg0ci0HrI1Aw+0dUTEh43ovqhAlqR0+SlB06d35esjdtGixdqk6vPr+aat9V49g/x3Cxc6F/lf4ycZGyVVTU88+bLH0xfhmqA9O+fXucnZ1p3bo19vb21KxZk8KFC2Nvb09wcDCXLl3i4sWL1KhRg7lz58oeebWQEAFxIZCvJjT9ExwK5chuNm6E27fB3V3tiEySstObb8KDB/DZZzDynTDWxIxhf/AqABp6NWRVt1UUdyuubZCS2Vm1CoKD1ab8HTpoHY30KhlKYFatWsX9+/f57LPP8PDwoFChQjx9+pTo6Gjy589Pv3798PHxoXLlyjkVr/QqhVpDs61q53TWOTM6qRCQ2Fp+zJj0txaRpIyYNg0uBVxmvX179gffRoeOT5t+ysdNPsY6k4ONSlJahIBvvlGn335bliqbggx9CxQuXJizZ8/i4+NDdHQ0M2fOxNPTM6dik9LDkABnJ0HpEeBSVp1XqE2O7vLQIfDzUytbjhmTo7uSLJiiwLJ5Rdn2P4WoEG+cdv3C6683xFr2ySHlgF274OJFcHaGodlfZVDKARn6Knj33Xfp2LEjjRs3RlEUfvnlF/z8/IiOjs6p+KSXiQ+DAx3gyjw40BH0cbmy2y+/VJ8HDQKZv0rZ7XHE46TKuXmd8nBw1BZq+vkTfrEhPj7qrSVJym5z5qjPw4apfRMZPTs7dRyOtWstdiiBDCUwb7/9NidPnqRt27YIIfj222+pX78+Li4uVKhQgd69ezN79my2bduWU/FKiSLvw67G8GgHWDlC9c/ByjbHd3v3Lvzxhzo9dmyO706yMGsvrqXCtxVY5LcoaV7NYhXYvsmVsmXVYSt8fSEkRLsYJfNz8iTs3av2OzRhgtbRpJO1tdr/S8+e6eswyQxluDC2SpUqfPzxx5QqVYrjx48THh7O4cOHGTduHHnz5mXz5s306tUrJ2KVEj07o7Y0CjkH9gWh1QEo2ilXdr14MRgM6tggFSvmyi4lCxARF8HQzUN5fd3rhMSEsO7yOgzCkPR+/vywYwcULAjnz0OXLhATo128knmZO1d97tMHihXTNhYp/TKdtl2/fj1pum7dutStWzfptZDdseacB3/BkV6QEAmuldQKu07eubLr6GhYtkydfvvtXNmlZAFOPjxJ3/V9uf7sOgoKHzf+mE+bfopOSf77qnhxtbfeJk3gwAHo318dcE9WtpSy4sYNSOzx4/33tY0lQxIS1OagoA7nboGlMDlSHU72zZBDhIDLc9TkpWArtY+XXEpeANasUTuuK15cNjGUss4gDMw5PIf639fn+rPrFHUpyr5B+/isxWfYWKXeLXrVqurgj7a26j+dd96Rw1dIWTNvnlqq3K6diXVcFxsLvXqpj9hYraPRhKzPb0oUBRqth0ofQ7O/wDb3apoJAQsWqNOjR8tfvVLWXQy4yMd7PybBkECPij04N/IcTYs3feV6zZvDypXqn8O338LMmbkQrGSWnjxRexQHmDhR21ikjLO8MidTkxAF/2yC4n3V1/b5oer/cj2MI0fg7Fm16fSwYbm+e8kMvVbgNea0mkNeh7wMqTYkQyW3vXqp/3zGjoXJk6FQIdn0Vcq4BQuUpMFoGzfWOhopo2QJjDGLfgJ7WsDRfnBjmaahJJa+9OsH+fJpGopkoiLjIhmzdQwXAi4kzXu3wbsMrT40U7ed334bJk1Sp0eMUAeAlKT0Cg5W+PZbdXriRDkYrSkyugRm9uzZKIrCuHHjtA5FW6GX1ZZGQX+DbT5wKa9ZKI8fPx+dVVbelTLjzKMz1Fxak0UnF9FvQz/0Bn22bHfmTLU/Ir1eLZU5dixbNitZgGXLnAgLU6hSBTrlTiNOKZsZVQLj5+fHd999R5UqVbQORVtP9qujSUfeAedS0OYYeGpXvrlihVrhvUEDtRKlJKWXQRiYf2w+dZfX5WrQVQrnKcyXPl9ipcueSlSKoraMa9dObSXXoQNcuZItm5bMWHAwLF+ujoHy6afq6OeS6TGayxYREUG/fv1YtmwZefPm1Toc7dz6Gfa1gfgQyN9ATV4ShwjQgMHwvOn0iBGahSGZoEfhj/D9xZd3d75LvCGeLuW7cG7kOVqUaJGt+7GxUTsjrVNHbSUne+uVXuXrrxXCw3W89pqga1eto5Eyy2gq8Y4ZM4b27dvTqlUr/ve/l1dSjY2NJfaFZmNhYWEAGAwGDAZDWqsZv9CLKMcHoyAQXj0R9X4EK3s1i9DIrl1w+7YOV1dB9+7ilaEYDAaEEKZ9HcyIVtfj6tOrNPmpCU+jnuJg7cB8n/kMrz4cRVFyJBYHB/jzT2jcWOHaNQVfX8H+/QI3t2zfVabJvw3jEBIC33yjVnj5+GMDoGj5FZt51tbw/ffPp03yIMjS34NRJDC//vorp0+fxs/PL13Lz5o1i2nTpqWYHxgYSFxc7owHlDM8cCo5ESUhgohSH0JQGBCmaUQLFrgB9nTvHkVERDgRES9f3mAwEBoaihACnSyX1ZxW18PF4EJp19IUdCjIty2/pWzesgQGBub4fleutKJjx3ycP29F+/bxrFnzDHv7HN9tusi/DePwxRfOhIY6U6ZMDA0bPiMgwISvRbt26nNwsLZxZEFoaGim11WExt3m3r9/n1q1arFr166kui/NmjWjWrVqfPXVV6muk1oJjJeXF0FBQbgZ00+u9IgLBn0MOBTSOpIUHj8Gb2+FhASFs2cN6erkyWAwEBgYiIeHh/ySNgK5eT0uBlykZN6SONg4ABAYGYiLnQt21rk70Jy/PzRrphAWptCtm+DXX4VR9Fsk/za0FxICJUsqhIYqfPddMEOH5pHXQmMhISG4u7sTGhqKi4tLhtbVvATm1KlTBAQEUKNGjaR5er2egwcPsnDhQmJjY7H6z7ePnZ0ddqmMvqnT6UzrwxhxC/a3UwdjbHUQbJy1jiiZn39WK+/WqwdVq6b/vCqKYnrXwozl9PUQQrDgxAI+2PUBI2qO4BvfbwAokKdAjuzvVapXV3vrbdsWNmxQGD9eYcEC42gmK/82tPX55xAaCpUqCTp0iEWnczXda5GQoA4QBmrFLxMdSiAr51/zI27ZsiXnz59PNm/IkCGUL1+eiRMnpkhezMbTv+FAR4gNBMeiEP0QbLSrrPtfsvKulB4BkQEM2TyEv67/BcDtkNskGBKw1mn71ZLYW2/v3mpvvR4eMGWKpiFJGnvwAL7+Wp3+3/+E6bc8io19PqZLRITJJjBZofkR58mTh8qVKyeb5+TkhLu7e4r5ZuPeejjWX711lLc6NN0CjoW1jiqZvXvh1i1wdYXXX9c6GskYbb+xnUGbBhEQGYCdlR3z2sxjdO3RRjMWWq9eEBCg9l00dSq4ualjJ0mWado0tal9w4bQsSPkQpUsKYdpnsBYFCHgynw48z4goHB7aPir0d06gueV2/v1A0dHbWORjEtMQgwf7v6Qr/7+CoDKnpVZ030NlT2N7wfHW2+pTaunTIFx49QkZtAgraOSctvVq/DDD+r0nDnGcTtRyjqjTGD279+vdQg549Ic8P9QnS4zGmp+DRoXtacmJEStQwAwZIiWkUjGKDAykB/9fwTg7TpvM6fVnKSKu8bok0/URhpffaWO4+XqCl26aB2VlJs+/ljtrbljR7UExkRbHEv/YXz/Pc1Z8b5wbQGUfxfKjzfanwFr10JMDFSqBDVrah2NZGy8XL34sfOPWOusaV+2vdbhvJKiwLx5amL+44/qLdG//oKWLbWOTMoNJ07A+vVqb7ty5HLzYurVmIxfQvTzaadi0OEKVJhgtMkLqF/yAIMHG3WYUi55GvWULr92SaqoC9C5fGeTSF4S6XRqpfRu3SAuDjp3hr//1joqKacJAe+9p04PHAjmWq3SUskEJicF+8OWcnB/4/N5Nnm0iycdrl1TB8TT6dT6L5Jl231rN1UWV2Hz1c28ueVN4vSm21GktTWsXg2tW0NkJPj6woULr15PMl1r18KhQ2o9vunTtY5Gym4ygckpD7fBrkYQdR8uzgBhGjddf/pJfW7bFgoZX996Ui6J08fxwa4PaL2yNY8iHlE+f3n+7PMntla2WoeWJXZ26sjq9eqp9WLatFFb20nmJyoK3n9fnZ40Cby8tI0n29nawsKF6sPWtP8uM0vWgckJ17+Dk2NA6KFAc2i8HhTjzxX1erXzOlBvH0mW6erTq/Td0JfTj04D8GbNN5nvMx9HG/NojubsrNaBadoUzp+HVq3UX+lFimgdmZSd5s6F+/fB2/v5bSSzYmMDY8ZoHYWmjP+/qikRBjgzEfxGqslLiYHQbDvYmsbo2vv2wT//qE1NO3bUOhpJC3dD7lJjaQ1OPzpNPod8bHx9I0s6LDGb5CVR3rywcyeUKgW3b0OLFurQGZJ5uHdPbS4N8MUX6mCfkvmRCUx2MSTAkd5wea76+rVpUO9HMKEi98TKu336YDQD4Em5y9vNm9crvU6LEi04N/IcXcp30TqkHFOwIOzZA8WKqXW/WrZUO76TTN/776stKZs2he7dtY4mh+j1sH+/+tDrtY5GE/IWUnbRWYNDYdDZQN0foER/rSPKkNBQtW4AyNtHlubAnQOUy1+Ogs4FAVjUfhG2VrboTOC2Z1Z5e6slj02awKVL6u2kffvA3V3ryKTM2r1brbyr06lDB5htS8qYGHXMDFCHEnBy0jYeDZj/N1Ruqj4PfPxMLnkBWLdO7Wa7fHmoXVvraKTcEK+P5+M9H9P8p+YM2TwEw78Vze2t7S0ieUlUsqSatBQsqNaJad1areArmZ7oaBg5Up0eMwaqVtU2HilnWc63VE4IOASHekJi01KdFeQ1zb+Y1avV5wEDzPgXi5TkxrMbNFrRiJmHZyIQFHYuTLw+XuuwNFOmjDr+l4cHnDmjDu4bGqp1VFJGffYZ3LypVsj+3/+0jkbKaTKByaw7q2FvK7i/Di5/rnU0WfLwofoLFNT6L5L5EkLw09mfqP5ddU48OIGbvRtre6zl+87fY2dtp3V4mqpQQa0T4+4Ofn7Qrh2Eh2sdlZRe58/D5/9+FS9cCC4u2sYj5TyZwGSUEHDhf3C0HxjiwKs7lJ+gdVRZsnatelj160OJElpHI+WUsNgw+m7oy+DNg4mIi6CJdxP8R/rTs1JPrUMzGq+9Brt2qS3xjh5Vk5iwMK2jkl7FYIARIyAhQR3nSo51ZRlkApMR+jj4eyic+0R9XeE9aLQWrE27jV7i7aO+fbWNQ8pZCgonH57ESrHif83/x96BeynmWkzrsIxO9epqE2tXVzh8WL2dFBKidVTSyyxeDMePQ548sGCB1tFIuUW2QkqvuBA41B2e7FU7pau1EMqM0jqqLLtxQy0u1+mgp/whbnYSDAlJlXPz2OXh1+6/Em+Ip17RehpHZtxq11ZvJ7Vpo/5jbNVKTWry5dM6Mum/btyADz5Qp2fOhKJFtY1Hyj2yBCa9oh/Bs5Ng7QxNt5hF8gLw66/qc6tWUKCAtrFI2et28G2a/dSM7y98nzSvZuGaMnlJp5o11Yq9+fPDqVNqZ3eBgVpHJb1Ir4dBg9RhA5o3h9GjtY4oF9nYqN0Nz52rTlsgWQKTXq4VoMkmtVfdvNW0jiZbCPH89pGsvGteVp9fzaitowiLDeN60HXGNR5HHnvjHkjUGFWtqvYT1rIl+Pur/yR371abXEva++ILta5SnjywYoVakmwxbG2fD/ZkoSzpcmfcP5vhyYHnrws0N5vkBeDcObh8WR3grmtXraORskNYbBgDNg6g34Z+hMWG0aBoA/7q+hdOtpbXyVV2qVQJDhyAwoXh4kVo1gwePNA6Kun8efj0U3X6q6/UTgklyyITmNQIAVe+goNd4VBXiLitdUQ5IrH0pX17tcKiZNqO/3OcakuqsercKnSKjqlNp7Jv0D688pjbMLy5r1w5OHhQHXbg6lVo1EiteyFpIyoKeveGuDjo0AGGDNE6Ig3o9WoFRj8/OZSA9C+DHk6Pg2sL1dfFeoGj+f0DMBie13+RrY9MX0BkAM1/ak5MQgzert780u0XGhZriMFg0Do0s1GqlFoS07q1mrw0bAjbt6utlqTc9c476tAPBQrA8uUW2vlmTAzUqaNOy6EEJOIj4GCX58lLtblQe7E6zpGZOXZMHbE1Tx61rwvJtHk6eTKl6RR6V+7N2ZFnaVisodYhmaXixdWm1dWqqQM/NmumJjVS7lmz5nnS8ssvsvGBJZMJTKLoR7C7KTzcAlb20Oh3qPi+2ab2a9eqz127yqHmTdXvF3/n3JNzSa8nNpzI6m6rcbN30y4oC1CggFqxt2lTtZM7Hx/YtEnrqCzDjRvw5pvq9OTJauVqyXLJBCbRpbkQfBrs8kOLvVCsh9YR5RiDAdavV6dl3y+mJyIugqGbh9JrXS/6rO9DdHw0AIqioJhpwm1sXF3V20edO0NsLHTvDj/8oHVU5i0iQv3BFR4OjRs/r8ArWS6ZwCSqNhtKDoE2x8GjvtbR5Ki//1ZbUeTJo97Pl0zHyYcnqfFdDVacXYGCQtfyXbE2w1ucpsDeXh3FfehQ9UfBsGEwZYraBkDKXkLA4MFw4YLahH3NGrCWH3uLZ9kJzKNd8G8vpVjZQb0fIE8pbWPKBevWqc+dOqlNqCXjZxAG5hyeQ/3v63P92XWKuhRl36B9/K/F/7CxssxOrIyBtbVaH+PDD9XX06erI7rHxmobl7mZNUstNbaxUZ+LFNE6IskYWGYCIwxw9iPY1wbOfqh1NLlKiOcJTA/zvUtmVkJiQmi9sjWT9kwiwZBAj4o98B/pT9PiTbUOTUKtJjdzJixbpiY0v/yi9mz99KnWkZmHP/9U67sALFoEDRpoG49kPCyvEE4fA8cGw73f1NdWdup/dQupO3DypNr6yMlJrXwoGb88tnkwCAOONo580/YbhlYfKuu6GKE33lBbKXXvrrZUql8ftm6FsmW1jsx0nTih9vciBIwapZ5j6V82Nuo9y8RpC2RZCUzMUzjUBQKPgGINdZdBycFaR5WrEktf2reXrY+MWVR8FAoKDjYOWOmsWNl1JZFxkZTLX07r0KSXaNVK7dq+fXu1xUy9emp/S23aaB2Z6bl5U+2kLioK2raFr7/WOiIjY2sLU6dqHYWmLOcWUth12FlfTV5sXKH5DotLXuTtI9Nw9vFZai6tyfu7no9zUtSlqExeTESlSmpF+bp1ITgYfH1hzhxZuTcjnj5Vz1tgINSoAb//brGFDNJLWEYCkxANe5pDxA1w8oY2R6FgC62jynVnz8KtW2rJi6+v1tFI/2UQBr489iV1l9flytMrbLyykeDoYK3DkjIhsa+YYcPUFkqTJkHv3gqRkfLW36sEB6slVtevq7fktm4FZ2etozJCBoM6ONfFi+q0BbKMBMbaAWrMA/e60OZvcK2odUSaSCx98fWVXwjG5nHEY3x/8WXCzgnE6ePoUr4L50aeI69DXq1DkzLJ3l6t2LtkiVp6sG6dQocO+bh+XevIjFdYmHq76MwZ8PRU+9qRI3+nIToaKldWH9HRWkejCaNIYBYvXkyVKlVwcXHBxcWF+vXrs23btqxtVAiIfvL8tffr0PoIOFhmv9NCqMWwIG8fGZut17ZSZXEVdt7ciYO1A0vaL2FDrw24O7prHZqURYqi9hy7fz8ULCi4csWGWrUUfvlF68iMT0SEOqzJiRPg7g579qiDaEpSWowigSlatCizZ8/m1KlTnDx5khYtWtC5c2cuXryYuQ0a4uHECNheE6JeGPdeZ5U9AZugCxfUIlk7O7WCoWQcwmLDGLhpIIFRgVQtUJVTI07xZq03ZSsjM9OgAfj5CerXjyMiQqF/f3UE5YgIrSMzDs+eqRWgjxwBNzfYtUstWJCklzGKBKZjx460a9eOMmXKULZsWWbMmIGzszPHjx/P+MbiQmF/e7i5HGIeQcCh7A/YBG3YoD63aQMuLtrGIj3nYufC0g5LGV9vPH+/8TcVPCpoHZKUQwoXht9/f8bUqQZ0OvjxR6hVS62bZskePoQmTdSKz/nywc6dcoRvKX2MIoF5kV6v59dffyUyMpL69TPYpX/kfdjVCB7vAitHaLIZivfOmUBNzObN6nOXLpqGYfGEECz4ewFbrm1Jmte9Ynfm+8zHzlp2i2zurKzgk09g3z61N9mrV6FOHZgxAxIStI4u9127Bg0bqvVQCxeGgwehdm2to5JMhdH0A3P+/Hnq169PTEwMzs7ObNy4kYoVU69sGxsbS+wLfXWHhYUBoOxrBboAhH0hRJM/IF8Ni62d/aJ79+DMGR2KImjXTuToKTEYDAghMMjznkJAZABD/xjKthvbyO+Yn4ujLpLfMX+O7lNeD+Px4rVo1EitqPrGGwp//KEweTJs2iT44QdBpUpaR5o7du1SW2aFhCiULi3YsUNQvHjufGWbxd+FwZBUAmEwGEz2f11WroHRJDDlypXj7NmzhIaGsm7dOgYNGsSBAwdSTWJmzZrFtGnTUsxXYgKI96hAcNWVGBKKQEBAboRu9NascQRcqFUrHniWo6fFYDAQGhqKEAKdzugK+DSz995exu0fR2B0IHZWdoyvPh59uJ6AiJz9jMrrYTxSuxZLlkDr1vZMnuzCyZM6atWCCRMiGDUqEltbjQPOIULADz84MmVKHvR6hVq14vjhhxAcHQ259pVtDn8XSlQUiU1SAgMDEZGRmsaTWaGhoZleVxHCOLtXatWqFaVKleK7775L8V5qJTBeXl4Eb26Oi88GsJGVPF7k46Owe7fCnDkG3nsvZ/dlMBgIDAzEw8PDZL8YslNsQiwf7v2Qr/9WuxGt7FGZVV1X8VqB13Jl//J6GI+XXYuHD2HkSIWtW9XK2+XLCxYsELQws+6qwsJgzBiF1avV4xw4ULBkicj1QWXN4u8iLg7l30GixP/+h6lmvCEhIbi7uxMaGopLBitoGk0JzH8ZDIZkScqL7OzssEvtE9/oN3R2bjkbmIkJDYUDB9TpLl105MbfqqIo6HQ60/1iyCYRcRE0+qER/k/8AXir9lvMbT0XB5vcHcNBXg/jkda1KFpUHbTwl1/g3XfhyhWF1q0VeveGefPU+iGmzs9PHdfo1i21LtDs2fDuu4pmLe5M/u/C3h6++AIAU26zmJXzbxRX7sMPP+TgwYPcuXOH8+fP8+GHH7J//3769euXsQ3pZF/T/7VtG8THQ/nyclC53OZs60ytwrXI75ifP/v8yYJ2C3I9eZFMh6JA//5qxd633wadTh1HqUwZdTTmLJS0ayo2Vh1zsEEDNXnx9lYr6773nsWMoSvlEKNIYAICAhg4cCDlypWjZcuW+Pn5sWPHDlq3bq11aCYvsfVR587axmEpnkY95UnE8w4Uv277NedGnqND2Q4aRiWZEjc3+OYbdeT4Bg3UwQxnzICSJdXSmJgYrSNMv0OHoGpVmD5dbWXVo4fabLxBA60jMwMGA9y5oz5MtAJvVhlFAvP9999z584dYmNjCQgIYPfu3TJ5yQZxcfDXX+q0TGBy3p5be6iyuAoDNw3EINQvFCdbJwrlKaRxZJIpql4dDh+GjRuhQgW1s7f33lMTmblz1fokxurmTejTR+3f5epVdTiA33+HtWvVBE3KBtHRUKKE+pBDCUjm5uBB9UvO01MdGVfKGXH6OD7Y9QGtV7bmUcQj7oXeIyBStoCTsk5R1L6bzp+HH34ALy949AgmTlSnJ02Cu3e1jvK5f/6BsWPVhOvXX9X4hw+HS5fU0hd5y0jKTjKBMWOJt486diRXKu9aomtB12jwfQM+P/o5AsGbNd/k1IhTFHSWI9BJ2cfKSh164MYNWLFCTRDCwmDOHPUHeNu2am/b8fHaxOfvDwMHqrEsWKDG4eMDp0/D0qWQV45JKuUA+W/NTAkh67/kJCEE35/+nurfVefUo1Pkc8jHxtc3sqTDEhxtHLUOTzJTtrYweLA6ttnmzdCypfq3vmMHdO+u3qoZMgS2bFErz+akwEC1rk6tWlCtGqxcqdZzadpU7aRu+3Z1viTlFKNtRi1lzdmzcP8+ODqqg6RJ2SsmIYa5R+cSFR9FixIt+LnLzxRxKaJ1WJKF0OmgUyf1cfMmLF+ujq30+LH6/OOP4OwMjRtDs2ZqUlG9eta6ComJUb9XEpOT48ef1x21toZu3dQ6OnIoACm3yATGTG35d6id1q3BQbbczXYONg6s7raaPbf38F6D99ApsjBT0kapUjBrFvzvf2qrn/Xr1dtJDx+q3Shs26YuZ2MD5crBa69B6dLqWExFiqiVau3t1Ud8vNrqKSJCXf/ePbh9W71FdOFCyvGaatVSbx317g0eHrl+6JKFkwmMmdq6VX3uIFvvZot4fTxT90/Fw8mDcfXGAVCzcE1qFq6pbWCS9C8rK7W0pVkz+PprNek4cOD5IzhYTUIuXMj8Ptzd1dKctm3VOi7FimVX9JKUcTKBMUOBgXDihDrt66ttLObg5rOb9N3QlxMPTmBrZUu3Ct0o5iq/uSXjpdOpt4yqV4dx49R6Mvfuqa2ZLlxQWy49eKA+IiLUVrgxMWopjaMjODmp9WmKFVMflSpBzZpqyyfZkshIWFvD6NHPpy2QZR61mduxQ/3CqlZNLSKWMkcIwcpzKxnz1xgi4iJwtXNlacelMnmRTI6iqD3genvLUlmzYWcH336rdRSakgmMGUq8fdSunbZxmLLQmFBGbR3FmgtrAGhcrDGruq2SyYskSZKRkAmMmUlIUEtgQCYwmRWbEEvtZbW5/uw6VooV05pNY1KjSVjprLQOTZIkSSUEPH2qTufPb5H39mTTCTPz999qZb18+aBePa2jMU121nYMrzGcknlLcnjoYT5u8rFMXiRJMi5RUWo3656e6rQFkiUwZibx9pGPj9oqQUqfOyF3iIyLpJJnJQDebfAuI2uNJI9dHo0jkyRJklIjS2DMTOLgjfL2UfqtOb+Gqkuq0uP3HkTFq79kdIpOJi+SJElGTCYwZuTBA7XvB0VR+2mQXi4sNoyBGwfSd0NfwmLDyGufl9CYUK3DkiRJktJB3kIyI4mlL3XrqnW6pLT9/c/f9N3Ql1vBt9ApOj5p8gmTm0zGWif/JCRJkkyB/LY2I/L20avpDXpmH57NlP1T0As93q7erOq2ikbFGmkdmiRJkpQBMoExE7GxsHu3Ot2+vbaxGDNFUdh7Zy96oad35d4sbr8YN3s3rcOSJEmSMkgmMGbi8GG1S/CCBeUQ9qnRG/RY6azQKTp+7vIze2/vpX+V/igW2HeCJElmwNoaBg16Pm2BLPOozVBi53Vt26rjoEiqiLgI3tn2DrZWtizusBiAIi5FGFB1gMaRSZIkZYGdHfz4o9ZRaEomMGYiMYHx8dE2DmNy8uFJ+q7vy/Vn19EpOt6p9w7l85fXOixJkiQpG8jf6mbg0SM4d05tPt2qldbRaM8gDMw9Mpf639fn+rPrFHUpyp6Be2TyIkmS+RACIiPVhxBaR6MJWQJjBhIr79aoIZtPPwh7wMBNA9l7ey8A3St0Z2nHpeRzyKdxZJIkSdkoKgqcndXpiAhwctI2Hg3IBMYM7NypPrdpo20cWtMb9LT4uQXXgq7haOPIN22/YWj1obKiriRJkhmSt5BMnMEAu3ap05aewFjprJjTag41CtXg9IjTDKsxTCYvkiRJZkqWwJi4c+fgyRO19LB+fa2jyX1nH58lMDKQ1qVaA9ClfBc6lu0oR4+WJEkyc7IExsQl3j5q1kxtVWcpDMLAl8e+pO7yuvRZ34eH4Q+T3pPJiyRJkvmTJTAmzhLrvzyOeMygTYPYeVM9+IbFGmJrZatxVJIkSVJukgmMCYuKgkOH1GlL6f9l67WtDNk8hMCoQBysHZjvM583a74p67pIkiRZGJnAmLCDByEuDooVg7JltY4mZxmEgXe2vcNCv4UAVC1QldXdV1PRo6LGkUmSJGnAygp69Hg+bYFkAmPCEnvfbdNG7cTOnOkUHfGGeADG1xvPrJazsLO2oEo/kiRJL7K3h99/1zoKTRlFJd5Zs2ZRu3Zt8uTJg6enJ126dOHq1atah2X0zL3+ixCC8NjwpNfz2sxj94DdzPeZL5MXSZIkC2cUCcyBAwcYM2YMx48fZ9euXcTHx9OmTRsiIyO1Ds1o/fMPXLqklry0bKl1NNkvIDKAjms60vW3rhiEAQAnWydaljTDg5UkSZIyzChuIW3fvj3Z6x9//BFPT09OnTpFkyZNNIrKuCUOH1CrFuQzs17yd9zYwaBNg3gS+QQ7KzvOPj5LjUI1tA5LkiTJeERGWvxQAkZRAvNfoaGhAOQzt//M2WivOtSPWQ3eGJsQy4QdE2j7S1ueRD6hkkcl/Ib7yeRFkiRJSsEoSmBeZDAYGDduHA0bNqRy5cqpLhMbG0tsbGzS67CwsKR1DQZDrsSpJSFgzx4FUGje3MD/27vzqCrr/A/g73tRNmUZFnFjcwwmbEBZJLIUk1IiWs11irTTLAE/HfJ0cmYKOacz2FiNjuFyynQqt8pB52iulKKJyjI4alpCkjYiXFBArmzd5/n9cQMzNFnv9/vwvF/n3PM89/Eub/xyeD7n+/0+z1emH1lRFKiq2ul2OG06jdnZs3G84jgAIDkqGa9Peh1O/Z100aa9pavtQT2PbSGPPtEWitLWA6EoCqQ6EXRCd9pAugImOTkZJ0+exKFDh275mszMTGRkZLQ7bjKZ0Nzc3JvxpFBSYoeLF71hb69i5MhKVFaKTnSdoiiora2FqqowGjvWwaeqKmb+ayZOVJ2Ah6MHlsYuxQP+D+Dqlau4iqu3/wC6pa60B/UOtoU8+kJbGK5dg88P+yaTCapG54y2jrh0hUFVVbUHs3RLSkoKtm3bhtzcXAQGBt7ydTfrgfH19UV1dTXc3d1tkFSslSuBlBQjYmNV5ORI03wArH8YTCYTvL29O/WH4T/l/0H6gXSsTliNIS5DejGhvnS1PajnsS3k0SfawmyG0dUVAKDU1Wl2DkxNTQ08PT1RW1sL1x9+no6SogdGVVWkpqYiOzsb+/fv/9niBQAcHBzgcJOFf4xGo3Z/GTvh88+t20mTDDAa5bsBjMFguG1b5HyTg9IrpfhtxG8BABHDIrB91nZbRdSVjrQH2QbbQh6ab4sf5TYajTc815Lu/P9LUcAkJydjw4YN2LZtG1xcXHDp0iUAgJubG5ycnASnk4uiXC9g7r9fbJauaLY045XPXsGSw0vQz9gPUUOjMGbIGNGxiIhIY6QoYFauXAkAiI2NveH42rVr8eyzz9o+kMT++1/g8mXr1XNRUaLTdM7X1V9j1pZZKCwvBADMHTMXwV7BglMREWmQnR3w0EPX93VIigJGomk40svJsW7Hjwf69xebpaNUVcXa4rVI3ZmKay3X4OHkgXcT38Xjdz4uOhoRkTY5OgI7dohOIZQUBQx1XOv9X7QyfKSqKp7OfhrrT6wHAEwMmIgPHv8Aw1yHCU5GRERaps1ZPzrV0mJdgRrQzvIBBoMBYwaPQT9jPyyetBh7n97L4oWIiLqNPTAakp9vvWO0pycQGio6za21WFpwvvY8An4RAAD4Y8wfEX9HPEK8Q8QGIyLqK8xmYNAg635lpWYvo+4OFjAa0jp8NHGivFfMlV4uxYx/z0D99/Uo+l0RBtgPgNFgZPFCRNTTrl0TnUAoSU+DdDMyz39RVRUfHP8A4e+Eo6iyCBXmCpysPCk6FhER9VHsgdGIhgbg8GHrvmwFTG1jLf6w4w/YeHIjACB6cDQ2TdvUNoRERETU01jAaMThw0BTEzBsGBAUJDrNdYcvHMbsf81GWU0Z7Ax2SJ+Qjrl3zMUQNy4HQEREvYcFjEYcOGDdxsYCBolWD3gt9zWU1ZQh0D0QG57cgLFDx6JSptUliYioT+IcGI1oLWAmTBCb46fWPLIGL0S+gOLfF+Pu4XeLjkNERDrBHhgNaGwEjh617osuYDad3ISCiwV448E3AABDXIYgKyFLbCgiIr0xGq+fEGS9LLWXsYDRgKNHrfNfBg8G7rhDTIarTVeRsjMF7x9/HwAwZeQUxI2IExOGiEjvnJyA/ftFpxCKBYwG/Hj4SMT8l2P/O4ZZW2ah9EopjAYj/nLfXxAbEGv7IERERD9gAaMBoua/WBQLXv/idaTvT8f3yvfwc/PD+ifW416/e20bhIiI6CdYwEiuuRnIy7Pu27qAmbFlBj758hMAwPRR07Hq4VVwd3S3bQgiImrPbAYCAqz7ZWW6XEpAnzN/NCQ/33oTO29v4M47bfvdz4Q+g4H2A7Hu0XXY+ORGFi9ERDKpqrI+dIo9MJJrHT4aP77357/UN9fjtOk0ooZFAQASgxNRNq8Mns6evfvFREREncQeGMnZav5L4cVChK8Ox5T1U/Bd3Xdtx1m8EBGRjFjASKylBfjiC+t+bxUwiqrgb1/8DTFrYnD28lk49XNC+dXy3vkyIiKiHsIhJIkVFVnnaf3iF8Bdd/X85/+v7n9I2pqEnHM5AIAn7nwC7yS+Aw8nj57/MiIioh7EAkZircNH993X8zda3HZmG57793OobqiGc39nLJuyDM+NeQ4GmRZaIiIiugUWMBLrzfkve0r3oLqhGmMGj8HGJzci2Cu457+EiIh6h9EIREZe39chFjCSsliAQ4es+z1VwKiq2tbD8saDb8Df3R/zoufBoZ9Dz3wBERHZhpOT9T4bOqbPsk0Djh8H6uoAV1dg9OjufZaiKvh73t/x0IaHYFEsAACn/k54adxLLF6IiEiT2AMjqYMHrdtx4wA7u65/zqX6S3h267PYXbobALDl9BZMGzWtBxISERGJwx4YSbVePn1vN5Yd2vH1DoSuDMXu0t1w7OeIFQ+twFMhT/VMQCIiEufaNetSAgEB1n0dYg+MhFT1+vyXrhQwjd834qW9L2H5seUAgFCfUGx4YgNGDRrVgymJiEgYVQW+/fb6vg6xgJFQWRlQXg707w9ERXX+/Ulbk/DRqY8AAPOj5yMzLhOO/Rx7NiQREZFALGAk1Nr7EhFhnWjeWX++78848t0RrH54NaaMnNKz4YiIiCTAAkZCrfNfxo3r2OtNZhMOnj+IJ+58AoB1yKgktQT97fr3UkIiIiKxOIlXQp2Z/7KndA9CV4Vi+ifTUXCxoO04ixciIurLpChgcnNzkZiYiKFDh8JgMGDr1q2iIwlz+TJw6pR1/+d6YJq+b8KLu1/E5A8n41L9JQR5BnGeCxER6YYUBYzZbEZYWBiysrJERxEuL8+6DQoCvL1v/prTptO4e83deOvIWwCA5KhkFDxfgLsG9cKKj0REJB+DAQgJsT50uoadFHNg4uPjER8fLzqGFG43fLSmaA1Sd6ai4fsGeDl74b1H3kNicKLtAhIRkXjOzte763VKigKGrrvdBN6rzVfR8H0DHhjxAP752D8xxGWI7cIRERFJQpMFTFNTE5qamtqe19XVAQAURYGiKKJidVtTE3DsmAGAAffco6D1R2loaYBTf+v11ClRKRg8YDCmhkyF0WCU7udVFAWqqkqXS6/YHvJgW8iDbSGP7rSBJguYzMxMZGRktDtuMpnQ3NwsIFHPyM/vj6YmT3h6WuDmZsJ35c1YUrAEO8t2YvcTuzGg/wAAQKx3LKpMVYLT3pyiKKitrYWqqjDqdIl3mbA95MG2kEefaItr1+D5w9SL6p07rUNKGlRbW9vl92qygFm4cCHS0tLantfV1cHX1xfe3t5wd3cXF6ybTp+2bu+914jafjX4TfZvUFheCAA4WHUQz4Q9IzBdxyiKAoPBAG9vb+3+YehD2B7yYFvIo0+0hdkM49dfAwAGeXsDAwYIDtQ19vb2XX6vJgsYBwcHODg4tDtuNBq1+8uI1vkvKhzuXovId/4P5hYzPJw88G7iu3j8zsdFx+swg8Gg+bboS9ge8mBbyEPzbfGj3Eaj8YbnWtKd/38pCpj6+nqUlJS0PT937hyKi4vh4eEBPz8/gclsR1WBgwVXgKd+h4+aPgYATAyYiPcffx/DXYcLTkdERCQXKQqYgoICTJw4se156/BQUlIS1q1bJyiVbX31FXAlKg0Y9TH6GfvhtYmvYcE9C2BntBMdjYiISDpSFDCxsbFQdboceKujn5lRnrMOT3oCSxfmIGrkeNGRiIiIpKXNQbM+6PBhYHA9cOg9IGpIhOg4REREUpOiB4aAo8cMKIM/Bg0CnHV6W2giIuoggwHw97++r0MsYCRw+TJw/KwzAlGGqi81ezk/ERHZirMzUFYmOoVQHEKSwNGj1m1QEODpKTYLERGRFrCAkcCRI9bt3XeLzUFERKQVLGAkkJcHOKIBS/ZHAVFRQEOD6EhERCSzhgbr+ULH5wzOgRFMUaxDSEYoGHS+ADj/w0EiIqJbURSgoOD6vg6xB0awM2eAujrA2Ul0EiIiIu1gASNY6/yXCN76hYiIqMNYwAiWl2fdjh0rNgcREZGWsIARrLUHhgUMERFRx7GAEaiuDjh1yrofFSU2CxERkZbwKiSB8vMBVQUCAgAfHwBeXqIjERGRVuj8nMECRqDW+S8xMQAGDABMJqF5iIhII3jO4BCSSLwDLxERUdewgBFEVVnAEBERdRULGEFKS4HqasDBARg9GtZbQcfGWh86vS00ERF1EM8ZnAMjSuv8l4gIwN4egFkBDhywHtTpbaGJiKiDFJ4z2AMjCIePiIiIuo4FjCCtBUxMjNgcREREWsQCRgCzGTh+3LrPHhgiIqLOYwEjQFERYLEAQ4cCw4eLTkNERKQ9LGAEOHbMuo2OFpuDiIhIq3gVkgD5+dZtu/WPnJ1tnoWIiDRK5+cMFjAC3LSAGTDAOjmGiIjodnjO4BCSrVVVAd98Y92PjBSbhYiISKtYwNhYQYF1GxQEuLsLjUJERKRZLGBs7JbzXxobgYQE66Ox0ea5iIhIQ3jO4BwYW2u9Amns2J/8g8UCfPrp9X0iIqJb4TmDPTC2pKo/0wNDREREHSZVAZOVlYWAgAA4OjoiOjoax1q7K/qICxeAigqgX78fVqAmIiKiLpGmgNm8eTPS0tKQnp6OoqIihIWFYfLkyaisrBQdrce09r78+teAk5PYLERERFomTQHz1ltv4fnnn8ecOXMQEhKCVatWwdnZGe+9957oaD2Gw0dEREQ9Q4oCprm5GYWFhYiLi2s7ZjQaERcXh7y8PIHJelbriBgLGCIiou6R4iqkqqoqWCwW+Pj43HDcx8cHZ86caff6pqYmNDU1tT2vra0FANTU1PRqzu5QFKCgwADAgOBgBe2ims1t1aRSUwO0tNg0X09RFAV1dXWwt7eH0ShFfaxrbA95sC3k0Sfaoo+cM1rP26qqdvq9UhQwnZWZmYmMjIx2xwMDAwWk6bzx42/zAi5RTUREHdUHzhnV1dVwc3Pr1HukKGC8vLxgZ2eHioqKG45XVFRg8ODB7V6/cOFCpKWltT2vqamBv78/zp8/3+n/AOpZdXV18PX1xYULF+Dq6io6ju6xPeTBtpAH20IetbW18PPzg4eHR6ffK0UBY29vj4iICOTk5OCxxx4DYO3iy8nJQUpKSrvXOzg4wMHBod1xNzc3/jJKwtXVlW0hEbaHPNgW8mBbyKMrQ3lSFDAAkJaWhqSkJERGRmLs2LFYunQpzGYz5syZIzoaERERSUaaAmb69OkwmUx49dVXcenSJYwePRq7du1qN7GXiIiISJoCBgBSUlJuOmR0Ow4ODkhPT7/psBLZFttCLmwPebAt5MG2kEd32sKgduXaJSIiIiKBNHoBPBEREekZCxgiIiLSHBYwREREpDksYIiIiEhz+kQBk5WVhYCAADg6OiI6OhrHWldNJJvJzc1FYmIihg4dCoPBgK1bt4qOpFuZmZmIioqCi4sLBg0ahMceewxfffWV6Fi6tHLlSoSGhrbdMC0mJgY7d+4UHYsALF68GAaDAfPnzxcdRZcWLVoEg8Fww+NXv/pVpz5D8wXM5s2bkZaWhvT0dBQVFSEsLAyTJ09GZWWl6Gi6YjabERYWhqysLNFRdO/AgQNITk7GkSNHsHfvXrS0tODBBx+E2WwWHU13hg8fjsWLF6OwsBAFBQW4//778eijj+LUqVOio+lafn4+Vq9ejdDQUNFRdG3UqFEoLy9vexw6dKhT79f8ZdTR0dGIiorC22+/DcC6BIGvry9SU1Px8ssvC06nTwaDAdnZ2W3LQpBYJpMJgwYNwoEDBzD+tiuJUm/z8PDAkiVL8Nxzz4mOokv19fUIDw/HihUr8Nprr2H06NFYunSp6Fi6s2jRImzduhXFxcVd/gxN98A0NzejsLAQcXFxbceMRiPi4uKQl5cnMBmRPGprawGgS4ulUc+xWCzYtGkTzGYzYmJiRMfRreTkZCQkJNxw3iAxzp49i6FDh2LEiBGYPXs2zp8/36n3S3Un3s6qqqqCxWJpt9yAj48Pzpw5IygVkTwURcH8+fMxbtw43HXXXaLj6NKJEycQExODxsZGDBw4ENnZ2QgJCREdS5c2bdqEoqIi5Ofni46ie9HR0Vi3bh2Cg4NRXl6OjIwM3HfffTh58iRcXFw69BmaLmCI6OclJyfj5MmTnR5bpp4THByM4uJi1NbW4pNPPkFSUhIOHDjAIsbGLly4gHnz5mHv3r1wdHQUHUf34uPj2/ZDQ0MRHR0Nf39/fPTRRx0eXtV0AePl5QU7OztUVFTccLyiogKDBw8WlIpIDikpKdi+fTtyc3MxfPhw0XF0y97eHiNHjgQAREREID8/H8uWLcPq1asFJ9OXwsJCVFZWIjw8vO2YxWJBbm4u3n77bTQ1NcHOzk5gQn1zd3dHUFAQSkpKOvweTc+Bsbe3R0REBHJyctqOKYqCnJwcjjGTbqmqipSUFGRnZ+Ozzz5DYGCg6Ej0I4qioKmpSXQM3Zk0aRJOnDiB4uLitkdkZCRmz56N4uJiFi+C1dfXo7S0FEOGDOnwezTdAwMAaWlpSEpKQmRkJMaOHYulS5fCbDZjzpw5oqPpSn19/Q2V87lz51BcXAwPDw/4+fkJTKY/ycnJ2LBhA7Zt2wYXFxdcunQJAODm5gYnJyfB6fRl4cKFiI+Ph5+fH65evYoNGzZg//792L17t+houuPi4tJuHtiAAQPg6enJ+WECLFiwAImJifD398fFixeRnp4OOzs7zJw5s+MfovYBy5cvV/38/FR7e3t17Nix6pEjR0RH0p3PP/9cBdDukZSUJDqa7tysHQCoa9euFR1Nd+bOnav6+/ur9vb2qre3tzpp0iR1z549omPRDyZMmKDOmzdPdIxOSU9PVwGoJpNJdJRumT59ujpkyBDV3t5eHTZsmDp9+nS1pKSkU5+h+fvAEBER6cWiRYuQkZEBk8kELy8v0XGE0vQcGCIiItInFjBERESkOSxgBPv222/xwgsvIDg4GE5OTvD09MRTTz2FsrIy0dGIiEhSVVVVmDZtGlxdXeHp6Yl58+ahsbFRdCyb0vxVSFqXn5+Pw4cPY8aMGRg+fDjKysqwcuVKxMbG4ssvv4Szs7PoiEREJJlp06YhICAAmZmZOHLkCP7xj3/gypUreP/990VHsxkWMIIlJCRg6tSpNxxLTExETEwMtmzZgqefflpQMiIiklVgYCC2bdsGwHrrBFdXV6xYsQILFizQzSrbHEIS7Mf35WhpaUF1dTVGjhwJd3d3FBUVCUxGRESySk5OvuF5amoqAODTTz8VEUcIFjCCNTQ04NVXX4Wvry8cHBzg5eUFb29v1NTUtK0iTERE9GN33HHHDc9/+ctfwmg06mr+JIeQBEtNTcXatWsxf/58xMTEwM3NDQaDATNmzICiKKLjERGRBhgMBtERbI4FjGCtq9O++eabbccaGxtRU1MjLhQREUnt7NmzN6xzVlJSAkVREBAQIC6UjXEISTA7Ozv89GbIy5cvh8ViEZSIiIhkl5WVdcPz5cuXAwDi4+NFxBGCPTCCPfzww/jggw/g5uaGkJAQ5OXlYd++ffD09BQdjUiojRs3Yu7cufjmm2/aVqidM2cOCgsLcfDgQbi5uQlOSCTOuXPn8Mgjj2DKlCnIy8vDhx9+iFmzZiEsLEx0NJthD4xgy5YtwzPPPIP169fjxRdfRHl5Ofbt24eBAweKjkYk1IwZMxAUFIS//vWvAID09HTs27cPO3fuZPFCurd582Y4ODjg5Zdfxo4dO5CSkoI1a9aIjmVTXMyRiKS1fft2TJ06Fa+88grefPNNHDx4EKNGjRIdi4gkwAKGiKQWHh6OU6dOYc+ePZgwYYLoOEQkCQ4hEZG0du3ahTNnzsBiscDHx0d0HCKSCHtgiEhKRUVFiI2NxerVq7Fu3Tq4urri448/Fh2LiCTBq5CISDplZWVISEjAn/70J8ycORMjRoxATEwMioqKEB4eLjoeEUmAPTBEJJXLly/jnnvuQWxsLFatWtV2PCEhARaLBbt27RKYjohkwQKGiIiINIeTeImIiEhzWMAQERGR5rCAISIiIs1hAUNERESawwKGiIiINIcFDBEREWkOCxgiIiLSHBYwREREpDksYIiIiEhzWMAQERGR5rCAISIiIs1hAUNERESa8//UYehYwQQ/eAAAAABJRU5ErkJggg==\n"
                },
                "metadata": {}
              }
            ]
          }
        },
        "28b8d9edb33a4dcebc992228f066db42": {
          "model_module": "@jupyter-widgets/base",
          "model_name": "LayoutModel",
          "model_module_version": "1.2.0",
          "state": {
            "_model_module": "@jupyter-widgets/base",
            "_model_module_version": "1.2.0",
            "_model_name": "LayoutModel",
            "_view_count": null,
            "_view_module": "@jupyter-widgets/base",
            "_view_module_version": "1.2.0",
            "_view_name": "LayoutView",
            "align_content": null,
            "align_items": null,
            "align_self": null,
            "border": null,
            "bottom": null,
            "display": null,
            "flex": null,
            "flex_flow": null,
            "grid_area": null,
            "grid_auto_columns": null,
            "grid_auto_flow": null,
            "grid_auto_rows": null,
            "grid_column": null,
            "grid_gap": null,
            "grid_row": null,
            "grid_template_areas": null,
            "grid_template_columns": null,
            "grid_template_rows": null,
            "height": null,
            "justify_content": null,
            "justify_items": null,
            "left": null,
            "margin": null,
            "max_height": null,
            "max_width": null,
            "min_height": null,
            "min_width": null,
            "object_fit": null,
            "object_position": null,
            "order": null,
            "overflow": null,
            "overflow_x": null,
            "overflow_y": null,
            "padding": null,
            "right": null,
            "top": null,
            "visibility": null,
            "width": null
          }
        },
        "9eb728f8d8114ca083ceb830ba56a91a": {
          "model_module": "@jupyter-widgets/base",
          "model_name": "LayoutModel",
          "model_module_version": "1.2.0",
          "state": {
            "_model_module": "@jupyter-widgets/base",
            "_model_module_version": "1.2.0",
            "_model_name": "LayoutModel",
            "_view_count": null,
            "_view_module": "@jupyter-widgets/base",
            "_view_module_version": "1.2.0",
            "_view_name": "LayoutView",
            "align_content": null,
            "align_items": null,
            "align_self": null,
            "border": null,
            "bottom": null,
            "display": null,
            "flex": null,
            "flex_flow": null,
            "grid_area": null,
            "grid_auto_columns": null,
            "grid_auto_flow": null,
            "grid_auto_rows": null,
            "grid_column": null,
            "grid_gap": null,
            "grid_row": null,
            "grid_template_areas": null,
            "grid_template_columns": null,
            "grid_template_rows": null,
            "height": "50px",
            "justify_content": null,
            "justify_items": null,
            "left": null,
            "margin": null,
            "max_height": null,
            "max_width": null,
            "min_height": null,
            "min_width": null,
            "object_fit": null,
            "object_position": null,
            "order": null,
            "overflow": null,
            "overflow_x": null,
            "overflow_y": null,
            "padding": null,
            "right": null,
            "top": null,
            "visibility": null,
            "width": "500px"
          }
        },
        "52833b6767b2454dad047dffc86adc77": {
          "model_module": "@jupyter-widgets/controls",
          "model_name": "SliderStyleModel",
          "model_module_version": "1.5.0",
          "state": {
            "_model_module": "@jupyter-widgets/controls",
            "_model_module_version": "1.5.0",
            "_model_name": "SliderStyleModel",
            "_view_count": null,
            "_view_module": "@jupyter-widgets/base",
            "_view_module_version": "1.2.0",
            "_view_name": "StyleView",
            "description_width": "",
            "handle_color": null
          }
        },
        "107d37ddd8ba4cd3adb7c6394b0b6a36": {
          "model_module": "@jupyter-widgets/base",
          "model_name": "LayoutModel",
          "model_module_version": "1.2.0",
          "state": {
            "_model_module": "@jupyter-widgets/base",
            "_model_module_version": "1.2.0",
            "_model_name": "LayoutModel",
            "_view_count": null,
            "_view_module": "@jupyter-widgets/base",
            "_view_module_version": "1.2.0",
            "_view_name": "LayoutView",
            "align_content": null,
            "align_items": null,
            "align_self": null,
            "border": null,
            "bottom": null,
            "display": null,
            "flex": null,
            "flex_flow": null,
            "grid_area": null,
            "grid_auto_columns": null,
            "grid_auto_flow": null,
            "grid_auto_rows": null,
            "grid_column": null,
            "grid_gap": null,
            "grid_row": null,
            "grid_template_areas": null,
            "grid_template_columns": null,
            "grid_template_rows": null,
            "height": null,
            "justify_content": null,
            "justify_items": null,
            "left": null,
            "margin": null,
            "max_height": null,
            "max_width": null,
            "min_height": null,
            "min_width": null,
            "object_fit": null,
            "object_position": null,
            "order": null,
            "overflow": null,
            "overflow_x": null,
            "overflow_y": null,
            "padding": null,
            "right": null,
            "top": null,
            "visibility": null,
            "width": null
          }
        }
      }
    }
  },
  "nbformat": 4,
  "nbformat_minor": 0
}