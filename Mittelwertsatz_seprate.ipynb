{
 "cells": [
  {
   "cell_type": "code",
   "execution_count": 2,
   "id": "2b079149-305e-4cfc-a8b0-d9feb9262281",
   "metadata": {},
   "outputs": [],
   "source": [
    "import numpy as np\n",
    "import matplotlib.pyplot as plt\n",
    "from ipywidgets import interact\n",
    "from scipy.integrate import quad\n",
    "import ipywidgets as widgets\n"
   ]
  },
  {
   "cell_type": "code",
   "execution_count": 3,
   "id": "ba2950b3-50ad-471d-a14f-1d1822ebe549",
   "metadata": {},
   "outputs": [],
   "source": [
    "# Define the function f(x)\n",
    "def f(x):\n",
    "    return x**2  # Example function"
   ]
  },
  {
   "cell_type": "code",
   "execution_count": 4,
   "id": "3099a5d4",
   "metadata": {},
   "outputs": [],
   "source": [
    "def mittelwertsatz(xi):\n",
    "    x = np.linspace(0, 5, 1000)\n",
    "    y = f(x)\n",
    "\n",
    "    # Plot the function f(x)\n",
    "    plt.plot(x, y, label=r\"$f(x)$\", color=\"blue\")\n",
    "\n",
    "    #alpha transparency\n",
    "    plt.fill_between(x, y, color=\"green\", alpha=0.3, label=r\"$\\int_a^b f(x) dx$\")\n",
    "    # Compute the integral from 0 to 5\n",
    "    integral_value, error = quad(f, 0, 5)\n",
    "    \n",
    "    # Rectangle area\n",
    "    rectangle_area = f(xi) * (5 - 0)\n",
    "\n",
    "    # Draw the rectangle corresponding to f(xi)*(b-a)\n",
    "    plt.fill_between([0, 5], [f(xi), f(xi)], color=\"orange\", alpha=0.2, label=r\"$f(\\xi)(b-a)$\")\n",
    "\n",
    "    # Highlight the point at xi\n",
    "    plt.scatter([xi], [f(xi)], color=\"red\", label=r\"$f(\\xi)$\")\n",
    "\n",
    "    # horizontal dashed lines \n",
    "    plt.axhline(y=f(xi), xmin=0, xmax=xi/ max(x), color=\"red\", linestyle=\"--\")\n",
    "    # vertical dashed lines\n",
    "    # ymax=f(xi)/ max(y): normalize the y value\n",
    "    plt.axvline(x=xi, ymin=0, ymax=f(xi)/ max(y), color=\"red\", linestyle=\"--\")\n",
    "\n",
    "    # Set axes limits\n",
    "    plt.xlim([0, 5])\n",
    "    plt.ylim([0, 25])\n",
    "\n",
    "    # Annotations\n",
    "    plt.title(r\"Mittelwertsatz: ($a=0$, $b=5$)\")\n",
    "    plt.xlabel(r\"$x$\")\n",
    "    plt.ylabel(r\"$f(x)$\")\n",
    "    plt.legend()\n",
    "    plt.grid(alpha=0.3)\n",
    "    plt.show()\n",
    "\n",
    "    # Print the calculated values\n",
    "    print(f\"Integral value (area under curve): {integral_value:.2f}\")\n",
    "    print(f\"Rectangle area (f(xi)*(b-a)): {rectangle_area:.2f}\")\n"
   ]
  },
  {
   "cell_type": "code",
   "execution_count": 5,
   "id": "4b0b1845",
   "metadata": {},
   "outputs": [],
   "source": [
    "slider = widgets.FloatSlider(\n",
    "    value=2.5,\n",
    "    min=0,\n",
    "    max=5,\n",
    "    step=0.01,\n",
    "    description='xi:',\n",
    "    continuous_update=False,\n",
    "    layout=widgets.Layout(width='500px', height='50px'),  # Adjust the width and height\n",
    ")\n"
   ]
  },
  {
   "cell_type": "code",
   "execution_count": 6,
   "id": "d2b3fef9-b623-4f30-ad82-8cf93fb6bd46",
   "metadata": {},
   "outputs": [
    {
     "data": {
      "application/vnd.jupyter.widget-view+json": {
       "model_id": "0166bf78cae34a39bec2fb484f023657",
       "version_major": 2,
       "version_minor": 0
      },
      "text/plain": [
       "interactive(children=(FloatSlider(value=2.5, continuous_update=False, description='xi:', layout=Layout(height=…"
      ]
     },
     "metadata": {},
     "output_type": "display_data"
    },
    {
     "data": {
      "text/plain": [
       "<function __main__.mittelwertsatz(xi)>"
      ]
     },
     "execution_count": 6,
     "metadata": {},
     "output_type": "execute_result"
    }
   ],
   "source": [
    "# Create an interactive slider for xi\n",
    "interact(mittelwertsatz, xi=slider)"
   ]
  },
  {
   "cell_type": "code",
   "execution_count": null,
   "id": "f9aec7c7-425c-4d2f-80a1-e2bb07692d3c",
   "metadata": {},
   "outputs": [],
   "source": []
  },
  {
   "cell_type": "code",
   "execution_count": null,
   "id": "a1a6747b",
   "metadata": {},
   "outputs": [],
   "source": []
  }
 ],
 "metadata": {
  "kernelspec": {
   "display_name": "Python 3",
   "language": "python",
   "name": "python3"
  },
  "language_info": {
   "codemirror_mode": {
    "name": "ipython",
    "version": 3
   },
   "file_extension": ".py",
   "mimetype": "text/x-python",
   "name": "python",
   "nbconvert_exporter": "python",
   "pygments_lexer": "ipython3",
   "version": "3.12.3"
  }
 },
 "nbformat": 4,
 "nbformat_minor": 5
}
