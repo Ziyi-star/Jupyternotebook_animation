{
  "cells": [
    {
      "cell_type": "markdown",
      "metadata": {
        "id": "view-in-github",
        "colab_type": "text"
      },
      "source": [
        "<a href=\"https://colab.research.google.com/github/Ziyi-star/Jupyternotebook_animation/blob/main/Stetigkeit.ipynb\" target=\"_parent\"><img src=\"https://colab.research.google.com/assets/colab-badge.svg\" alt=\"Open In Colab\"/></a>"
      ]
    },
    {
      "cell_type": "code",
      "execution_count": 15,
      "id": "a0058052-66a3-4593-9c80-83ba8abfe3f7",
      "metadata": {
        "id": "a0058052-66a3-4593-9c80-83ba8abfe3f7"
      },
      "outputs": [],
      "source": [
        "import numpy as np\n",
        "import matplotlib.pyplot as plt\n",
        "import ipywidgets as widgets\n",
        "from ipywidgets import interact"
      ]
    },
    {
      "cell_type": "code",
      "execution_count": 16,
      "id": "dea6dd08",
      "metadata": {
        "id": "dea6dd08"
      },
      "outputs": [],
      "source": [
        "def f(x):\n",
        "    return np.where(x <= 0, np.sin(x), np.cos(x))"
      ]
    },
    {
      "cell_type": "code",
      "execution_count": 17,
      "id": "5ba067c8",
      "metadata": {
        "id": "5ba067c8"
      },
      "outputs": [],
      "source": [
        "def plot_epsilon_delta(epsilon, delta,x0):\n",
        "\n",
        "    y0=f(x0)\n",
        "\n",
        "    x = np.linspace(-10, 10, 1000)\n",
        "    y = f(x)\n",
        "\n",
        "    plt.figure(figsize=(10, 6))\n",
        "\n",
        "    # Plot the function\n",
        "    plt.plot(x, y, label='f(x)', color='blue',alpha=0.7)\n",
        "\n",
        "    plt.plot(x0, y0, 'o', color='orange', label='Point(x0, f(x0))')\n",
        "\n",
        "    # Fill the horizontal band: f(x0) ± epsilon\n",
        "    plt.fill_between(x, y0 - epsilon, y0 + epsilon,\n",
        "                        color='orange', alpha=0.2,\n",
        "                        label=r'$\\pm\\epsilon$-band')\n",
        "\n",
        "\n",
        "    # Fill the vertical band: x0 ± delta\n",
        "    plt.axvspan(x0 - delta, x0 + delta,\n",
        "                color='purple', alpha=0.2,\n",
        "                label=r'$\\pm\\delta$-band')\n",
        "\n",
        "    # Highlight points in the purple area but not in the yellow area\n",
        "    in_purple_delta = (x >= x0 - delta) & (x <= x0 + delta)\n",
        "    not_in_orange_epsilon = (y < y0 - epsilon) | (y > y0 + epsilon)\n",
        "    highlight = in_purple_delta & not_in_orange_epsilon\n",
        "    plt.scatter(x[highlight], y[highlight], color='red', edgecolor='red', label='In delta but not in epsilon')\n",
        "\n",
        "\n",
        "    # Axis lines etc.\n",
        "    #x,y axis\n",
        "    plt.axhline(0, color='black', linewidth=0.5)\n",
        "    plt.axvline(0, color='black', linewidth=0.5)\n",
        "    plt.xlim([-10, 10])\n",
        "    plt.ylim([-2, 2])\n",
        "    plt.xlabel('x')\n",
        "    plt.ylabel('f(x)')\n",
        "    plt.legend(loc='upper right')\n",
        "    plt.show()\n"
      ]
    },
    {
      "cell_type": "code",
      "execution_count": 18,
      "id": "886a56ef-95bb-4999-9b88-7fb8b2595473",
      "metadata": {
        "id": "886a56ef-95bb-4999-9b88-7fb8b2595473",
        "outputId": "e3142be3-db2b-4958-89e6-bf25530bd507",
        "colab": {
          "base_uri": "https://localhost:8080/",
          "height": 709,
          "referenced_widgets": [
            "08007ade4f1844ed8493bf9a6a56e8ee",
            "00aded65a6514ffa954163d8ec2428ea",
            "c4bbeba1a24541d39cb509f53a35426f",
            "c4ade9c0e0464f10a3108e7811b033fb",
            "7110bd19c3914aca9c617dafeb8be4d8",
            "72dcac2c58ea471c943e4156a15e4f64",
            "c0c2e6d656ed42d1a84296c1d97adcc9",
            "e542d1b3b16140709976dd0715a6fe1f",
            "f89af11e57c1485097d32b35b4c2e6c6",
            "5fa2bc27956e48c5bec9889968e2f88b",
            "edc0b8b9279b408ab42eb030241c292e",
            "e36c6ad82ad042c2bea307c45a022e93",
            "b94e2496eacd48daabd5adb021349b55"
          ]
        }
      },
      "outputs": [
        {
          "output_type": "display_data",
          "data": {
            "text/plain": [
              "interactive(children=(FloatSlider(value=1.0, description='epsilon', layout=Layout(height='50px', width='500px'…"
            ],
            "application/vnd.jupyter.widget-view+json": {
              "version_major": 2,
              "version_minor": 0,
              "model_id": "08007ade4f1844ed8493bf9a6a56e8ee"
            }
          },
          "metadata": {}
        }
      ],
      "source": [
        "# Create interactive sliders for epsilon, delta, and x0\n",
        "interact(\n",
        "    plot_epsilon_delta,\n",
        "    epsilon=widgets.FloatSlider(value=1.0, min=0.0, max=1.0, step=0.1,layout=widgets.Layout(width='500px', height='50px')),\n",
        "    delta=widgets.FloatSlider(value=1.0, min=0.0, max=2.0, step=0.1,layout=widgets.Layout(width='500px', height='50px')),\n",
        "    x0=widgets.FloatSlider(value=0.0, min=-10.0, max=10.0, step=0.5,layout=widgets.Layout(width='500px', height='50px'))\n",
        ");"
      ]
    },
    {
      "cell_type": "code",
      "execution_count": 4,
      "id": "05aeef0f-77f2-4fd9-9b41-fc9ecb16e826",
      "metadata": {
        "id": "05aeef0f-77f2-4fd9-9b41-fc9ecb16e826"
      },
      "outputs": [],
      "source": []
    }
  ],
  "metadata": {
    "kernelspec": {
      "display_name": "Python 3",
      "language": "python",
      "name": "python3"
    },
    "language_info": {
      "codemirror_mode": {
        "name": "ipython",
        "version": 3
      },
      "file_extension": ".py",
      "mimetype": "text/x-python",
      "name": "python",
      "nbconvert_exporter": "python",
      "pygments_lexer": "ipython3",
      "version": "3.12.3"
    },
    "colab": {
      "provenance": [],
      "include_colab_link": true
    },
    "widgets": {
      "application/vnd.jupyter.widget-state+json": {
        "08007ade4f1844ed8493bf9a6a56e8ee": {
          "model_module": "@jupyter-widgets/controls",
          "model_name": "VBoxModel",
          "model_module_version": "1.5.0",
          "state": {
            "_dom_classes": [
              "widget-interact"
            ],
            "_model_module": "@jupyter-widgets/controls",
            "_model_module_version": "1.5.0",
            "_model_name": "VBoxModel",
            "_view_count": null,
            "_view_module": "@jupyter-widgets/controls",
            "_view_module_version": "1.5.0",
            "_view_name": "VBoxView",
            "box_style": "",
            "children": [
              "IPY_MODEL_00aded65a6514ffa954163d8ec2428ea",
              "IPY_MODEL_c4bbeba1a24541d39cb509f53a35426f",
              "IPY_MODEL_c4ade9c0e0464f10a3108e7811b033fb",
              "IPY_MODEL_7110bd19c3914aca9c617dafeb8be4d8"
            ],
            "layout": "IPY_MODEL_72dcac2c58ea471c943e4156a15e4f64"
          }
        },
        "00aded65a6514ffa954163d8ec2428ea": {
          "model_module": "@jupyter-widgets/controls",
          "model_name": "FloatSliderModel",
          "model_module_version": "1.5.0",
          "state": {
            "_dom_classes": [],
            "_model_module": "@jupyter-widgets/controls",
            "_model_module_version": "1.5.0",
            "_model_name": "FloatSliderModel",
            "_view_count": null,
            "_view_module": "@jupyter-widgets/controls",
            "_view_module_version": "1.5.0",
            "_view_name": "FloatSliderView",
            "continuous_update": true,
            "description": "epsilon",
            "description_tooltip": null,
            "disabled": false,
            "layout": "IPY_MODEL_c0c2e6d656ed42d1a84296c1d97adcc9",
            "max": 1,
            "min": 0,
            "orientation": "horizontal",
            "readout": true,
            "readout_format": ".2f",
            "step": 0.1,
            "style": "IPY_MODEL_e542d1b3b16140709976dd0715a6fe1f",
            "value": 0.4
          }
        },
        "c4bbeba1a24541d39cb509f53a35426f": {
          "model_module": "@jupyter-widgets/controls",
          "model_name": "FloatSliderModel",
          "model_module_version": "1.5.0",
          "state": {
            "_dom_classes": [],
            "_model_module": "@jupyter-widgets/controls",
            "_model_module_version": "1.5.0",
            "_model_name": "FloatSliderModel",
            "_view_count": null,
            "_view_module": "@jupyter-widgets/controls",
            "_view_module_version": "1.5.0",
            "_view_name": "FloatSliderView",
            "continuous_update": true,
            "description": "delta",
            "description_tooltip": null,
            "disabled": false,
            "layout": "IPY_MODEL_f89af11e57c1485097d32b35b4c2e6c6",
            "max": 2,
            "min": 0,
            "orientation": "horizontal",
            "readout": true,
            "readout_format": ".2f",
            "step": 0.1,
            "style": "IPY_MODEL_5fa2bc27956e48c5bec9889968e2f88b",
            "value": 1
          }
        },
        "c4ade9c0e0464f10a3108e7811b033fb": {
          "model_module": "@jupyter-widgets/controls",
          "model_name": "FloatSliderModel",
          "model_module_version": "1.5.0",
          "state": {
            "_dom_classes": [],
            "_model_module": "@jupyter-widgets/controls",
            "_model_module_version": "1.5.0",
            "_model_name": "FloatSliderModel",
            "_view_count": null,
            "_view_module": "@jupyter-widgets/controls",
            "_view_module_version": "1.5.0",
            "_view_name": "FloatSliderView",
            "continuous_update": true,
            "description": "x0",
            "description_tooltip": null,
            "disabled": false,
            "layout": "IPY_MODEL_edc0b8b9279b408ab42eb030241c292e",
            "max": 10,
            "min": -10,
            "orientation": "horizontal",
            "readout": true,
            "readout_format": ".2f",
            "step": 0.5,
            "style": "IPY_MODEL_e36c6ad82ad042c2bea307c45a022e93",
            "value": 0
          }
        },
        "7110bd19c3914aca9c617dafeb8be4d8": {
          "model_module": "@jupyter-widgets/output",
          "model_name": "OutputModel",
          "model_module_version": "1.0.0",
          "state": {
            "_dom_classes": [],
            "_model_module": "@jupyter-widgets/output",
            "_model_module_version": "1.0.0",
            "_model_name": "OutputModel",
            "_view_count": null,
            "_view_module": "@jupyter-widgets/output",
            "_view_module_version": "1.0.0",
            "_view_name": "OutputView",
            "layout": "IPY_MODEL_b94e2496eacd48daabd5adb021349b55",
            "msg_id": "",
            "outputs": [
              {
                "output_type": "display_data",
                "data": {
                  "text/plain": "<Figure size 1000x600 with 1 Axes>",
                  "image/png": "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\n"
                },
                "metadata": {}
              }
            ]
          }
        },
        "72dcac2c58ea471c943e4156a15e4f64": {
          "model_module": "@jupyter-widgets/base",
          "model_name": "LayoutModel",
          "model_module_version": "1.2.0",
          "state": {
            "_model_module": "@jupyter-widgets/base",
            "_model_module_version": "1.2.0",
            "_model_name": "LayoutModel",
            "_view_count": null,
            "_view_module": "@jupyter-widgets/base",
            "_view_module_version": "1.2.0",
            "_view_name": "LayoutView",
            "align_content": null,
            "align_items": null,
            "align_self": null,
            "border": null,
            "bottom": null,
            "display": null,
            "flex": null,
            "flex_flow": null,
            "grid_area": null,
            "grid_auto_columns": null,
            "grid_auto_flow": null,
            "grid_auto_rows": null,
            "grid_column": null,
            "grid_gap": null,
            "grid_row": null,
            "grid_template_areas": null,
            "grid_template_columns": null,
            "grid_template_rows": null,
            "height": null,
            "justify_content": null,
            "justify_items": null,
            "left": null,
            "margin": null,
            "max_height": null,
            "max_width": null,
            "min_height": null,
            "min_width": null,
            "object_fit": null,
            "object_position": null,
            "order": null,
            "overflow": null,
            "overflow_x": null,
            "overflow_y": null,
            "padding": null,
            "right": null,
            "top": null,
            "visibility": null,
            "width": null
          }
        },
        "c0c2e6d656ed42d1a84296c1d97adcc9": {
          "model_module": "@jupyter-widgets/base",
          "model_name": "LayoutModel",
          "model_module_version": "1.2.0",
          "state": {
            "_model_module": "@jupyter-widgets/base",
            "_model_module_version": "1.2.0",
            "_model_name": "LayoutModel",
            "_view_count": null,
            "_view_module": "@jupyter-widgets/base",
            "_view_module_version": "1.2.0",
            "_view_name": "LayoutView",
            "align_content": null,
            "align_items": null,
            "align_self": null,
            "border": null,
            "bottom": null,
            "display": null,
            "flex": null,
            "flex_flow": null,
            "grid_area": null,
            "grid_auto_columns": null,
            "grid_auto_flow": null,
            "grid_auto_rows": null,
            "grid_column": null,
            "grid_gap": null,
            "grid_row": null,
            "grid_template_areas": null,
            "grid_template_columns": null,
            "grid_template_rows": null,
            "height": "50px",
            "justify_content": null,
            "justify_items": null,
            "left": null,
            "margin": null,
            "max_height": null,
            "max_width": null,
            "min_height": null,
            "min_width": null,
            "object_fit": null,
            "object_position": null,
            "order": null,
            "overflow": null,
            "overflow_x": null,
            "overflow_y": null,
            "padding": null,
            "right": null,
            "top": null,
            "visibility": null,
            "width": "500px"
          }
        },
        "e542d1b3b16140709976dd0715a6fe1f": {
          "model_module": "@jupyter-widgets/controls",
          "model_name": "SliderStyleModel",
          "model_module_version": "1.5.0",
          "state": {
            "_model_module": "@jupyter-widgets/controls",
            "_model_module_version": "1.5.0",
            "_model_name": "SliderStyleModel",
            "_view_count": null,
            "_view_module": "@jupyter-widgets/base",
            "_view_module_version": "1.2.0",
            "_view_name": "StyleView",
            "description_width": "",
            "handle_color": null
          }
        },
        "f89af11e57c1485097d32b35b4c2e6c6": {
          "model_module": "@jupyter-widgets/base",
          "model_name": "LayoutModel",
          "model_module_version": "1.2.0",
          "state": {
            "_model_module": "@jupyter-widgets/base",
            "_model_module_version": "1.2.0",
            "_model_name": "LayoutModel",
            "_view_count": null,
            "_view_module": "@jupyter-widgets/base",
            "_view_module_version": "1.2.0",
            "_view_name": "LayoutView",
            "align_content": null,
            "align_items": null,
            "align_self": null,
            "border": null,
            "bottom": null,
            "display": null,
            "flex": null,
            "flex_flow": null,
            "grid_area": null,
            "grid_auto_columns": null,
            "grid_auto_flow": null,
            "grid_auto_rows": null,
            "grid_column": null,
            "grid_gap": null,
            "grid_row": null,
            "grid_template_areas": null,
            "grid_template_columns": null,
            "grid_template_rows": null,
            "height": "50px",
            "justify_content": null,
            "justify_items": null,
            "left": null,
            "margin": null,
            "max_height": null,
            "max_width": null,
            "min_height": null,
            "min_width": null,
            "object_fit": null,
            "object_position": null,
            "order": null,
            "overflow": null,
            "overflow_x": null,
            "overflow_y": null,
            "padding": null,
            "right": null,
            "top": null,
            "visibility": null,
            "width": "500px"
          }
        },
        "5fa2bc27956e48c5bec9889968e2f88b": {
          "model_module": "@jupyter-widgets/controls",
          "model_name": "SliderStyleModel",
          "model_module_version": "1.5.0",
          "state": {
            "_model_module": "@jupyter-widgets/controls",
            "_model_module_version": "1.5.0",
            "_model_name": "SliderStyleModel",
            "_view_count": null,
            "_view_module": "@jupyter-widgets/base",
            "_view_module_version": "1.2.0",
            "_view_name": "StyleView",
            "description_width": "",
            "handle_color": null
          }
        },
        "edc0b8b9279b408ab42eb030241c292e": {
          "model_module": "@jupyter-widgets/base",
          "model_name": "LayoutModel",
          "model_module_version": "1.2.0",
          "state": {
            "_model_module": "@jupyter-widgets/base",
            "_model_module_version": "1.2.0",
            "_model_name": "LayoutModel",
            "_view_count": null,
            "_view_module": "@jupyter-widgets/base",
            "_view_module_version": "1.2.0",
            "_view_name": "LayoutView",
            "align_content": null,
            "align_items": null,
            "align_self": null,
            "border": null,
            "bottom": null,
            "display": null,
            "flex": null,
            "flex_flow": null,
            "grid_area": null,
            "grid_auto_columns": null,
            "grid_auto_flow": null,
            "grid_auto_rows": null,
            "grid_column": null,
            "grid_gap": null,
            "grid_row": null,
            "grid_template_areas": null,
            "grid_template_columns": null,
            "grid_template_rows": null,
            "height": "50px",
            "justify_content": null,
            "justify_items": null,
            "left": null,
            "margin": null,
            "max_height": null,
            "max_width": null,
            "min_height": null,
            "min_width": null,
            "object_fit": null,
            "object_position": null,
            "order": null,
            "overflow": null,
            "overflow_x": null,
            "overflow_y": null,
            "padding": null,
            "right": null,
            "top": null,
            "visibility": null,
            "width": "500px"
          }
        },
        "e36c6ad82ad042c2bea307c45a022e93": {
          "model_module": "@jupyter-widgets/controls",
          "model_name": "SliderStyleModel",
          "model_module_version": "1.5.0",
          "state": {
            "_model_module": "@jupyter-widgets/controls",
            "_model_module_version": "1.5.0",
            "_model_name": "SliderStyleModel",
            "_view_count": null,
            "_view_module": "@jupyter-widgets/base",
            "_view_module_version": "1.2.0",
            "_view_name": "StyleView",
            "description_width": "",
            "handle_color": null
          }
        },
        "b94e2496eacd48daabd5adb021349b55": {
          "model_module": "@jupyter-widgets/base",
          "model_name": "LayoutModel",
          "model_module_version": "1.2.0",
          "state": {
            "_model_module": "@jupyter-widgets/base",
            "_model_module_version": "1.2.0",
            "_model_name": "LayoutModel",
            "_view_count": null,
            "_view_module": "@jupyter-widgets/base",
            "_view_module_version": "1.2.0",
            "_view_name": "LayoutView",
            "align_content": null,
            "align_items": null,
            "align_self": null,
            "border": null,
            "bottom": null,
            "display": null,
            "flex": null,
            "flex_flow": null,
            "grid_area": null,
            "grid_auto_columns": null,
            "grid_auto_flow": null,
            "grid_auto_rows": null,
            "grid_column": null,
            "grid_gap": null,
            "grid_row": null,
            "grid_template_areas": null,
            "grid_template_columns": null,
            "grid_template_rows": null,
            "height": null,
            "justify_content": null,
            "justify_items": null,
            "left": null,
            "margin": null,
            "max_height": null,
            "max_width": null,
            "min_height": null,
            "min_width": null,
            "object_fit": null,
            "object_position": null,
            "order": null,
            "overflow": null,
            "overflow_x": null,
            "overflow_y": null,
            "padding": null,
            "right": null,
            "top": null,
            "visibility": null,
            "width": null
          }
        }
      }
    }
  },
  "nbformat": 4,
  "nbformat_minor": 5
}