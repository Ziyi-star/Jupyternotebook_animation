{
  "cells": [
    {
      "cell_type": "code",
      "execution_count": null,
      "id": "a0058052-66a3-4593-9c80-83ba8abfe3f7",
      "metadata": {
        "id": "a0058052-66a3-4593-9c80-83ba8abfe3f7"
      },
      "outputs": [],
      "source": [
        "import numpy as np\n",
        "import matplotlib.pyplot as plt\n",
        "import ipywidgets as widgets\n",
        "from ipywidgets import interact"
      ]
    },
    {
      "cell_type": "code",
      "execution_count": null,
      "id": "dea6dd08",
      "metadata": {
        "id": "dea6dd08"
      },
      "outputs": [],
      "source": [
        "def f(x):\n",
        "    return np.where(x <= 0, np.sin(x), np.cos(x))"
      ]
    },
    {
      "cell_type": "code",
      "execution_count": null,
      "id": "5ba067c8",
      "metadata": {
        "id": "5ba067c8"
      },
      "outputs": [],
      "source": [
        "def plot_epsilon_delta(epsilon, delta,x0):\n",
        "\n",
        "    y0=f(x0)\n",
        "\n",
        "    x = np.linspace(-10, 10, 1000)\n",
        "    y = f(x)\n",
        "\n",
        "    plt.figure(figsize=(12, 8))\n",
        "\n",
        "    # Plot the function\n",
        "    plt.plot(x, y, label='f(x)', color='blue',alpha=0.7)\n",
        "\n",
        "    plt.plot(x0, y0, 'o', color='orange', label='Point(x0, f(x0))')\n",
        "\n",
        "    # Fill the horizontal band: f(x0) ± epsilon\n",
        "    plt.fill_between(x, y0 - epsilon, y0 + epsilon,\n",
        "                        color='orange', alpha=0.2,\n",
        "                        label=r'$\\pm\\epsilon$-band')\n",
        "\n",
        "\n",
        "    # Fill the vertical band: x0 ± delta\n",
        "    plt.axvspan(x0 - delta, x0 + delta,\n",
        "                color='purple', alpha=0.2,\n",
        "                label=r'$\\pm\\delta$-band')\n",
        "\n",
        "\n",
        "    # Axis lines etc.\n",
        "    #x,y axis\n",
        "    plt.axhline(0, color='black', linewidth=0.5)\n",
        "    plt.axvline(0, color='black', linewidth=0.5)\n",
        "    plt.xlim([-10, 10])\n",
        "    plt.ylim([-2, 2])\n",
        "    plt.xlabel('x')\n",
        "    plt.ylabel('f(x)')\n",
        "    plt.legend(loc='upper right',fontsize=15)\n",
        "    plt.show()\n"
      ]
    },
    {
      "cell_type": "code",
      "execution_count": null,
      "id": "886a56ef-95bb-4999-9b88-7fb8b2595473",
      "metadata": {
        "id": "886a56ef-95bb-4999-9b88-7fb8b2595473",
        "outputId": "07116b27-0ada-4d0e-d838-bdaa16df74cd",
        "colab": {
          "referenced_widgets": [
            "dedb9fb54fcc4af893d96f53c9b6a867"
          ]
        }
      },
      "outputs": [
        {
          "data": {
            "application/vnd.jupyter.widget-view+json": {
              "model_id": "dedb9fb54fcc4af893d96f53c9b6a867",
              "version_major": 2,
              "version_minor": 0
            },
            "text/plain": [
              "interactive(children=(FloatSlider(value=1.0, description='epsilon', layout=Layout(height='50px', width='500px'…"
            ]
          },
          "metadata": {},
          "output_type": "display_data"
        }
      ],
      "source": [
        "# Create interactive sliders for epsilon, delta, and x0\n",
        "interact(\n",
        "    plot_epsilon_delta,\n",
        "    epsilon=widgets.FloatSlider(value=1.0, min=0.0, max=2.0, step=0.1,layout=widgets.Layout(width='500px', height='50px')),\n",
        "    delta=widgets.FloatSlider(value=1.0, min=0.0, max=2.0, step=0.1,layout=widgets.Layout(width='500px', height='50px')),\n",
        "    x0=widgets.FloatSlider(value=0.0, min=-10.0, max=10.0, step=0.5,layout=widgets.Layout(width='500px', height='50px'))\n",
        ");"
      ]
    },
    {
      "cell_type": "code",
      "execution_count": null,
      "id": "05aeef0f-77f2-4fd9-9b41-fc9ecb16e826",
      "metadata": {
        "id": "05aeef0f-77f2-4fd9-9b41-fc9ecb16e826"
      },
      "outputs": [],
      "source": []
    }
  ],
  "metadata": {
    "kernelspec": {
      "display_name": "base",
      "language": "python",
      "name": "python3"
    },
    "language_info": {
      "codemirror_mode": {
        "name": "ipython",
        "version": 3
      },
      "file_extension": ".py",
      "mimetype": "text/x-python",
      "name": "python",
      "nbconvert_exporter": "python",
      "pygments_lexer": "ipython3",
      "version": "3.12.4"
    },
    "colab": {
      "provenance": []
    }
  },
  "nbformat": 4,
  "nbformat_minor": 5
}