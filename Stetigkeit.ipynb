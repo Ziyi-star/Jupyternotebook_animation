{
  "cells": [
    {
      "cell_type": "markdown",
      "metadata": {
        "id": "view-in-github",
        "colab_type": "text"
      },
      "source": [
        "<a href=\"https://colab.research.google.com/github/Ziyi-star/Jupyternotebook_animation/blob/main/Stetigkeit.ipynb\" target=\"_parent\"><img src=\"https://colab.research.google.com/assets/colab-badge.svg\" alt=\"Open In Colab\"/></a>"
      ]
    },
    {
      "cell_type": "code",
      "execution_count": 20,
      "id": "a0058052-66a3-4593-9c80-83ba8abfe3f7",
      "metadata": {
        "id": "a0058052-66a3-4593-9c80-83ba8abfe3f7"
      },
      "outputs": [],
      "source": [
        "import numpy as np\n",
        "import matplotlib.pyplot as plt\n",
        "import ipywidgets as widgets\n",
        "from ipywidgets import interact"
      ]
    },
    {
      "cell_type": "code",
      "execution_count": 21,
      "id": "dea6dd08",
      "metadata": {
        "id": "dea6dd08"
      },
      "outputs": [],
      "source": [
        "def f(x):\n",
        "    return np.where(x <= 0, np.sin(x), np.cos(x))"
      ]
    },
    {
      "cell_type": "code",
      "execution_count": 22,
      "id": "5ba067c8",
      "metadata": {
        "id": "5ba067c8"
      },
      "outputs": [],
      "source": [
        "def plot_epsilon_delta(epsilon, delta,x0):\n",
        "\n",
        "    y0=f(x0)\n",
        "\n",
        "    x = np.linspace(-10, 10, 1000)\n",
        "    y = f(x)\n",
        "\n",
        "    plt.figure(figsize=(10, 6))\n",
        "\n",
        "    # Plot the function\n",
        "    plt.plot(x, y, label='f(x)', color='blue',alpha=0.7)\n",
        "\n",
        "    plt.plot(x0, y0, 'o', color='orange', label='Point(x0, f(x0))')\n",
        "\n",
        "    # Fill the horizontal band: f(x0) ± epsilon\n",
        "    plt.fill_between(x, y0 - epsilon, y0 + epsilon,\n",
        "                        color='orange', alpha=0.2,\n",
        "                        label=r'$\\pm\\epsilon$-band')\n",
        "\n",
        "\n",
        "    # Fill the vertical band: x0 ± delta\n",
        "    plt.axvspan(x0 - delta, x0 + delta,\n",
        "                color='purple', alpha=0.2,\n",
        "                label=r'$\\pm\\delta$-band')\n",
        "\n",
        "    # Highlight points in the purple area but not in the yellow area\n",
        "    in_purple_delta = (x >= x0 - delta) & (x <= x0 + delta)\n",
        "    not_in_orange_epsilon = (y < y0 - epsilon) | (y > y0 + epsilon)\n",
        "    highlight = in_purple_delta & not_in_orange_epsilon\n",
        "    plt.scatter(x[highlight], y[highlight], color='red', edgecolor='red', label='In delta but not in epsilon')\n",
        "\n",
        "\n",
        "    # Axis lines etc.\n",
        "    #x,y axis\n",
        "    plt.axhline(0, color='black', linewidth=0.5)\n",
        "    plt.axvline(0, color='black', linewidth=0.5)\n",
        "    plt.xlim([-10, 10])\n",
        "    plt.ylim([-2, 2])\n",
        "    plt.xlabel('x')\n",
        "    plt.ylabel('f(x)')\n",
        "    plt.legend(loc='upper right')\n",
        "    plt.show()\n"
      ]
    },
    {
      "cell_type": "code",
      "execution_count": 24,
      "id": "886a56ef-95bb-4999-9b88-7fb8b2595473",
      "metadata": {
        "id": "886a56ef-95bb-4999-9b88-7fb8b2595473",
        "outputId": "8b2901bb-434f-4b2b-aa8c-d311260c7c69",
        "colab": {
          "base_uri": "https://localhost:8080/",
          "height": 709,
          "referenced_widgets": [
            "a34c98ca29d74d67a611f936bac34412",
            "471d4218875c43e4a48cec1f7a82fcd8",
            "28c116be2ebe4f9681fe01d510ce9fb9",
            "a13189eb834c48239e9413ee2d25c5dd",
            "184e4b1c88004ec395a97fd8d98bb569",
            "f7ec10c64ada43d2ad6cfaf09dc29560",
            "a9cebfee27454988832e8e1402a1b7c1",
            "4a48d411341648b080140bf651c40fd4",
            "decc7b6441104b75b40add68760e53f9",
            "3a131f4251654acd8f44998e1453c1ae",
            "2ac9942ebd264f679ad8a65733a12fb5",
            "a6b8d57f261e484a846cbf5611186615",
            "dd42517943e14abeb8d9e4a7dd8f6305"
          ]
        }
      },
      "outputs": [
        {
          "output_type": "display_data",
          "data": {
            "text/plain": [
              "interactive(children=(FloatSlider(value=1.0, description='epsilon', layout=Layout(height='50px', width='500px'…"
            ],
            "application/vnd.jupyter.widget-view+json": {
              "version_major": 2,
              "version_minor": 0,
              "model_id": "a34c98ca29d74d67a611f936bac34412"
            }
          },
          "metadata": {}
        }
      ],
      "source": [
        "# Create interactive sliders for epsilon, delta, and x0\n",
        "interact(\n",
        "    plot_epsilon_delta,\n",
        "    epsilon=widgets.FloatSlider(value=1.0, min=0.0, max=1.0, step=0.1,layout=widgets.Layout(width='500px', height='50px')),\n",
        "    delta=widgets.FloatSlider(value=1.0, min=0.0, max=2.0, step=0.1,layout=widgets.Layout(width='500px', height='50px')),\n",
        "    x0=widgets.FloatSlider(value=0.0, min=-10.0, max=10.0, step=0.1,layout=widgets.Layout(width='500px', height='50px'))\n",
        ");"
      ]
    },
    {
      "cell_type": "code",
      "execution_count": null,
      "id": "05aeef0f-77f2-4fd9-9b41-fc9ecb16e826",
      "metadata": {
        "id": "05aeef0f-77f2-4fd9-9b41-fc9ecb16e826"
      },
      "outputs": [],
      "source": []
    }
  ],
  "metadata": {
    "kernelspec": {
      "display_name": "Python 3",
      "language": "python",
      "name": "python3"
    },
    "language_info": {
      "codemirror_mode": {
        "name": "ipython",
        "version": 3
      },
      "file_extension": ".py",
      "mimetype": "text/x-python",
      "name": "python",
      "nbconvert_exporter": "python",
      "pygments_lexer": "ipython3",
      "version": "3.12.3"
    },
    "colab": {
      "provenance": [],
      "include_colab_link": true
    },
    "widgets": {
      "application/vnd.jupyter.widget-state+json": {
        "a34c98ca29d74d67a611f936bac34412": {
          "model_module": "@jupyter-widgets/controls",
          "model_name": "VBoxModel",
          "model_module_version": "1.5.0",
          "state": {
            "_dom_classes": [
              "widget-interact"
            ],
            "_model_module": "@jupyter-widgets/controls",
            "_model_module_version": "1.5.0",
            "_model_name": "VBoxModel",
            "_view_count": null,
            "_view_module": "@jupyter-widgets/controls",
            "_view_module_version": "1.5.0",
            "_view_name": "VBoxView",
            "box_style": "",
            "children": [
              "IPY_MODEL_471d4218875c43e4a48cec1f7a82fcd8",
              "IPY_MODEL_28c116be2ebe4f9681fe01d510ce9fb9",
              "IPY_MODEL_a13189eb834c48239e9413ee2d25c5dd",
              "IPY_MODEL_184e4b1c88004ec395a97fd8d98bb569"
            ],
            "layout": "IPY_MODEL_f7ec10c64ada43d2ad6cfaf09dc29560"
          }
        },
        "471d4218875c43e4a48cec1f7a82fcd8": {
          "model_module": "@jupyter-widgets/controls",
          "model_name": "FloatSliderModel",
          "model_module_version": "1.5.0",
          "state": {
            "_dom_classes": [],
            "_model_module": "@jupyter-widgets/controls",
            "_model_module_version": "1.5.0",
            "_model_name": "FloatSliderModel",
            "_view_count": null,
            "_view_module": "@jupyter-widgets/controls",
            "_view_module_version": "1.5.0",
            "_view_name": "FloatSliderView",
            "continuous_update": true,
            "description": "epsilon",
            "description_tooltip": null,
            "disabled": false,
            "layout": "IPY_MODEL_a9cebfee27454988832e8e1402a1b7c1",
            "max": 1,
            "min": 0,
            "orientation": "horizontal",
            "readout": true,
            "readout_format": ".2f",
            "step": 0.1,
            "style": "IPY_MODEL_4a48d411341648b080140bf651c40fd4",
            "value": 1
          }
        },
        "28c116be2ebe4f9681fe01d510ce9fb9": {
          "model_module": "@jupyter-widgets/controls",
          "model_name": "FloatSliderModel",
          "model_module_version": "1.5.0",
          "state": {
            "_dom_classes": [],
            "_model_module": "@jupyter-widgets/controls",
            "_model_module_version": "1.5.0",
            "_model_name": "FloatSliderModel",
            "_view_count": null,
            "_view_module": "@jupyter-widgets/controls",
            "_view_module_version": "1.5.0",
            "_view_name": "FloatSliderView",
            "continuous_update": true,
            "description": "delta",
            "description_tooltip": null,
            "disabled": false,
            "layout": "IPY_MODEL_decc7b6441104b75b40add68760e53f9",
            "max": 2,
            "min": 0,
            "orientation": "horizontal",
            "readout": true,
            "readout_format": ".2f",
            "step": 0.1,
            "style": "IPY_MODEL_3a131f4251654acd8f44998e1453c1ae",
            "value": 1
          }
        },
        "a13189eb834c48239e9413ee2d25c5dd": {
          "model_module": "@jupyter-widgets/controls",
          "model_name": "FloatSliderModel",
          "model_module_version": "1.5.0",
          "state": {
            "_dom_classes": [],
            "_model_module": "@jupyter-widgets/controls",
            "_model_module_version": "1.5.0",
            "_model_name": "FloatSliderModel",
            "_view_count": null,
            "_view_module": "@jupyter-widgets/controls",
            "_view_module_version": "1.5.0",
            "_view_name": "FloatSliderView",
            "continuous_update": true,
            "description": "x0",
            "description_tooltip": null,
            "disabled": false,
            "layout": "IPY_MODEL_2ac9942ebd264f679ad8a65733a12fb5",
            "max": 10,
            "min": -10,
            "orientation": "horizontal",
            "readout": true,
            "readout_format": ".2f",
            "step": 0.1,
            "style": "IPY_MODEL_a6b8d57f261e484a846cbf5611186615",
            "value": 0.2
          }
        },
        "184e4b1c88004ec395a97fd8d98bb569": {
          "model_module": "@jupyter-widgets/output",
          "model_name": "OutputModel",
          "model_module_version": "1.0.0",
          "state": {
            "_dom_classes": [],
            "_model_module": "@jupyter-widgets/output",
            "_model_module_version": "1.0.0",
            "_model_name": "OutputModel",
            "_view_count": null,
            "_view_module": "@jupyter-widgets/output",
            "_view_module_version": "1.0.0",
            "_view_name": "OutputView",
            "layout": "IPY_MODEL_dd42517943e14abeb8d9e4a7dd8f6305",
            "msg_id": "",
            "outputs": [
              {
                "output_type": "display_data",
                "data": {
                  "text/plain": "<Figure size 1000x600 with 1 Axes>",
                  "image/png": "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\n"
                },
                "metadata": {}
              }
            ]
          }
        },
        "f7ec10c64ada43d2ad6cfaf09dc29560": {
          "model_module": "@jupyter-widgets/base",
          "model_name": "LayoutModel",
          "model_module_version": "1.2.0",
          "state": {
            "_model_module": "@jupyter-widgets/base",
            "_model_module_version": "1.2.0",
            "_model_name": "LayoutModel",
            "_view_count": null,
            "_view_module": "@jupyter-widgets/base",
            "_view_module_version": "1.2.0",
            "_view_name": "LayoutView",
            "align_content": null,
            "align_items": null,
            "align_self": null,
            "border": null,
            "bottom": null,
            "display": null,
            "flex": null,
            "flex_flow": null,
            "grid_area": null,
            "grid_auto_columns": null,
            "grid_auto_flow": null,
            "grid_auto_rows": null,
            "grid_column": null,
            "grid_gap": null,
            "grid_row": null,
            "grid_template_areas": null,
            "grid_template_columns": null,
            "grid_template_rows": null,
            "height": null,
            "justify_content": null,
            "justify_items": null,
            "left": null,
            "margin": null,
            "max_height": null,
            "max_width": null,
            "min_height": null,
            "min_width": null,
            "object_fit": null,
            "object_position": null,
            "order": null,
            "overflow": null,
            "overflow_x": null,
            "overflow_y": null,
            "padding": null,
            "right": null,
            "top": null,
            "visibility": null,
            "width": null
          }
        },
        "a9cebfee27454988832e8e1402a1b7c1": {
          "model_module": "@jupyter-widgets/base",
          "model_name": "LayoutModel",
          "model_module_version": "1.2.0",
          "state": {
            "_model_module": "@jupyter-widgets/base",
            "_model_module_version": "1.2.0",
            "_model_name": "LayoutModel",
            "_view_count": null,
            "_view_module": "@jupyter-widgets/base",
            "_view_module_version": "1.2.0",
            "_view_name": "LayoutView",
            "align_content": null,
            "align_items": null,
            "align_self": null,
            "border": null,
            "bottom": null,
            "display": null,
            "flex": null,
            "flex_flow": null,
            "grid_area": null,
            "grid_auto_columns": null,
            "grid_auto_flow": null,
            "grid_auto_rows": null,
            "grid_column": null,
            "grid_gap": null,
            "grid_row": null,
            "grid_template_areas": null,
            "grid_template_columns": null,
            "grid_template_rows": null,
            "height": "50px",
            "justify_content": null,
            "justify_items": null,
            "left": null,
            "margin": null,
            "max_height": null,
            "max_width": null,
            "min_height": null,
            "min_width": null,
            "object_fit": null,
            "object_position": null,
            "order": null,
            "overflow": null,
            "overflow_x": null,
            "overflow_y": null,
            "padding": null,
            "right": null,
            "top": null,
            "visibility": null,
            "width": "500px"
          }
        },
        "4a48d411341648b080140bf651c40fd4": {
          "model_module": "@jupyter-widgets/controls",
          "model_name": "SliderStyleModel",
          "model_module_version": "1.5.0",
          "state": {
            "_model_module": "@jupyter-widgets/controls",
            "_model_module_version": "1.5.0",
            "_model_name": "SliderStyleModel",
            "_view_count": null,
            "_view_module": "@jupyter-widgets/base",
            "_view_module_version": "1.2.0",
            "_view_name": "StyleView",
            "description_width": "",
            "handle_color": null
          }
        },
        "decc7b6441104b75b40add68760e53f9": {
          "model_module": "@jupyter-widgets/base",
          "model_name": "LayoutModel",
          "model_module_version": "1.2.0",
          "state": {
            "_model_module": "@jupyter-widgets/base",
            "_model_module_version": "1.2.0",
            "_model_name": "LayoutModel",
            "_view_count": null,
            "_view_module": "@jupyter-widgets/base",
            "_view_module_version": "1.2.0",
            "_view_name": "LayoutView",
            "align_content": null,
            "align_items": null,
            "align_self": null,
            "border": null,
            "bottom": null,
            "display": null,
            "flex": null,
            "flex_flow": null,
            "grid_area": null,
            "grid_auto_columns": null,
            "grid_auto_flow": null,
            "grid_auto_rows": null,
            "grid_column": null,
            "grid_gap": null,
            "grid_row": null,
            "grid_template_areas": null,
            "grid_template_columns": null,
            "grid_template_rows": null,
            "height": "50px",
            "justify_content": null,
            "justify_items": null,
            "left": null,
            "margin": null,
            "max_height": null,
            "max_width": null,
            "min_height": null,
            "min_width": null,
            "object_fit": null,
            "object_position": null,
            "order": null,
            "overflow": null,
            "overflow_x": null,
            "overflow_y": null,
            "padding": null,
            "right": null,
            "top": null,
            "visibility": null,
            "width": "500px"
          }
        },
        "3a131f4251654acd8f44998e1453c1ae": {
          "model_module": "@jupyter-widgets/controls",
          "model_name": "SliderStyleModel",
          "model_module_version": "1.5.0",
          "state": {
            "_model_module": "@jupyter-widgets/controls",
            "_model_module_version": "1.5.0",
            "_model_name": "SliderStyleModel",
            "_view_count": null,
            "_view_module": "@jupyter-widgets/base",
            "_view_module_version": "1.2.0",
            "_view_name": "StyleView",
            "description_width": "",
            "handle_color": null
          }
        },
        "2ac9942ebd264f679ad8a65733a12fb5": {
          "model_module": "@jupyter-widgets/base",
          "model_name": "LayoutModel",
          "model_module_version": "1.2.0",
          "state": {
            "_model_module": "@jupyter-widgets/base",
            "_model_module_version": "1.2.0",
            "_model_name": "LayoutModel",
            "_view_count": null,
            "_view_module": "@jupyter-widgets/base",
            "_view_module_version": "1.2.0",
            "_view_name": "LayoutView",
            "align_content": null,
            "align_items": null,
            "align_self": null,
            "border": null,
            "bottom": null,
            "display": null,
            "flex": null,
            "flex_flow": null,
            "grid_area": null,
            "grid_auto_columns": null,
            "grid_auto_flow": null,
            "grid_auto_rows": null,
            "grid_column": null,
            "grid_gap": null,
            "grid_row": null,
            "grid_template_areas": null,
            "grid_template_columns": null,
            "grid_template_rows": null,
            "height": "50px",
            "justify_content": null,
            "justify_items": null,
            "left": null,
            "margin": null,
            "max_height": null,
            "max_width": null,
            "min_height": null,
            "min_width": null,
            "object_fit": null,
            "object_position": null,
            "order": null,
            "overflow": null,
            "overflow_x": null,
            "overflow_y": null,
            "padding": null,
            "right": null,
            "top": null,
            "visibility": null,
            "width": "500px"
          }
        },
        "a6b8d57f261e484a846cbf5611186615": {
          "model_module": "@jupyter-widgets/controls",
          "model_name": "SliderStyleModel",
          "model_module_version": "1.5.0",
          "state": {
            "_model_module": "@jupyter-widgets/controls",
            "_model_module_version": "1.5.0",
            "_model_name": "SliderStyleModel",
            "_view_count": null,
            "_view_module": "@jupyter-widgets/base",
            "_view_module_version": "1.2.0",
            "_view_name": "StyleView",
            "description_width": "",
            "handle_color": null
          }
        },
        "dd42517943e14abeb8d9e4a7dd8f6305": {
          "model_module": "@jupyter-widgets/base",
          "model_name": "LayoutModel",
          "model_module_version": "1.2.0",
          "state": {
            "_model_module": "@jupyter-widgets/base",
            "_model_module_version": "1.2.0",
            "_model_name": "LayoutModel",
            "_view_count": null,
            "_view_module": "@jupyter-widgets/base",
            "_view_module_version": "1.2.0",
            "_view_name": "LayoutView",
            "align_content": null,
            "align_items": null,
            "align_self": null,
            "border": null,
            "bottom": null,
            "display": null,
            "flex": null,
            "flex_flow": null,
            "grid_area": null,
            "grid_auto_columns": null,
            "grid_auto_flow": null,
            "grid_auto_rows": null,
            "grid_column": null,
            "grid_gap": null,
            "grid_row": null,
            "grid_template_areas": null,
            "grid_template_columns": null,
            "grid_template_rows": null,
            "height": null,
            "justify_content": null,
            "justify_items": null,
            "left": null,
            "margin": null,
            "max_height": null,
            "max_width": null,
            "min_height": null,
            "min_width": null,
            "object_fit": null,
            "object_position": null,
            "order": null,
            "overflow": null,
            "overflow_x": null,
            "overflow_y": null,
            "padding": null,
            "right": null,
            "top": null,
            "visibility": null,
            "width": null
          }
        }
      }
    }
  },
  "nbformat": 4,
  "nbformat_minor": 5
}