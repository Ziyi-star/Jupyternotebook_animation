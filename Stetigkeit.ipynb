{
 "cells": [
  {
   "cell_type": "code",
   "execution_count": null,
   "id": "a0058052-66a3-4593-9c80-83ba8abfe3f7",
   "metadata": {},
   "outputs": [],
   "source": [
    "import numpy as np\n",
    "import matplotlib.pyplot as plt\n",
    "import ipywidgets as widgets\n",
    "from ipywidgets import interact"
   ]
  },
  {
   "cell_type": "code",
   "execution_count": null,
   "id": "dea6dd08",
   "metadata": {},
   "outputs": [],
   "source": [
    "def f(x):\n",
    "    return np.where(x <= 0, np.sin(x), np.cos(x))"
   ]
  },
  {
   "cell_type": "code",
   "execution_count": null,
   "id": "5ba067c8",
   "metadata": {},
   "outputs": [],
   "source": [
    "def plot_epsilon_delta(epsilon, delta,x0):\n",
    "    \n",
    "    y0=f(x0)\n",
    "\n",
    "    x = np.linspace(-10, 10, 1000)\n",
    "    y = f(x)\n",
    "\n",
    "    plt.figure(figsize=(12, 8))\n",
    "\n",
    "    # Plot the function\n",
    "    plt.plot(x, y, label='f(x)', color='blue',alpha=0.7)\n",
    "\n",
    "    plt.plot(x0, y0, 'o', color='orange', label='Point(x0, f(x0))')\n",
    "\n",
    "    # Fill the horizontal band: f(x0) ± epsilon\n",
    "    plt.fill_between(x, y0 - epsilon, y0 + epsilon,\n",
    "                        color='orange', alpha=0.2,\n",
    "                        label=r'$\\pm\\epsilon$-band')\n",
    "\n",
    "\n",
    "    # Fill the vertical band: x0 ± delta\n",
    "    plt.axvspan(x0 - delta, x0 + delta,\n",
    "                color='purple', alpha=0.2,\n",
    "                label=r'$\\pm\\delta$-band')\n",
    "    \n",
    "    # Highlight points in the purple area but not in the yellow area\n",
    "    in_purple_delta = (x >= x0 - delta) & (x <= x0 + delta)\n",
    "    not_in_orange_epsilon = (y < y0 - epsilon) | (y > y0 + epsilon)\n",
    "    highlight = in_purple_delta & not_in_orange_epsilon\n",
    "    plt.scatter(x[highlight], y[highlight], color='red', edgecolor='red', label='In delta but not in epsilon')\n",
    "\n",
    "\n",
    "    # Axis lines etc.\n",
    "    #x,y axis\n",
    "    plt.axhline(0, color='black', linewidth=0.5)\n",
    "    plt.axvline(0, color='black', linewidth=0.5)\n",
    "    plt.xlim([-10, 10])\n",
    "    plt.ylim([-2, 2])\n",
    "    plt.xlabel('x')\n",
    "    plt.ylabel('f(x)')\n",
    "    plt.legend(loc='upper right',fontsize=15)\n",
    "    plt.show()\n"
   ]
  },
  {
   "cell_type": "code",
   "execution_count": null,
   "id": "886a56ef-95bb-4999-9b88-7fb8b2595473",
   "metadata": {},
   "outputs": [
    {
     "data": {
      "application/vnd.jupyter.widget-view+json": {
       "model_id": "f247d2a5356940b3b9301122c32cd98b",
       "version_major": 2,
       "version_minor": 0
      },
      "text/plain": [
       "interactive(children=(FloatSlider(value=1.0, description='epsilon', layout=Layout(height='20px', width='500px'…"
      ]
     },
     "metadata": {},
     "output_type": "display_data"
    }
   ],
   "source": [
    "# Create interactive sliders for epsilon, delta, and x0\n",
    "interact(\n",
    "    plot_epsilon_delta,\n",
    "    epsilon=widgets.FloatSlider(value=1.0, min=0.0, max=1.0, step=0.1,layout=widgets.Layout(width='500px', height='50px')),\n",
    "    delta=widgets.FloatSlider(value=1.0, min=0.0, max=2.0, step=0.1,layout=widgets.Layout(width='500px', height='50px')),\n",
    "    x0=widgets.FloatSlider(value=0.0, min=-10.0, max=10.0, step=0.5,layout=widgets.Layout(width='500px', height='50px'))\n",
    ");"
   ]
  },
  {
   "cell_type": "code",
   "execution_count": null,
   "id": "05aeef0f-77f2-4fd9-9b41-fc9ecb16e826",
   "metadata": {},
   "outputs": [],
   "source": []
  }
 ],
 "metadata": {
  "kernelspec": {
   "display_name": "Python 3",
   "language": "python",
   "name": "python3"
  },
  "language_info": {
   "codemirror_mode": {
    "name": "ipython",
    "version": 3
   },
   "file_extension": ".py",
   "mimetype": "text/x-python",
   "name": "python",
   "nbconvert_exporter": "python",
   "pygments_lexer": "ipython3",
   "version": "3.12.3"
  }
 },
 "nbformat": 4,
 "nbformat_minor": 5
}
